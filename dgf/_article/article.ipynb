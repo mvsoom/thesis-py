{
 "cells": [
  {
   "cell_type": "markdown",
   "id": "c4c292b6-efd6-4880-96fa-56280bda6b13",
   "metadata": {},
   "source": [
    "# Glottal waveforms and Gaussian processes"
   ]
  },
  {
   "cell_type": "markdown",
   "id": "6e5f2933-7c01-4946-a6b1-0a1ab0f15b73",
   "metadata": {},
   "source": [
    "**Actually, just use the SCABM notebook as an article??? <https://github.com/JuliaPluto/PlutoSliderServer.jl>**\n",
    "\n",
    "## Structure\n",
    "\n",
    "- The bigger picture\n",
    "  * The bigger picture: much knowledge, how to implement\n",
    "  * The bigger picture: use these as priors for generative models in machine learning\n",
    "- Introduce the LF model\n",
    "  * Promote and use our differentiable library\n",
    "- Making a parametric DGF\n",
    "  * Fitting the LF parameters\n",
    "  * Sampling waveforms and getting their logprob\n",
    "  * \"Listen to your prior\"\n",
    "- Making a nonparametric DGF\n",
    "  * Imposing constraints\n",
    "  * Sampling from them\n",
    "  * Infer pulse?"
   ]
  },
  {
   "cell_type": "markdown",
   "id": "750c8e74-3b89-47cc-9ff6-73f3947ce99e",
   "metadata": {},
   "source": [
    "## Interactive widgets to show\n",
    "\n",
    "- Sampling LF models\n",
    "- Sampling trains of LF models\n",
    "- Sample waveforms and show their probabilities\n",
    "- As in `prior/example.ipynb`, we can quantify how many times I have to sample the unconstrained DGF to get one constrained (= 10^D_KL). See lab presentation."
   ]
  },
  {
   "cell_type": "markdown",
   "id": "4412d8fb-6697-4298-91b2-b860704a458f",
   "metadata": {},
   "source": [
    "**See View > Render notebook with Voila to have the side pane.**"
   ]
  },
  {
   "cell_type": "markdown",
   "id": "28889fc1-59e1-4ff7-aa7d-8380606cdead",
   "metadata": {},
   "source": [
    "$$ \\mathcal{GP}(m(t), \\Sigma(t;t')) $$"
   ]
  },
  {
   "cell_type": "markdown",
   "id": "74fcf4dc-dc62-4922-9a87-aa4eeb630b17",
   "metadata": {},
   "source": [
    "## Templates\n",
    "\n",
    "https://voila.readthedocs.io/en/stable/customize.html\n",
    "\n",
    "To use within jupyter lab:\n",
    "````\n",
    "jupyter lab --VoilaConfiguration.template=article\n",
    "````\n",
    "To use in webserver:\n",
    "````\n",
    "voila article.ipynb --template article\n",
    "````\n",
    "I used the ACME theme from here: https://blog.jupyter.org/the-templating-system-of-nbconvert-6-47ea781eacd2. It is just a small variation on the default `lab` template. Templates are at `~/.local/share/jupyter/voila/templates`.\n",
    "\n",
    "For the centering and sizing, we will have to embed in an iframe or style everything at once, because tinkering with the CSS is a nightmare.\n",
    "For now just resize Jupyter pane to the right.\n",
    "\n",
    "I had partial success with copying the CSS in the `.pandoc/styles/*` files to the template files."
   ]
  },
  {
   "cell_type": "markdown",
   "id": "e511ac7b-e614-4cdc-aaf0-a63588bca12c",
   "metadata": {},
   "source": [
    "Test"
   ]
  },
  {
   "cell_type": "code",
   "execution_count": null,
   "id": "12777782-9b91-4bce-a068-66ccdad3f14d",
   "metadata": {},
   "outputs": [],
   "source": []
  }
 ],
 "metadata": {
  "kernelspec": {
   "display_name": "venv",
   "language": "python",
   "name": "venv"
  },
  "language_info": {
   "codemirror_mode": {
    "name": "ipython",
    "version": 3
   },
   "file_extension": ".py",
   "mimetype": "text/x-python",
   "name": "python",
   "nbconvert_exporter": "python",
   "pygments_lexer": "ipython3",
   "version": "3.8.10"
  }
 },
 "nbformat": 4,
 "nbformat_minor": 5
}
