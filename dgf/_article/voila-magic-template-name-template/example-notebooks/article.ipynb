{
 "cells": [
  {
   "cell_type": "markdown",
   "id": "c4c292b6-efd6-4880-96fa-56280bda6b13",
   "metadata": {},
   "source": [
    "# Glottal waveforms and Gaussian processes"
   ]
  },
  {
   "cell_type": "markdown",
   "id": "6e5f2933-7c01-4946-a6b1-0a1ab0f15b73",
   "metadata": {},
   "source": [
    "## Structure\n",
    "\n",
    "- The bigger picture\n",
    "  * The bigger picture: much knowledge, how to implement\n",
    "  * The bigger picture: use these as priors for generative models in machine learning\n",
    "- Introduce the LF model\n",
    "  * Promote and use our differentiable library\n",
    "- Making a parametric DGF\n",
    "  * Fitting the LF parameters\n",
    "  * Sampling waveforms and getting their logprob\n",
    "  * \"Listen to your prior\"\n",
    "- Making a nonparametric DGF\n",
    "  * Imposing constraints\n",
    "  * Sampling from them\n",
    "  * Infer pulse?"
   ]
  },
  {
   "cell_type": "markdown",
   "id": "750c8e74-3b89-47cc-9ff6-73f3947ce99e",
   "metadata": {},
   "source": [
    "## Interactive widgets to show\n",
    "\n",
    "- Sampling LF models\n",
    "- Sampling trains of LF models\n",
    "- Sample waveforms and show their probabilities\n",
    "- As in `prior/example.ipynb`, we can quantify how many times I have to sample the unconstrained DGF to get one constrained (= 10^D_KL). See lab presentation."
   ]
  },
  {
   "cell_type": "markdown",
   "id": "4412d8fb-6697-4298-91b2-b860704a458f",
   "metadata": {},
   "source": [
    "**See View > Render notebook with Voila to have the side pane.**"
   ]
  },
  {
   "cell_type": "markdown",
   "id": "28889fc1-59e1-4ff7-aa7d-8380606cdead",
   "metadata": {},
   "source": [
    "$$ \\mathcal{GP}(m, \\Sigma) $$"
   ]
  },
  {
   "cell_type": "code",
   "execution_count": null,
   "id": "2ec743e8-8371-44e5-866f-2a8827daa321",
   "metadata": {},
   "outputs": [],
   "source": []
  }
 ],
 "metadata": {
  "kernelspec": {
   "display_name": "venv",
   "language": "python",
   "name": "venv"
  },
  "language_info": {
   "codemirror_mode": {
    "name": "ipython",
    "version": 3
   },
   "file_extension": ".py",
   "mimetype": "text/x-python",
   "name": "python",
   "nbconvert_exporter": "python",
   "pygments_lexer": "ipython3",
   "version": "3.8.10"
  }
 },
 "nbformat": 4,
 "nbformat_minor": 5
}
