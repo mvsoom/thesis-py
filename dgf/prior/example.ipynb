{
 "cells": [
  {
   "cell_type": "code",
   "execution_count": 1,
   "metadata": {},
   "outputs": [
    {
     "data": {
      "text/html": [
       "<style type='text/css'>\n",
       ".datatable table.frame { margin-bottom: 0; }\n",
       ".datatable table.frame thead { border-bottom: none; }\n",
       ".datatable table.frame tr.coltypes td {  color: #FFFFFF;  line-height: 6px;  padding: 0 0.5em;}\n",
       ".datatable .bool    { background: #DDDD99; }\n",
       ".datatable .object  { background: #565656; }\n",
       ".datatable .int     { background: #5D9E5D; }\n",
       ".datatable .float   { background: #4040CC; }\n",
       ".datatable .str     { background: #CC4040; }\n",
       ".datatable .time    { background: #40CC40; }\n",
       ".datatable .row_index {  background: var(--jp-border-color3);  border-right: 1px solid var(--jp-border-color0);  color: var(--jp-ui-font-color3);  font-size: 9px;}\n",
       ".datatable .frame tbody td { text-align: left; }\n",
       ".datatable .frame tr.coltypes .row_index {  background: var(--jp-border-color0);}\n",
       ".datatable th:nth-child(2) { padding-left: 12px; }\n",
       ".datatable .hellipsis {  color: var(--jp-cell-editor-border-color);}\n",
       ".datatable .vellipsis {  background: var(--jp-layout-color0);  color: var(--jp-cell-editor-border-color);}\n",
       ".datatable .na {  color: var(--jp-cell-editor-border-color);  font-size: 80%;}\n",
       ".datatable .sp {  opacity: 0.25;}\n",
       ".datatable .footer { font-size: 9px; }\n",
       ".datatable .frame_dimensions {  background: var(--jp-border-color3);  border-top: 1px solid var(--jp-border-color0);  color: var(--jp-ui-font-color3);  display: inline-block;  opacity: 0.6;  padding: 1px 10px 1px 5px;}\n",
       "</style>\n"
      ],
      "text/plain": [
       "<IPython.core.display.HTML object>"
      ]
     },
     "metadata": {},
     "output_type": "display_data"
    }
   ],
   "source": [
    "%run init.ipy\n",
    "from dgf import core\n",
    "from dgf import isokernels\n",
    "from dgf import constants\n",
    "from dgf.prior import lf\n",
    "from dgf.prior import source\n",
    "from lib import lfmodel\n",
    "from lib import klatt\n",
    "\n",
    "import datatable as dt\n",
    "from datatable import f, by, update\n",
    "import scipy.stats\n",
    "\n",
    "fs = 10\n",
    "rng = np.random.default_rng(41587)"
   ]
  },
  {
   "cell_type": "code",
   "execution_count": 2,
   "metadata": {},
   "outputs": [
    {
     "name": "stdout",
     "output_type": "stream",
     "text": [
      "[Memory]8.2s, 0.1min    : Loading get_lf_samples...\n"
     ]
    }
   ],
   "source": [
    "lf_samples = source.get_lf_samples()"
   ]
  },
  {
   "cell_type": "code",
   "execution_count": 3,
   "metadata": {},
   "outputs": [],
   "source": [
    "def plot_dgf(i):\n",
    "    s = lf_samples[i]\n",
    "\n",
    "    p, t, u, log_prob_u = s['p'], s['t'], s['u'], s['log_prob_u']\n",
    "    dt = t[1] - t[0]\n",
    "    plot(t, cumsum(u)*dt)\n",
    "    xlabel('time [msec]')\n",
    "    title(f'log prob = {log_prob_u:.1f}');\n",
    "    show()\n",
    "    \n",
    "def sample_analytical_source():\n",
    "    plot_dgf(randint(len(lf_samples)))\n",
    "    \n",
    "def sample_nonparametric_source(impose_null_integral=True):\n",
    "    T = 7.\n",
    "    N = 300\n",
    "    M = 128\n",
    "    c = 2.25\n",
    "    L = T*c\n",
    "    t, dt = jnp.linspace(-1., T+3, N, retstep=True)\n",
    "\n",
    "    kernel = isokernels.Matern32Kernel\n",
    "    var = 0.5\n",
    "    r = 1/np.pi*2\n",
    "    scale = r*T\n",
    "    \n",
    "    oq = 1 - rand()*.7\n",
    "\n",
    "    Ru = core.kernelmatrix_root_gfd_oq(kernel, var, scale, t, M, T, oq, c, impose_null_integral=impose_null_integral)\n",
    "\n",
    "    a = randn(M)\n",
    "    plot(t, cumsum(Ru @ a)*dt*10);\n",
    "    \n",
    "    log_prob_p = np.sum(scipy.stats.norm.logpdf(a))\n",
    "    \n",
    "    title(f'log prob = {log_prob_p:.1f}');\n",
    "    xlabel('time [msec]')\n",
    "    show()"
   ]
  },
  {
   "cell_type": "code",
   "execution_count": 11,
   "metadata": {},
   "outputs": [
    {
     "data": {
      "image/png": "[encoded data removed]",
      "text/plain": [
       "<Figure size 432x288 with 1 Axes>"
      ]
     },
     "metadata": {
      "needs_background": "light"
     },
     "output_type": "display_data"
    }
   ],
   "source": [
    "sample_analytical_source()"
   ]
  },
  {
   "cell_type": "code",
   "execution_count": 40,
   "metadata": {},
   "outputs": [
    {
     "data": {
      "image/png": "[encoded data removed]",
      "text/plain": [
       "<Figure size 432x288 with 1 Axes>"
      ]
     },
     "metadata": {
      "needs_background": "light"
     },
     "output_type": "display_data"
    }
   ],
   "source": [
    "sample_nonparametric_source(impose_null_integral=False) # Constraint = 3 bans => have to run this cell 1000 times to get one with null integral"
   ]
  },
  {
   "cell_type": "code",
   "execution_count": null,
   "metadata": {},
   "outputs": [],
   "source": []
  }
 ],
 "metadata": {
  "kernelspec": {
   "display_name": "venv",
   "language": "python",
   "name": "venv"
  },
  "language_info": {
   "codemirror_mode": {
    "name": "ipython",
    "version": 3
   },
   "file_extension": ".py",
   "mimetype": "text/x-python",
   "name": "python",
   "nbconvert_exporter": "python",
   "pygments_lexer": "ipython3",
   "version": "3.8.10"
  }
 },
 "nbformat": 4,
 "nbformat_minor": 4
}
