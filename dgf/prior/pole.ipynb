{
 "cells": [
  {
   "cell_type": "markdown",
   "metadata": {},
   "source": [
    "# How to get the poles from Praat\n",
    "\n",
    "Praat actually calls the poles \"formants\" and obtains them from the LPC coefficients using root solving; it has no concept of peak picking.\n",
    "\n",
    "But this means that our estimating of the pole envelope from F1 etc. is valid.\n",
    "\n",
    "It uses the formulas in Fulop (2011, p. 177, (7.13 - 7.14)) to convert the roots to frequencies and bandwidths.\n",
    "\n",
    "It seems that converting to FormantGrid is the best way to extract the frequencies and bandwidths.\n",
    "\n",
    "Keeping all formants can be done when starting from an LPC object.\n",
    "\n",
    "The formants do follow a trajectory structure, as can be seen when drawing a FormantGrid.\n",
    "\n",
    "See `lib/praat.py` to start out.\n",
    "\n",
    "# Formant bandwidths\n",
    "followed the relation bandwidth = 80 + 120*frequency/5000 (Mehta & Wolfe 2015)\n",
    "Better relation: Hawks (1995)"
   ]
  },
  {
   "cell_type": "markdown",
   "metadata": {},
   "source": [
    "See `lib/timit.py` for this TimitClass"
   ]
  },
  {
   "cell_type": "markdown",
   "metadata": {},
   "source": [
    "We can compare F1 truth to Praat estimates only at Praat's estimated GCIs. In this way we can already exclude silent frames etc."
   ]
  },
  {
   "cell_type": "code",
   "execution_count": 2,
   "metadata": {},
   "outputs": [
    {
     "name": "stderr",
     "output_type": "stream",
     "text": [
      "/home/marnix/WRK/thesis/py/init.py:38: UserWarning: External XLA configuration is `XLA_FLAGS=--xla_force_host_platform_device_count=8`\n",
      "  warnings.warn(f'External XLA configuration is `XLA_FLAGS={XLA_FLAGS}`')\n"
     ]
    }
   ],
   "source": [
    "%run init.ipy\n",
    "\n",
    "from lib import praat"
   ]
  },
  {
   "cell_type": "code",
   "execution_count": null,
   "metadata": {},
   "outputs": [],
   "source": []
  }
 ],
 "metadata": {
  "kernelspec": {
   "display_name": "Python 3 (ipykernel)",
   "language": "python",
   "name": "python3"
  },
  "language_info": {
   "codemirror_mode": {
    "name": "ipython",
    "version": 3
   },
   "file_extension": ".py",
   "mimetype": "text/x-python",
   "name": "python",
   "nbconvert_exporter": "python",
   "pygments_lexer": "ipython3",
   "version": "3.8.10"
  }
 },
 "nbformat": 4,
 "nbformat_minor": 4
}
