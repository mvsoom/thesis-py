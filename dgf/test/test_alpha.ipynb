{
 "cells": [
  {
   "cell_type": "markdown",
   "metadata": {},
   "source": [
    "# Plan after Rome\n",
    "\n",
    "## Different parameters\n",
    "\n",
    "- $\\theta$: the parameters controlling the basisfunctions\n",
    "- $\\alpha$: the hyperparameters controlling the $\\theta$\n",
    "- `hyper`: top-level hyperparameters such as `fs`, `t` and the `data`. We need frozendicts `flax.core.frozen_dict.freeze` for this and hashable arrays.\n",
    "\n",
    "## $p(\\theta|\\alpha)$\n",
    "\n",
    "This is actually a GP because the number of pitch periods can be potentially infinite. It is just indexed by integers $(k,l)$ instead of reals $(x,x')$. And it has learnable hyperparameters, and it can be conditioned on Praat estimates. \n",
    "\n",
    "Because we expect $\\theta$ that are further apart (measured in the number of pitch periods $|k-l|$ separating them) to be less correlated, we do use a covariance function which decays as $\\exp{-|k-l|^2/2\\lambda^2}$, where $\\lambda \\in \\alpha$ is a hyperparameter which can be learned from the VTRFormants dataset (see `WRK/corpora`) and $k$ and $l$ index the pitch periods.\n",
    "\n",
    "We only take the bandwidths and frequencies to be correlated, and their correlations can be learned with a [coregionalization kernel](https://gpflow.github.io/GPflow/develop/notebooks/advanced/coregionalisation.html#A-simple-demonstration-of-coregionalization) given observed $\\theta$s from the VTRFormants dataset. Motivation:\n",
    "1. We assume source-filter model, so filter (bandwidths and frequencies) uncoupled from source (pitch periods, variance, scale, open quotient).\n",
    "2. Furthermore, our parametrization is also chosen such that (pitch periods, variance, scale, open quotient) are maximally independent. So we take them to be independent.\n",
    "3. In addition, we do not have any empirical data to train (2.) on.\n",
    "4. We infer the correlations between (bandwidths and frequencies) from F1-F3 and B1 - B3 data from VTRFormants, and use their correlations as a proxy for the correlations for (LPC) poles. Just like we used the empirical $\\log F2/F1$ ratios as empirical data for the Pareto chain, which parametrizes not only formants but also poles.\n",
    "\n",
    "Note that our $p(\\theta|\\alpha)$ is actually a MVN in the **log domain**, which is then further restricted to have hard bounds via `tfb.SoftClip`, which are set theoretically. See `bounded_exp()`. In the log domain our observation noise has a percentual error interpretation.\n",
    "\n",
    "### Other ideas\n",
    "\n",
    "- Learn the GP hyperparameters using the EGG dataset so we can very roughly fit the OQ to the EGG signal and the poles and the pitch periods using Praat already etc. to arrive at a complete training dataset to learn the $\\alpha$ hyperparameters. For this we need to be able to correlate the dGF sufficiently well with the EGG signal. We can maybe use @Alku2002 to estimate OQ.\n",
    "- To calibrate fractional Praat errors ($\\sigma_n^2$ in log space), we can generate synthetic signals and run Praat on it and check the errors.\n",
    "- Learn or set separate GP hyperparameters (mainly $\\lambda$) for the \"source parameters\" (pitch periods, variance, scale, open quotient) (from the TIMITvoiced dataset in `WRK/corpora` -- has pitch period lengths) and for the \"filter parameters\" (bandwidths and frequencies) (from VTRFormants).\n",
    "\n",
    "### General approach\n",
    "\n",
    "- Either we learn $\\alpha = \\alpha^*$ from a dataset and then keep it fixed for inferring $\\theta$ during real work (with MAP or maybe even with nested sampling if the $p(\\theta|\\alpha^*,\\text{Praat estimates})$ is good enough?);\n",
    "- Or we optimize $\\alpha$ and $\\theta$ alternatively with MAP optimization.\n",
    "\n",
    "Both can be seen as MacKay's hyperparameter \"two-stage\" optimization because we already incorprate mass by integrating out the amplitudes. The second option can even be seen as \"triple-stage\" optimization. I think the first option is better because we already condition on the Praat estimates. \n",
    "\n",
    "## Philosophy\n",
    "\n",
    "Incorporating all this prior information about smoothness etc.: we don't need smoothness heuristics to select \"winning\" attemps as in @Barreda2021 and Praat's heuristics -- more like @Mehta2012."
   ]
  },
  {
   "cell_type": "code",
   "execution_count": 1,
   "metadata": {},
   "outputs": [
    {
     "name": "stderr",
     "output_type": "stream",
     "text": [
      "/home/marnix/WRK/thesis/py/init.py:38: UserWarning: External XLA configuration is `XLA_FLAGS=--xla_force_host_platform_device_count=8`\n",
      "  warnings.warn(f'External XLA configuration is `XLA_FLAGS={XLA_FLAGS}`')\n",
      "WARNING:absl:No GPU/TPU found, falling back to CPU. (Set TF_CPP_MIN_LOG_LEVEL=0 and rerun for more info.)\n"
     ]
    }
   ],
   "source": [
    "%run init.ipy\n",
    "import tensorflow_probability.substrates.jax.bijectors as tfb\n",
    "import tensorflow_probability.substrates.jax.distributions as tfd\n",
    "\n",
    "from dgf import isokernels\n",
    "\n",
    "key = jax.random.PRNGKey(12)"
   ]
  },
  {
   "cell_type": "code",
   "execution_count": 2,
   "metadata": {},
   "outputs": [
    {
     "name": "stderr",
     "output_type": "stream",
     "text": [
      "WARNING:root:The use of `check_types` is deprecated and does not have any effect.\n",
      "WARNING:root:The use of `check_types` is deprecated and does not have any effect.\n",
      "WARNING:root:The use of `check_types` is deprecated and does not have any effect.\n",
      "WARNING:root:The use of `check_types` is deprecated and does not have any effect.\n",
      "WARNING:root:The use of `check_types` is deprecated and does not have any effect.\n",
      "WARNING:root:The use of `check_types` is deprecated and does not have any effect.\n",
      "WARNING:root:The use of `check_types` is deprecated and does not have any effect.\n",
      "WARNING:root:The use of `check_types` is deprecated and does not have any effect.\n",
      "WARNING:root:The use of `check_types` is deprecated and does not have any effect.\n"
     ]
    },
    {
     "data": {
      "text/plain": [
       "DeviceArray([8.58430056, 6.83282323, 2.15453249, 2.39243687, 6.23591534,\n",
       "             3.37128556, 5.81306199, 5.63724106, 2.30861479, 4.26262605],            dtype=float64)"
      ]
     },
     "execution_count": 2,
     "metadata": {},
     "output_type": "execute_result"
    }
   ],
   "source": [
    "def bounded_exp(low, high):\n",
    "    low = jnp.float64(low)\n",
    "    high = jnp.float64(high)\n",
    "    return tfb.Chain([tfb.SoftClip(low, high), tfb.Exp()])\n",
    "\n",
    "bounded_exp(2., 10.).forward(log(randn(10)*2 + 5))"
   ]
  },
  {
   "cell_type": "code",
   "execution_count": 3,
   "metadata": {},
   "outputs": [
    {
     "name": "stderr",
     "output_type": "stream",
     "text": [
      "WARNING:root:The use of `check_types` is deprecated and does not have any effect.\n",
      "WARNING:root:The use of `check_types` is deprecated and does not have any effect.\n",
      "WARNING:root:The use of `check_types` is deprecated and does not have any effect.\n",
      "WARNING:root:The use of `check_types` is deprecated and does not have any effect.\n",
      "WARNING:root:The use of `check_types` is deprecated and does not have any effect.\n",
      "WARNING:root:The use of `check_types` is deprecated and does not have any effect.\n",
      "WARNING:root:The use of `check_types` is deprecated and does not have any effect.\n",
      "WARNING:root:The use of `check_types` is deprecated and does not have any effect.\n",
      "WARNING:root:The use of `check_types` is deprecated and does not have any effect.\n",
      "WARNING:root:The use of `check_types` is deprecated and does not have any effect.\n",
      "WARNING:root:The use of `check_types` is deprecated and does not have any effect.\n",
      "WARNING:root:The use of `check_types` is deprecated and does not have any effect.\n",
      "WARNING:root:The use of `check_types` is deprecated and does not have any effect.\n",
      "WARNING:root:The use of `check_types` is deprecated and does not have any effect.\n",
      "WARNING:root:The use of `check_types` is deprecated and does not have any effect.\n",
      "WARNING:root:The use of `check_types` is deprecated and does not have any effect.\n"
     ]
    },
    {
     "name": "stdout",
     "output_type": "stream",
     "text": [
      "[5.29831737 5.43807931 5.52146092 5.34710753]\n"
     ]
    },
    {
     "name": "stderr",
     "output_type": "stream",
     "text": [
      "WARNING:root:The use of `check_types` is deprecated and does not have any effect.\n",
      "WARNING:root:The use of `check_types` is deprecated and does not have any effect.\n",
      "WARNING:root:The use of `check_types` is deprecated and does not have any effect.\n",
      "WARNING:root:The use of `check_types` is deprecated and does not have any effect.\n",
      "WARNING:root:The use of `check_types` is deprecated and does not have any effect.\n",
      "WARNING:root:The use of `check_types` is deprecated and does not have any effect.\n",
      "WARNING:root:The use of `check_types` is deprecated and does not have any effect.\n",
      "WARNING:root:The use of `check_types` is deprecated and does not have any effect.\n",
      "WARNING:root:The use of `check_types` is deprecated and does not have any effect.\n",
      "WARNING:root:The use of `check_types` is deprecated and does not have any effect.\n",
      "WARNING:root:The use of `check_types` is deprecated and does not have any effect.\n",
      "WARNING:root:The use of `check_types` is deprecated and does not have any effect.\n",
      "WARNING:root:The use of `check_types` is deprecated and does not have any effect.\n",
      "WARNING:root:The use of `check_types` is deprecated and does not have any effect.\n",
      "WARNING:root:The use of `check_types` is deprecated and does not have any effect.\n",
      "WARNING:root:The use of `check_types` is deprecated and does not have any effect.\n",
      "WARNING:root:The use of `check_types` is deprecated and does not have any effect.\n",
      "WARNING:root:The use of `check_types` is deprecated and does not have any effect.\n",
      "WARNING:root:The use of `check_types` is deprecated and does not have any effect.\n",
      "WARNING:root:The use of `check_types` is deprecated and does not have any effect.\n",
      "WARNING:root:The use of `check_types` is deprecated and does not have any effect.\n",
      "WARNING:root:The use of `check_types` is deprecated and does not have any effect.\n",
      "WARNING:root:The use of `check_types` is deprecated and does not have any effect.\n",
      "WARNING:root:The use of `check_types` is deprecated and does not have any effect.\n",
      "WARNING:root:The use of `check_types` is deprecated and does not have any effect.\n",
      "WARNING:root:The use of `check_types` is deprecated and does not have any effect.\n",
      "WARNING:root:The use of `check_types` is deprecated and does not have any effect.\n",
      "WARNING:root:The use of `check_types` is deprecated and does not have any effect.\n",
      "WARNING:root:The use of `check_types` is deprecated and does not have any effect.\n",
      "WARNING:root:The use of `check_types` is deprecated and does not have any effect.\n",
      "WARNING:root:The use of `check_types` is deprecated and does not have any effect.\n",
      "WARNING:root:The use of `check_types` is deprecated and does not have any effect.\n",
      "WARNING:root:The use of `check_types` is deprecated and does not have any effect.\n",
      "WARNING:root:The use of `check_types` is deprecated and does not have any effect.\n",
      "WARNING:root:The use of `check_types` is deprecated and does not have any effect.\n",
      "WARNING:root:The use of `check_types` is deprecated and does not have any effect.\n",
      "WARNING:root:The use of `check_types` is deprecated and does not have any effect.\n",
      "WARNING:root:The use of `check_types` is deprecated and does not have any effect.\n",
      "WARNING:root:The use of `check_types` is deprecated and does not have any effect.\n",
      "WARNING:root:The use of `check_types` is deprecated and does not have any effect.\n",
      "WARNING:root:The use of `check_types` is deprecated and does not have any effect.\n",
      "WARNING:root:The use of `check_types` is deprecated and does not have any effect.\n",
      "WARNING:root:The use of `check_types` is deprecated and does not have any effect.\n",
      "WARNING:root:The use of `check_types` is deprecated and does not have any effect.\n",
      "WARNING:root:The use of `check_types` is deprecated and does not have any effect.\n",
      "WARNING:root:The use of `check_types` is deprecated and does not have any effect.\n",
      "WARNING:root:The use of `check_types` is deprecated and does not have any effect.\n",
      "WARNING:root:The use of `check_types` is deprecated and does not have any effect.\n",
      "WARNING:root:The use of `check_types` is deprecated and does not have any effect.\n",
      "WARNING:root:The use of `check_types` is deprecated and does not have any effect.\n",
      "WARNING:root:The use of `check_types` is deprecated and does not have any effect.\n",
      "WARNING:root:The use of `check_types` is deprecated and does not have any effect.\n",
      "WARNING:root:The use of `check_types` is deprecated and does not have any effect.\n",
      "WARNING:root:The use of `check_types` is deprecated and does not have any effect.\n",
      "WARNING:root:The use of `check_types` is deprecated and does not have any effect.\n",
      "WARNING:root:The use of `check_types` is deprecated and does not have any effect.\n",
      "WARNING:root:The use of `check_types` is deprecated and does not have any effect.\n",
      "WARNING:root:The use of `check_types` is deprecated and does not have any effect.\n",
      "WARNING:root:The use of `check_types` is deprecated and does not have any effect.\n",
      "WARNING:root:The use of `check_types` is deprecated and does not have any effect.\n",
      "WARNING:root:The use of `check_types` is deprecated and does not have any effect.\n",
      "WARNING:root:The use of `check_types` is deprecated and does not have any effect.\n",
      "WARNING:root:The use of `check_types` is deprecated and does not have any effect.\n",
      "WARNING:root:The use of `check_types` is deprecated and does not have any effect.\n",
      "WARNING:root:The use of `check_types` is deprecated and does not have any effect.\n",
      "WARNING:root:The use of `check_types` is deprecated and does not have any effect.\n",
      "WARNING:root:The use of `check_types` is deprecated and does not have any effect.\n",
      "WARNING:root:The use of `check_types` is deprecated and does not have any effect.\n",
      "WARNING:root:The use of `check_types` is deprecated and does not have any effect.\n",
      "WARNING:root:The use of `check_types` is deprecated and does not have any effect.\n",
      "WARNING:root:The use of `check_types` is deprecated and does not have any effect.\n",
      "WARNING:root:The use of `check_types` is deprecated and does not have any effect.\n",
      "WARNING:root:The use of `check_types` is deprecated and does not have any effect.\n",
      "WARNING:root:The use of `check_types` is deprecated and does not have any effect.\n",
      "WARNING:root:The use of `check_types` is deprecated and does not have any effect.\n",
      "WARNING:root:The use of `check_types` is deprecated and does not have any effect.\n",
      "WARNING:root:The use of `check_types` is deprecated and does not have any effect.\n",
      "WARNING:root:The use of `check_types` is deprecated and does not have any effect.\n"
     ]
    },
    {
     "data": {
      "text/plain": [
       "(DeviceArray([[ 73.57689891, 192.43618943, 255.72594565, 102.02069503]], dtype=float64),\n",
       " DeviceArray([-21.52762689], dtype=float64))"
      ]
     },
     "execution_count": 3,
     "metadata": {},
     "output_type": "execute_result"
    }
   ],
   "source": [
    "bijector = bounded_exp(50, 450)\n",
    "\n",
    "kernel = isokernels.SqExponentialKernel(1., 6.)\n",
    "index_points = jnp.linspace(0., 20., 4)[:,None]\n",
    "observation_index_points = index_points\n",
    "\n",
    "observations = jnp.array([200., 230., 250., 210.])\n",
    "log_observations = bijector.inverse(observations)\n",
    "print(log_observations)\n",
    "observation_noise_variance = .1 # Praat estimate error in log space\n",
    "\n",
    "log_gp = tfd.GaussianProcessRegressionModel(\n",
    "    kernel,\n",
    "    index_points,\n",
    "    observation_index_points,\n",
    "    log_observations,\n",
    "    observation_noise_variance\n",
    ")\n",
    "\n",
    "gp = tfd.TransformedDistribution(\n",
    "    log_gp,\n",
    "    bijector\n",
    ")\n",
    "\n",
    "key, subkey = jax.random.split(key)\n",
    "x = gp.sample(1, seed=subkey)\n",
    "x, gp.log_prob(x)"
   ]
  },
  {
   "cell_type": "code",
   "execution_count": 4,
   "metadata": {},
   "outputs": [
    {
     "ename": "ModuleNotFoundError",
     "evalue": "No module named 'distrax'",
     "output_type": "error",
     "traceback": [
      "\u001b[0;31m---------------------------------------------------------------------------\u001b[0m",
      "\u001b[0;31mModuleNotFoundError\u001b[0m                       Traceback (most recent call last)",
      "Input \u001b[0;32mIn [4]\u001b[0m, in \u001b[0;36m<cell line: 1>\u001b[0;34m()\u001b[0m\n\u001b[0;32m----> 1\u001b[0m \u001b[38;5;28;01mimport\u001b[39;00m \u001b[38;5;21;01mdistrax\u001b[39;00m\n\u001b[1;32m      3\u001b[0m \u001b[38;5;28;01mclass\u001b[39;00m \u001b[38;5;21;01mMyDistribution\u001b[39;00m(distrax\u001b[38;5;241m.\u001b[39mDistribution):\n\u001b[1;32m      4\u001b[0m     \u001b[38;5;28;01mdef\u001b[39;00m \u001b[38;5;21m__init__\u001b[39m(\u001b[38;5;28mself\u001b[39m):\n",
      "\u001b[0;31mModuleNotFoundError\u001b[0m: No module named 'distrax'"
     ]
    }
   ],
   "source": [
    "import distrax\n",
    "\n",
    "class MyDistribution(distrax.Distribution):\n",
    "    def __init__(self):\n",
    "        super().__init__()\n",
    "\n",
    "    def _sample_n(self, key, n):\n",
    "        samples = ...\n",
    "        return samples\n",
    "\n",
    "    def log_prob(self, value):\n",
    "        log_prob = ...\n",
    "        return log_prob\n",
    "\n",
    "    def event_shape(self):\n",
    "        event_shape = ...\n",
    "        return event_shape\n",
    "\n",
    "    def _sample_n_and_log_prob(self, key, n):\n",
    "        # Optional. Only when more efficient implementation is possible.\n",
    "        samples, log_prob = ...\n",
    "        return samples, log_prob\n",
    "\n",
    "key = jax.random.PRNGKey(1234)\n",
    "\n",
    "distrax_dist = distrax.Normal(0., 1.)\n",
    "wrapped_dist = distrax.to_tfp(distrax_dist)\n",
    "metadist_tfp = tfd.Sample(wrapped_dist, sample_shape=[3])\n",
    "\n",
    "samples = metadist_tfp.sample(seed=key)\n",
    "print(metadist_tfp.log_prob(samples))  # Prints -3.3409896"
   ]
  },
  {
   "cell_type": "code",
   "execution_count": null,
   "metadata": {},
   "outputs": [],
   "source": [
    "isinstance(distrax_dist, distrax.Distribution)"
   ]
  },
  {
   "cell_type": "code",
   "execution_count": null,
   "metadata": {},
   "outputs": [],
   "source": [
    "d = MyDistribution()\n",
    "distrax.to_tfp(d)"
   ]
  },
  {
   "cell_type": "code",
   "execution_count": null,
   "metadata": {},
   "outputs": [],
   "source": [
    "CORRELATED_PARAMS = ('bandwidth', 'frequency')\n",
    "\n",
    "def param_correlation(r, s, c=0.3):\n",
    "    \"\"\"Normalized to have a variance of one\"\"\"\n",
    "    if r == s:\n",
    "        return 1.\n",
    "\n",
    "    if (r in CORRELATED_PARAMS) and (s in CORRELATED_PARAMS):\n",
    "        return c # This should be a coregionalization model: a low rank (rank 3 => trained on F1-F3 and B1-B3) model extendable to 10 or more poles\n",
    "    else:\n",
    "        return 0.\n",
    "\n",
    "def k_period(k, l, variance=1., lengthscale=7.):\n",
    "    return variance*exp(-(k-l)**2/(2*lengthscale)) # One single lengthscale and variance describe the continuity of all the parameters\n",
    "\n",
    "def k(x, y):\n",
    "    r, k = x\n",
    "    s, l = y\n",
    "    return param_correlation(r, s) * k_period(k, l)\n",
    "\n",
    "\n",
    "# Model covariance between two variances that are one pitch period apart\n",
    "x = ('var', 0)\n",
    "y = ('var', 1)\n",
    "k(x, y)"
   ]
  },
  {
   "cell_type": "code",
   "execution_count": null,
   "metadata": {},
   "outputs": [],
   "source": [
    "# Model covariance between two uncorrelated params that are two pitch periods apart\n",
    "x = ('T', 1)\n",
    "y = ('var', 3)\n",
    "k(x, y)"
   ]
  },
  {
   "cell_type": "code",
   "execution_count": null,
   "metadata": {},
   "outputs": [],
   "source": [
    "# Model covariance between two correlated params that are four pitch periods apart\n",
    "x = ('bandwidth', 5)\n",
    "y = ('frequency', 1)\n",
    "k(x, y)"
   ]
  },
  {
   "cell_type": "code",
   "execution_count": null,
   "metadata": {},
   "outputs": [],
   "source": []
  }
 ],
 "metadata": {
  "kernelspec": {
   "display_name": "venv",
   "language": "python",
   "name": "venv"
  },
  "language_info": {
   "codemirror_mode": {
    "name": "ipython",
    "version": 3
   },
   "file_extension": ".py",
   "mimetype": "text/x-python",
   "name": "python",
   "nbconvert_exporter": "python",
   "pygments_lexer": "ipython3",
   "version": "3.8.10"
  }
 },
 "nbformat": 4,
 "nbformat_minor": 4
}
