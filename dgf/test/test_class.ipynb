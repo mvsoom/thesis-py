{
 "cells": [
  {
   "cell_type": "markdown",
   "metadata": {},
   "source": [
    "Quick test of making classes and static hyperparameters work with JAX."
   ]
  },
  {
   "cell_type": "code",
   "execution_count": 1,
   "metadata": {},
   "outputs": [],
   "source": [
    "%run init.ipy\n",
    "from dgf import core\n",
    "from dgf import isokernels"
   ]
  },
  {
   "cell_type": "code",
   "execution_count": 2,
   "metadata": {},
   "outputs": [
    {
     "name": "stderr",
     "output_type": "stream",
     "text": [
      "WARNING:absl:No GPU/TPU found, falling back to CPU. (Set TF_CPP_MIN_LOG_LEVEL=0 and rerun for more info.)\n"
     ]
    },
    {
     "data": {
      "text/plain": [
       "(DeviceArray(0.64361188, dtype=float64),\n",
       " DeviceArray([0.67171805, 0.95815778], dtype=float64))"
      ]
     },
     "execution_count": 2,
     "metadata": {},
     "output_type": "execute_result"
    }
   ],
   "source": [
    "@jax.jit\n",
    "def f(x, s):\n",
    "    return isokernels.CenteredSincKernel(*x).spectral_density(s)\n",
    "\n",
    "x = rand(2)\n",
    "s = rand()\n",
    "jax.value_and_grad(f)(x, s)"
   ]
  },
  {
   "cell_type": "code",
   "execution_count": 3,
   "metadata": {},
   "outputs": [
    {
     "data": {
      "text/plain": [
       "DeviceArray(0.67171805, dtype=float64)"
      ]
     },
     "execution_count": 3,
     "metadata": {},
     "output_type": "execute_result"
    }
   ],
   "source": [
    "e = 1e-5\n",
    "(f([x[0] + e, x[1]], s) - f([x[0], x[1]], s))/e"
   ]
  },
  {
   "cell_type": "code",
   "execution_count": 4,
   "metadata": {},
   "outputs": [
    {
     "data": {
      "text/plain": [
       "DeviceArray(0.95815778, dtype=float64)"
      ]
     },
     "execution_count": 4,
     "metadata": {},
     "output_type": "execute_result"
    }
   ],
   "source": [
    "e = 1e-5\n",
    "(f([x[0], x[1] + e], s) - f([x[0], x[1]], s))/e"
   ]
  },
  {
   "cell_type": "code",
   "execution_count": 5,
   "metadata": {},
   "outputs": [
    {
     "data": {
      "image/png": "[encoded data removed]",
      "text/plain": [
       "<Figure size 432x288 with 1 Axes>"
      ]
     },
     "metadata": {
      "needs_background": "light"
     },
     "output_type": "display_data"
    }
   ],
   "source": [
    "k = isokernels.CenteredSincKernel(*rand(2))\n",
    "\n",
    "n = 1000\n",
    "l = 10\n",
    "X0 = jnp.array([[0.]])\n",
    "X = linspace(-l,l,n).reshape((n,1))\n",
    "plot(X, k.matrix(X0, X).T);"
   ]
  },
  {
   "cell_type": "code",
   "execution_count": 6,
   "metadata": {},
   "outputs": [
    {
     "data": {
      "text/plain": [
       "3.3731458197014668"
      ]
     },
     "execution_count": 6,
     "metadata": {},
     "output_type": "execute_result"
    }
   ],
   "source": [
    "def t(k, x,y):\n",
    "    X = jnp.array([[x]])\n",
    "    Y = jnp.array([[y]])\n",
    "    return float(k.matrix(X, Y))\n",
    "\n",
    "x = -0.87894\n",
    "y = -0.4567\n",
    "v = 12.34865\n",
    "l = 2.687874\n",
    "k = isokernels.CenteredSincKernel\n",
    "\n",
    "t(k(sqrt(v), l), x, y)"
   ]
  },
  {
   "cell_type": "code",
   "execution_count": 7,
   "metadata": {},
   "outputs": [
    {
     "data": {
      "text/plain": [
       "(4898450, 4898332)"
      ]
     },
     "execution_count": 7,
     "metadata": {},
     "output_type": "execute_result"
    }
   ],
   "source": [
    "hash(isokernels.CenteredSincKernel), hash(isokernels.SqExponentialKernel)"
   ]
  },
  {
   "cell_type": "code",
   "execution_count": 8,
   "metadata": {},
   "outputs": [
    {
     "ename": "ModuleNotFoundError",
     "evalue": "No module named 'flax'",
     "output_type": "error",
     "traceback": [
      "\u001b[0;31m---------------------------------------------------------------------------\u001b[0m",
      "\u001b[0;31mModuleNotFoundError\u001b[0m                       Traceback (most recent call last)",
      "Input \u001b[0;32mIn [8]\u001b[0m, in \u001b[0;36m<cell line: 1>\u001b[0;34m()\u001b[0m\n\u001b[0;32m----> 1\u001b[0m \u001b[38;5;28;01mimport\u001b[39;00m \u001b[38;5;21;01mflax\u001b[39;00m\n\u001b[1;32m      3\u001b[0m theta \u001b[38;5;241m=\u001b[39m {\n\u001b[1;32m      4\u001b[0m     \u001b[38;5;124m'\u001b[39m\u001b[38;5;124mvariance\u001b[39m\u001b[38;5;124m'\u001b[39m: \u001b[38;5;241m1.5\u001b[39m,\n\u001b[1;32m      5\u001b[0m     \u001b[38;5;124m'\u001b[39m\u001b[38;5;124mlengthscale\u001b[39m\u001b[38;5;124m'\u001b[39m: jnp\u001b[38;5;241m.\u001b[39mpi\n\u001b[1;32m      6\u001b[0m }\n\u001b[1;32m      8\u001b[0m \u001b[38;5;66;03m# alpha = intermediate\u001b[39;00m\n",
      "\u001b[0;31mModuleNotFoundError\u001b[0m: No module named 'flax'"
     ]
    }
   ],
   "source": [
    "import flax\n",
    "\n",
    "theta = {\n",
    "    'variance': 1.5,\n",
    "    'lengthscale': jnp.pi\n",
    "}\n",
    "\n",
    "# alpha = intermediate\n",
    "\n",
    "hyper = flax.core.frozen_dict.freeze({\n",
    "    'kernel': isokernels.Matern32Kernel,\n",
    "    'hilbert_order': 128,\n",
    "    'time': t\n",
    "})\n",
    "\n",
    "s = 1.896465\n",
    "\n",
    "@partial(jit, static_argnames=\"hyper\")\n",
    "def f(theta, s, hyper):\n",
    "    variance = jnp.sqrt(theta['variance'])\n",
    "    lengthscale = theta['lengthscale']\n",
    "    kernel = hyper['kernel']\n",
    "    return kernel(variance, lengthscale).spectral_density(s)\n",
    "\n",
    "jax.value_and_grad(f)(theta, s, hyper)"
   ]
  },
  {
   "cell_type": "code",
   "execution_count": 9,
   "metadata": {},
   "outputs": [
    {
     "ename": "NameError",
     "evalue": "name 'frozen_dict' is not defined",
     "output_type": "error",
     "traceback": [
      "\u001b[0;31m---------------------------------------------------------------------------\u001b[0m",
      "\u001b[0;31mNameError\u001b[0m                                 Traceback (most recent call last)",
      "Input \u001b[0;32mIn [9]\u001b[0m, in \u001b[0;36m<cell line: 30>\u001b[0;34m()\u001b[0m\n\u001b[1;32m     22\u001b[0m         \u001b[38;5;28;01mreturn\u001b[39;00m Rx \u001b[38;5;241m@\u001b[39m Ry\u001b[38;5;241m.\u001b[39mT \u001b[38;5;66;03m# (len(x), len(y))\u001b[39;00m\n\u001b[1;32m     24\u001b[0m theta \u001b[38;5;241m=\u001b[39m {\n\u001b[1;32m     25\u001b[0m     \u001b[38;5;124m'\u001b[39m\u001b[38;5;124mvar\u001b[39m\u001b[38;5;124m'\u001b[39m: \u001b[38;5;241m1.5\u001b[39m,\n\u001b[1;32m     26\u001b[0m     \u001b[38;5;124m'\u001b[39m\u001b[38;5;124mscale\u001b[39m\u001b[38;5;124m'\u001b[39m: jnp\u001b[38;5;241m.\u001b[39mpi,\n\u001b[1;32m     27\u001b[0m     \u001b[38;5;124m'\u001b[39m\u001b[38;5;124mL\u001b[39m\u001b[38;5;124m'\u001b[39m: \u001b[38;5;241m7.\u001b[39m\n\u001b[1;32m     28\u001b[0m }\n\u001b[0;32m---> 30\u001b[0m hyper \u001b[38;5;241m=\u001b[39m \u001b[43mfrozen_dict\u001b[49m\u001b[38;5;241m.\u001b[39mfreeze({\n\u001b[1;32m     31\u001b[0m     \u001b[38;5;124m'\u001b[39m\u001b[38;5;124mkernel\u001b[39m\u001b[38;5;124m'\u001b[39m: isokernels\u001b[38;5;241m.\u001b[39mMatern32Kernel,\n\u001b[1;32m     32\u001b[0m     \u001b[38;5;124m'\u001b[39m\u001b[38;5;124mM\u001b[39m\u001b[38;5;124m'\u001b[39m: \u001b[38;5;241m128\u001b[39m,\n\u001b[1;32m     33\u001b[0m     \u001b[38;5;124m'\u001b[39m\u001b[38;5;124mt\u001b[39m\u001b[38;5;124m'\u001b[39m: np\u001b[38;5;241m.\u001b[39mlinspace(\u001b[38;5;241m-\u001b[39m\u001b[38;5;241m1.\u001b[39m, \u001b[38;5;241m10.\u001b[39m, \u001b[38;5;241m300\u001b[39m)\n\u001b[1;32m     34\u001b[0m })\n\u001b[1;32m     36\u001b[0m k \u001b[38;5;241m=\u001b[39m HilbertKernel(theta, hyper)\n\u001b[1;32m     37\u001b[0m R \u001b[38;5;241m=\u001b[39m k\u001b[38;5;241m.\u001b[39mkernelmatrix_root(hyper[\u001b[38;5;124m'\u001b[39m\u001b[38;5;124mt\u001b[39m\u001b[38;5;124m'\u001b[39m])\n",
      "\u001b[0;31mNameError\u001b[0m: name 'frozen_dict' is not defined"
     ]
    }
   ],
   "source": [
    "class HilbertKernel:\n",
    "    def __init__(self, theta, hyper):\n",
    "        self.kernel = hyper[\"kernel\"]\n",
    "        self.var = theta[\"var\"]\n",
    "        self.scale = theta[\"scale\"]\n",
    "        self.M = hyper[\"M\"]\n",
    "        self.L = theta[\"L\"]\n",
    "    \n",
    "    def kernelmatrix_root(self, t): # (len(t), M)\n",
    "        return core.kernelmatrix_root_hilbert(\n",
    "            self.kernel,\n",
    "            self.var,\n",
    "            self.scale,\n",
    "            t,\n",
    "            self.M,\n",
    "            self.L\n",
    "        )\n",
    "        \n",
    "    def kernelmatrix(self, x, y):\n",
    "        Rx = self.kernelmatrix_root(x)\n",
    "        Ry = self.kernelmatrix_root(y)\n",
    "        return Rx @ Ry.T # (len(x), len(y))\n",
    "\n",
    "theta = {\n",
    "    'var': 1.5,\n",
    "    'scale': jnp.pi,\n",
    "    'L': 7.\n",
    "}\n",
    "\n",
    "hyper = frozen_dict.freeze({\n",
    "    'kernel': isokernels.Matern32Kernel,\n",
    "    'M': 128,\n",
    "    't': np.linspace(-1., 10., 300)\n",
    "})\n",
    "\n",
    "k = HilbertKernel(theta, hyper)\n",
    "R = k.kernelmatrix_root(hyper['t'])\n",
    "plot(hyper['t'], R[:,:3]);"
   ]
  },
  {
   "cell_type": "code",
   "execution_count": 10,
   "metadata": {},
   "outputs": [
    {
     "ename": "NameError",
     "evalue": "name 'value_and_grad' is not defined",
     "output_type": "error",
     "traceback": [
      "\u001b[0;31m---------------------------------------------------------------------------\u001b[0m",
      "\u001b[0;31mNameError\u001b[0m                                 Traceback (most recent call last)",
      "Input \u001b[0;32mIn [10]\u001b[0m, in \u001b[0;36m<cell line: 7>\u001b[0;34m()\u001b[0m\n\u001b[1;32m      4\u001b[0m     R \u001b[38;5;241m=\u001b[39m k\u001b[38;5;241m.\u001b[39mkernelmatrix_root(hyper[\u001b[38;5;124m'\u001b[39m\u001b[38;5;124mt\u001b[39m\u001b[38;5;124m'\u001b[39m])\n\u001b[1;32m      5\u001b[0m     \u001b[38;5;28;01mreturn\u001b[39;00m jnp\u001b[38;5;241m.\u001b[39msum(R\u001b[38;5;241m.\u001b[39mT \u001b[38;5;241m@\u001b[39m R)\n\u001b[0;32m----> 7\u001b[0m \u001b[43mvalue_and_grad\u001b[49m(testf)(theta, hyper)\n",
      "\u001b[0;31mNameError\u001b[0m: name 'value_and_grad' is not defined"
     ]
    }
   ],
   "source": [
    "#@partial(jit, static_argnames=\"hyper\")\n",
    "def testf(theta, hyper):\n",
    "    k = HilbertKernel(theta, hyper)\n",
    "    R = k.kernelmatrix_root(hyper['t'])\n",
    "    return jnp.sum(R.T @ R)\n",
    "\n",
    "value_and_grad(testf)(theta, hyper)"
   ]
  },
  {
   "cell_type": "code",
   "execution_count": null,
   "metadata": {},
   "outputs": [],
   "source": []
  }
 ],
 "metadata": {
  "kernelspec": {
   "display_name": "venv",
   "language": "python",
   "name": "venv"
  },
  "language_info": {
   "codemirror_mode": {
    "name": "ipython",
    "version": 3
   },
   "file_extension": ".py",
   "mimetype": "text/x-python",
   "name": "python",
   "nbconvert_exporter": "python",
   "pygments_lexer": "ipython3",
   "version": "3.8.10"
  }
 },
 "nbformat": 4,
 "nbformat_minor": 4
}
