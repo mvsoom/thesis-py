{
 "cells": [
  {
   "cell_type": "code",
   "execution_count": 1,
   "id": "3e95bc88-76fc-41e0-bd99-2efc414b3422",
   "metadata": {},
   "outputs": [
    {
     "name": "stderr",
     "output_type": "stream",
     "text": [
      "2023-02-07 15:48:26.152047: W tensorflow/compiler/xla/stream_executor/platform/default/dso_loader.cc:64] Could not load dynamic library 'libnvinfer.so.7'; dlerror: libnvinfer.so.7: cannot open shared object file: No such file or directory\n",
      "2023-02-07 15:48:26.152108: W tensorflow/compiler/xla/stream_executor/platform/default/dso_loader.cc:64] Could not load dynamic library 'libnvinfer_plugin.so.7'; dlerror: libnvinfer_plugin.so.7: cannot open shared object file: No such file or directory\n",
      "2023-02-07 15:48:26.152113: W tensorflow/compiler/tf2tensorrt/utils/py_utils.cc:38] TF-TRT Warning: Cannot dlopen some TensorRT libraries. If you would like to use Nvidia GPU with TensorRT, please make sure the missing libraries mentioned above are installed properly.\n"
     ]
    }
   ],
   "source": [
    "%run init.ipy\n",
    "\n",
    "from dgf.prior import period\n",
    "from dgf.prior import lf\n",
    "from lib import constants\n",
    "from lib import lfmodel\n",
    "from lib import klatt\n",
    "\n",
    "import corner"
   ]
  },
  {
   "cell_type": "code",
   "execution_count": 16,
   "id": "15763f4b-ed17-4737-9a32-f36867b40e14",
   "metadata": {},
   "outputs": [
    {
     "name": "stdout",
     "output_type": "stream",
     "text": [
      "[Memory]663.3s, 11.1min : Loading sample_lf_params...\n",
      "[Memory]663.3s, 11.1min : Loading run_nested...\n"
     ]
    },
    {
     "data": {
      "text/plain": [
       "Text(0.5, 0, 'time (msec)')"
      ]
     },
     "execution_count": 16,
     "metadata": {},
     "output_type": "execute_result"
    },
    {
     "data": {
      "image/png": "[encoded data removed]",
      "text/plain": [
       "<Figure size 432x288 with 1 Axes>"
      ]
     },
     "metadata": {
      "needs_background": "light"
     },
     "output_type": "display_data"
    }
   ],
   "source": [
    "num_pitch_periods = 3\n",
    "seed = jaxkey()\n",
    "\n",
    "fs = 10.\n",
    "\n",
    "prior = lf.generic_params_trajectory_prior(num_pitch_periods)\n",
    "t, u, lp, context = lf.sample_and_log_prob_dgf(\n",
    "    prior, seed, num_pitch_periods, fs=fs, return_full=True\n",
    ")\n",
    "\n",
    "for ti in context['end']:\n",
    "    te = ti/fs\n",
    "    axvline(te)\n",
    "\n",
    "plot(t, u)\n",
    "xlabel(\"time (msec)\")"
   ]
  },
  {
   "cell_type": "code",
   "execution_count": 11,
   "id": "0f886a69-27d9-43ce-8eaf-06484ff68573",
   "metadata": {},
   "outputs": [
    {
     "data": {
      "text/plain": [
       "dict_keys(['p', 'us', 'logls', 'end', 'start'])"
      ]
     },
     "execution_count": 11,
     "metadata": {},
     "output_type": "execute_result"
    }
   ],
   "source": [
    "context.keys()"
   ]
  },
  {
   "cell_type": "code",
   "execution_count": 12,
   "id": "95998a59-4c25-4ee8-af00-c38e080f44bd",
   "metadata": {},
   "outputs": [
    {
     "data": {
      "text/plain": [
       "DeviceArray([ 82, 164, 249], dtype=int64)"
      ]
     },
     "execution_count": 12,
     "metadata": {},
     "output_type": "execute_result"
    }
   ],
   "source": []
  },
  {
   "cell_type": "code",
   "execution_count": 13,
   "id": "4ccc3b70-3930-4dcf-96d7-38579e9b3f8e",
   "metadata": {},
   "outputs": [
    {
     "data": {
      "text/plain": [
       "array([  0,  82, 164])"
      ]
     },
     "execution_count": 13,
     "metadata": {},
     "output_type": "execute_result"
    }
   ],
   "source": [
    "context['start']"
   ]
  },
  {
   "cell_type": "code",
   "execution_count": null,
   "id": "5dacdfdc-51ab-47c8-8354-9e3719e56cc0",
   "metadata": {},
   "outputs": [],
   "source": []
  }
 ],
 "metadata": {
  "kernelspec": {
   "display_name": "venv",
   "language": "python",
   "name": "venv"
  },
  "language_info": {
   "codemirror_mode": {
    "name": "ipython",
    "version": 3
   },
   "file_extension": ".py",
   "mimetype": "text/x-python",
   "name": "python",
   "nbconvert_exporter": "python",
   "pygments_lexer": "ipython3",
   "version": "3.10.7"
  }
 },
 "nbformat": 4,
 "nbformat_minor": 5
}
