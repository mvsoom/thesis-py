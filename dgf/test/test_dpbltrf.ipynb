{
 "cells": [
  {
   "cell_type": "markdown",
   "metadata": {},
   "source": [
    "# Factoring block tridiagonal symmetric positive definite matrices.\n",
    "\n",
    "We implement Intel's algorithm in function `dpbltrf()` below, at https://www.intel.com/content/www/us/en/docs/onemkl/cookbook/2023-2/factor-block-tridiag-symm-pos-def-matrices.html.\n",
    "\n",
    "The block tridiagonal matrix is parametrized as a list of ND blocks on the diagonal and a list of (ND-1) blocks on the subdiagonal (and their transpose on the supdiagonal). The blocks are square and of equal size.\n",
    "\n",
    "If the blocks are of size NB x NB, this reduces complexity to O([ND NB]^3) to O(ND [NB]^3).\n",
    "\n",
    "**Note**: The Intel algorithm (Fortran) works in-place -- Choleskys and linear solves can do that. However, Jax can't, so we didn't bother. You can do it in Python though when using scipy's Cholesky and linear solver rather than the Numpy versions."
   ]
  },
  {
   "cell_type": "code",
   "execution_count": 2,
   "metadata": {},
   "outputs": [
    {
     "data": {
      "text/plain": [
       "array([[0.83016087, 0.31760871, 0.39762778],\n",
       "       [0.31760871, 1.44804131, 1.55298979],\n",
       "       [0.39762778, 1.55298979, 2.24556612]])"
      ]
     },
     "execution_count": 2,
     "metadata": {},
     "output_type": "execute_result"
    }
   ],
   "source": [
    "import numpy as np\n",
    "\n",
    "def make_spd_matrix(n_dim, *, random_state=None):\n",
    "    \"\"\"Generate a random symmetric, positive-definite matrix.\n",
    "\n",
    "    Read more in the :ref:`User Guide <sample_generators>`.\n",
    "\n",
    "    Parameters\n",
    "    ----------\n",
    "    n_dim : int\n",
    "        The matrix dimension.\n",
    "\n",
    "    random_state : int, RandomState instance or None, default=None\n",
    "        Determines random number generation for dataset creation. Pass an int\n",
    "        for reproducible output across multiple function calls.\n",
    "        See :term:`Glossary <random_state>`.\n",
    "\n",
    "    Returns\n",
    "    -------\n",
    "    X : ndarray of shape (n_dim, n_dim)\n",
    "        The random symmetric, positive-definite matrix.\n",
    "\n",
    "    See Also\n",
    "    --------\n",
    "    make_sparse_spd_matrix: Generate a sparse symmetric definite positive matrix.\n",
    "    \"\"\"\n",
    "    A = np.random.random(size=(n_dim, n_dim))\n",
    "    U, _, Vt = np.linalg.svd(np.dot(A.T, A))\n",
    "    X = np.dot(np.dot(U, 1.0 + np.diag(np.random.random(size=n_dim))), Vt)\n",
    "\n",
    "    return X\n",
    "\n",
    "make_spd_matrix(3)"
   ]
  },
  {
   "cell_type": "code",
   "execution_count": 5,
   "metadata": {},
   "outputs": [
    {
     "name": "stdout",
     "output_type": "stream",
     "text": [
      "Original Matrix A:\n",
      "[[ 0.8597252   1.33460823 -0.92816239 -0.38895811  0.          0.        ]\n",
      " [ 1.33460823  0.44478738 -0.1566678   1.7657079   0.          0.        ]\n",
      " [-0.92816239 -0.1566678   0.4067891  -0.63108444  0.76375694  1.90686374]\n",
      " [-0.38895811  1.7657079  -0.63108444  0.1027884  -0.34411442  1.2802755 ]\n",
      " [ 0.          0.          0.76375694 -0.34411442 -0.35267889 -1.23034714]\n",
      " [ 0.          0.          1.90686374  1.2802755  -1.23034714  0.58565449]]\n",
      "\n",
      "Extracted Diagonal Blocks D:\n",
      "[[ 0.8597252   1.33460823  0.4067891  -0.63108444 -0.35267889 -1.23034714]\n",
      " [ 1.33460823  0.44478738 -0.63108444  0.1027884  -1.23034714  0.58565449]]\n",
      "\n",
      "Extracted Sub-diagonal Blocks B:\n",
      "[[-0.92816239 -0.1566678   0.76375694 -0.34411442]\n",
      " [-0.38895811  1.7657079   1.90686374  1.2802755 ]]\n"
     ]
    }
   ],
   "source": [
    "def reconstruct_matrix_A(D, B):\n",
    "    \"\"\"\n",
    "    Reconstructs the original matrix A from factorized diagonal and sub-diagonal blocks.\n",
    "\n",
    "    Parameters:\n",
    "    - D: Factorized diagonal blocks.\n",
    "      Shape: (NB, N * NB)\n",
    "    - B: Factorized sub-diagonal blocks.\n",
    "      Shape: (NB, (N-1) * NB)\n",
    "\n",
    "    Returns:\n",
    "    - A: Reconstructed matrix A.\n",
    "      Shape: (N * NB, N * NB)\n",
    "    \"\"\"\n",
    "    N, NB = D.shape[1] // D.shape[0], D.shape[0]\n",
    "\n",
    "    A = np.zeros((N * NB, N * NB))\n",
    "\n",
    "    # Fill diagonal and sub-diagonal blocks\n",
    "    for k in range(N):\n",
    "        A[k * NB:(k + 1) * NB, k * NB:(k + 1) * NB] = D[:, k * NB:(k + 1) * NB]\n",
    "        if k < N - 1:\n",
    "            A[(k + 1) * NB:(k + 2) * NB, k * NB:(k + 1) * NB] = B[:, k * NB:(k + 1) * NB]\n",
    "\n",
    "    # Fill upper-triangular part by transposing lower-triangular part\n",
    "    A = A + A.T - np.diag(np.diag(A))\n",
    "\n",
    "    return A\n",
    "\n",
    "def extract_D_B_from_A(A, NB):\n",
    "    \"\"\"\n",
    "    Extracts factorized diagonal and sub-diagonal blocks from the original matrix A.\n",
    "\n",
    "    Parameters:\n",
    "    - A: Original matrix A.\n",
    "      Shape: (N * NB, N * NB)\n",
    "    - NB: Size of blocks.\n",
    "\n",
    "    Returns:\n",
    "    - D: Extracted diagonal blocks.\n",
    "      Shape: (NB, N * NB)\n",
    "    - B: Extracted sub-diagonal blocks.\n",
    "      Shape: (NB, (N-1) * NB)\n",
    "    \"\"\"\n",
    "    N = A.shape[0] // NB\n",
    "\n",
    "    D = np.zeros((NB, N * NB))\n",
    "    B = np.zeros((NB, (N - 1) * NB))\n",
    "\n",
    "    # Extract diagonal and sub-diagonal blocks\n",
    "    for k in range(N):\n",
    "        D[:, k * NB:(k + 1) * NB] = A[k * NB:(k + 1) * NB, k * NB:(k + 1) * NB]\n",
    "        if k < N - 1:\n",
    "            B[:, k * NB:(k + 1) * NB] = A[(k + 1) * NB:(k + 2) * NB, k * NB:(k + 1) * NB]\n",
    "\n",
    "    return D, B\n",
    "\n",
    "# Example usage:\n",
    "N = 3\n",
    "NB = 2\n",
    "\n",
    "# Create random positive definite input matrix D\n",
    "D = np.random.randn(NB, N * NB)\n",
    "\n",
    "# Create random input matrix B\n",
    "B = np.random.randn(NB, (N - 1) * NB)\n",
    "\n",
    "# Reconstruct the original matrix A\n",
    "original_A = reconstruct_matrix_A(D, B)\n",
    "\n",
    "# Extract D and B from the original matrix A\n",
    "extracted_D, extracted_B = extract_D_B_from_A(original_A, NB)\n",
    "\n",
    "# Display the results\n",
    "print(\"Original Matrix A:\")\n",
    "print(original_A)\n",
    "print(\"\\nExtracted Diagonal Blocks D:\")\n",
    "print(extracted_D)\n",
    "print(\"\\nExtracted Sub-diagonal Blocks B:\")\n",
    "print(extracted_B)"
   ]
  },
  {
   "cell_type": "code",
   "execution_count": 56,
   "metadata": {},
   "outputs": [
    {
     "data": {
      "text/plain": [
       "(array([[ 1.80932558,  0.94310436,  0.80620673,  0.24765308,  0.        ,\n",
       "          0.        ],\n",
       "        [ 0.94310436,  2.35000467,  1.07480342,  0.67719845,  0.        ,\n",
       "          0.        ],\n",
       "        [ 0.80620673,  1.07480342,  2.74564025,  2.17826138, -1.70562001,\n",
       "          1.0734039 ],\n",
       "        [ 0.24765308,  0.67719845,  2.17826138,  2.28508432, -1.13244158,\n",
       "          0.57563354],\n",
       "        [ 0.        ,  0.        , -1.70562001, -1.13244158,  3.50854882,\n",
       "         -2.46820486],\n",
       "        [ 0.        ,  0.        ,  1.0734039 ,  0.57563354, -2.46820486,\n",
       "          2.26811303]]),\n",
       " array([[ 1.34511174,  0.        ,  0.        ,  0.        ,  0.        ,\n",
       "          0.        ],\n",
       "        [ 0.70113459,  1.36323694,  0.        ,  0.        ,  0.        ,\n",
       "          0.        ],\n",
       "        [ 0.59936041,  0.48015945,  1.46828275,  0.        ,  0.        ,\n",
       "          0.        ],\n",
       "        [ 0.18411339,  0.40206524,  1.2769037 ,  0.67753012,  0.        ,\n",
       "          0.        ],\n",
       "        [ 0.        ,  0.        , -1.16164275,  0.51785793,  1.37512112,\n",
       "          0.        ],\n",
       "        [ 0.        ,  0.        ,  0.73106076, -0.52818411, -0.97842224,\n",
       "          0.70524794]]))"
      ]
     },
     "execution_count": 56,
     "metadata": {},
     "output_type": "execute_result"
    }
   ],
   "source": [
    "def make_random_A(N, NB, maxtries=100):\n",
    "    def tryone():\n",
    "        A = make_spd_matrix(N*NB) + np.eye(N*NB)*1\n",
    "        D, B = extract_D_B_from_A(A, NB)\n",
    "        A = reconstruct_matrix_A(D, B)\n",
    "        return A\n",
    "\n",
    "    tries = 0\n",
    "    while tries < maxtries:\n",
    "        A = tryone()\n",
    "        try:\n",
    "            np.linalg.cholesky(A)\n",
    "        except np.linalg.LinAlgError: # Not pos def\n",
    "            tries += 1\n",
    "            continue\n",
    "        break\n",
    "\n",
    "    return A\n",
    "\n",
    "A = make_random_A(3, 2)\n",
    "A, np.linalg.cholesky(A)"
   ]
  },
  {
   "cell_type": "code",
   "execution_count": 7,
   "metadata": {},
   "outputs": [],
   "source": [
    "def reconstruct_matrix_L(result_D, result_B):\n",
    "    L = np.tril(reconstruct_matrix_A(result_D, result_B))\n",
    "    return L"
   ]
  },
  {
   "cell_type": "code",
   "execution_count": 8,
   "metadata": {},
   "outputs": [
    {
     "name": "stdout",
     "output_type": "stream",
     "text": [
      "[[1 1 1 0 0 0 0 0 0]\n",
      " [1 1 1 0 4 0 0 5 0]\n",
      " [1 1 1 0 0 0 0 0 0]\n",
      " [0 0 0 2 2 2 0 0 0]\n",
      " [0 6 0 2 2 2 0 7 0]\n",
      " [0 0 0 2 2 2 0 0 0]\n",
      " [0 0 0 0 0 0 3 3 3]\n",
      " [0 8 0 0 9 0 3 3 3]\n",
      " [0 0 0 0 0 0 3 3 3]]\n"
     ]
    },
    {
     "data": {
      "text/plain": [
       "array([[[0, 0, 0],\n",
       "        [0, 6, 0],\n",
       "        [0, 0, 0]],\n",
       "\n",
       "       [[0, 0, 0],\n",
       "        [0, 9, 0],\n",
       "        [0, 0, 0]]])"
      ]
     },
     "execution_count": 8,
     "metadata": {},
     "output_type": "execute_result"
    }
   ],
   "source": [
    "import numpy as np\n",
    "import scipy.linalg\n",
    "\n",
    "a1 = np.array([[1,1,1],[1,1,1],[1,1,1]])\n",
    "a2 = np.array([[2,2,2],[2,2,2],[2,2,2]])\n",
    "a3 = np.array([[3,3,3],[3,3,3],[3,3,3]])\n",
    "\n",
    "b = scipy.linalg.block_diag(a1, a2, a3)\n",
    "b[1,4] = 4\n",
    "b[1,7] = 5\n",
    "b[4,1] = 6\n",
    "b[4,7] = 7\n",
    "b[7,1] = 8\n",
    "b[7,4] = 9\n",
    "print(b)\n",
    "\n",
    "def extract_block_diag(a, n, k=0):\n",
    "    a = np.asarray(a)\n",
    "    if a.ndim != 2:\n",
    "        raise ValueError(\"Only 2-D arrays handled\")\n",
    "    if not (n > 0):\n",
    "        raise ValueError(\"Must have n >= 0\")\n",
    "\n",
    "    if k > 0:\n",
    "        a = a[:,n*k:] \n",
    "    else:\n",
    "        a = a[-n*k:]\n",
    "\n",
    "    n_blocks = min(a.shape[0]//n, a.shape[1]//n)\n",
    "\n",
    "    new_shape = (n_blocks, n, n)\n",
    "    new_strides = (n*a.strides[0] + n*a.strides[1],\n",
    "                   a.strides[0], a.strides[1])\n",
    "\n",
    "    return np.lib.stride_tricks.as_strided(a, new_shape, new_strides)\n",
    "\n",
    "extract_block_diag(b, 3, -1)"
   ]
  },
  {
   "cell_type": "code",
   "execution_count": 15,
   "metadata": {},
   "outputs": [],
   "source": [
    "import jax\n",
    "jax.config.update(\"jax_enable_x64\", True)\n",
    "from jax import scipy as jscipy\n",
    "\n",
    "# Factoring block tridiagonal symmetric positive definite matrices.\n",
    "# Inputs are lists of the diagonal and subdiagonal blocks D, B.\n",
    "# Outputs are lists of factorized diagonal and subdiagonal blocks L, C.\n",
    "# We use the following pseudocode:\n",
    "# L1=chol(D1) \n",
    "# do i=1,N-1\n",
    "#      Ci=Bi∙Li-T //trsm()\n",
    "#      Di + 1:=Di + 1 - Ci∙CiT //syrk()\n",
    "#      Li + 1=chol(Di + 1) \n",
    "# end do\n",
    "def dpbltrf(D, B):\n",
    "     ND = len(D)\n",
    "     NB = len(B)\n",
    "     assert ND-1 == NB\n",
    "\n",
    "     L = [None]*ND\n",
    "     C = [None]*NB\n",
    "\n",
    "     L[0] = jscipy.linalg.cholesky(D[0], lower=True)\n",
    "     for i in range(ND-1):\n",
    "          C[i] = jscipy.linalg.solve_triangular(L[i], B[i].T, lower=True).T\n",
    "\n",
    "          # The next line is equivalent to syrk(), but this is not implemented in Numpy or Jax\n",
    "          U = D[i+1] - C[i] @ C[i].T\n",
    "\n",
    "          L[i+1] = jscipy.linalg.cholesky(U, lower=True)\n",
    "     \n",
    "     return L, C"
   ]
  },
  {
   "cell_type": "markdown",
   "metadata": {},
   "source": [
    "**IMPORTANT**: The `make_random_A()` functions are really bad and produce about 1 in 5 a valid matrix for NB = ND = 3, more often for smaller numbers and practically never for larger. If nans appear because the generated matrix are not posdef, keep trying. "
   ]
  },
  {
   "cell_type": "code",
   "execution_count": 63,
   "metadata": {},
   "outputs": [
    {
     "data": {
      "text/plain": [
       "([Array([[ 1.23698005,  0.        ,  0.        ,  0.        ],\n",
       "         [ 0.0072361 ,  1.23375071,  0.        ,  0.        ],\n",
       "         [ 0.11983359, -0.24278432,  1.13423654,  0.        ],\n",
       "         [-0.47298397,  0.47540178,  0.48488581,  1.2906931 ]],      dtype=float64),\n",
       "  Array([[ 1.34840916,  0.        ,  0.        ,  0.        ],\n",
       "         [ 1.22147935,  1.19665677,  0.        ,  0.        ],\n",
       "         [-0.78516359, -1.04880962,  0.76457072,  0.        ],\n",
       "         [-0.41026285, -0.11888511, -0.1681108 ,  1.19610842]],      dtype=float64),\n",
       "  Array([[ 1.1963427 ,  0.        ,  0.        ,  0.        ],\n",
       "         [ 0.1839597 ,  1.13304089,  0.        ,  0.        ],\n",
       "         [ 0.16142017, -0.22434554,  1.11761474,  0.        ],\n",
       "         [ 0.9593464 ,  0.51350413,  0.54431404,  0.39261148]],      dtype=float64)],\n",
       " [Array([[ 0.086724  , -0.07823963, -0.10514684, -0.37162006],\n",
       "         [ 0.23584591, -0.32351296, -0.30338492, -0.70477748],\n",
       "         [-0.18512158,  0.11550208,  0.1209523 ,  0.44607595],\n",
       "         [-0.06613953,  0.03502272, -0.04762636,  0.09939695]],      dtype=float64),\n",
       "  Array([[-0.23649305, -0.07490336, -0.04366928, -0.02700617],\n",
       "         [-0.23089534, -0.49590818, -0.3887154 , -0.11333305],\n",
       "         [-0.21528973, -0.34316939, -0.36080258, -0.03882882],\n",
       "         [-1.24833596, -2.09623604, -0.98376272, -0.13092155]],      dtype=float64)])"
      ]
     },
     "execution_count": 63,
     "metadata": {},
     "output_type": "execute_result"
    }
   ],
   "source": [
    "num_blocks = 3\n",
    "block_size = 4\n",
    "\n",
    "A = make_random_A(num_blocks, block_size)\n",
    "\n",
    "D = extract_block_diag(A, block_size, 0)\n",
    "B = extract_block_diag(A, block_size, -1)\n",
    "\n",
    "L, C = dpbltrf(D, B)\n",
    "\n",
    "L, C"
   ]
  },
  {
   "cell_type": "code",
   "execution_count": 64,
   "metadata": {},
   "outputs": [
    {
     "name": "stdout",
     "output_type": "stream",
     "text": [
      "Norm difference between A and reconstructed A:\n",
      "9.945640348601413e-16\n",
      "Norm difference between A and naieve reconstructed A:\n",
      "2.118625103313206e-15\n"
     ]
    }
   ],
   "source": [
    "Lnew = reconstruct_matrix_L(np.hstack(L), np.hstack(C))\n",
    "Lnaieve = np.linalg.cholesky(A)\n",
    "\n",
    "Anew = Lnew @ Lnew.T\n",
    "Anaieve = Lnaieve @ Lnaieve.T\n",
    "\n",
    "# Print the norm differences\n",
    "print(\"Norm difference between A and reconstructed A:\")\n",
    "print(np.linalg.norm(A - Anew))\n",
    "print(\"Norm difference between A and naieve reconstructed A:\")\n",
    "print(np.linalg.norm(A - Anaieve))"
   ]
  }
 ],
 "metadata": {
  "kernelspec": {
   "display_name": "venv",
   "language": "python",
   "name": "python3"
  },
  "language_info": {
   "codemirror_mode": {
    "name": "ipython",
    "version": 3
   },
   "file_extension": ".py",
   "mimetype": "text/x-python",
   "name": "python",
   "nbconvert_exporter": "python",
   "pygments_lexer": "ipython3",
   "version": "3.10.12"
  }
 },
 "nbformat": 4,
 "nbformat_minor": 2
}
