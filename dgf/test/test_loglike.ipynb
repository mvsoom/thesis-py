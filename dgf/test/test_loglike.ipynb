{
 "cells": [
  {
   "cell_type": "markdown",
   "metadata": {},
   "source": [
    "Testing different ways to calculate the differentiable log likelihood. The one that works is in `core.loglikelihood_hilbert()`."
   ]
  },
  {
   "cell_type": "code",
   "execution_count": 1,
   "metadata": {},
   "outputs": [],
   "source": [
    "%run init.ipy\n",
    "from dgf import core\n",
    "from dgf import isokernels\n",
    "\n",
    "#jax.config.update(\"jax_debug_nans\", True)\n",
    "\n",
    "def translated_kernelmatrix(theta, offset):\n",
    "    poles = core.make_poles(theta['bandwidth'], theta['frequency'])\n",
    "    R = core.kernelmatrix_root_convolved_gfd(\n",
    "        kernel, theta['var'], theta['scale'],\n",
    "        t - offset, M, theta['T'], c, poles\n",
    "    )\n",
    "    return R\n",
    "\n",
    "def _vmap_axis(v, P):\n",
    "    return 0 if v.shape[0] == P else None\n",
    "\n",
    "def kernelmatrix_root(theta, P):\n",
    "    in_axes = {k: _vmap_axis(v, P) for k, v in theta.items()}\n",
    "    if in_axes['T'] == 0:\n",
    "        offset = jnp.cumsum(theta['T'])\n",
    "    else:\n",
    "        offset = jnp.cumsum(jnp.repeat(theta['T'], P))\n",
    "    \n",
    "    R = jax.vmap(translated_kernelmatrix, (in_axes, 0), 0)(theta, offset) # (P, N, M)\n",
    "    R = jnp.hstack(R) # (N, P*M)\n",
    "    return R\n",
    "\n",
    "from IPython.display import Audio\n",
    "\n",
    "def play(y, resample_rate=None, autoplay=True):\n",
    "    \"\"\"resample_rate must be in Hz\"\"\"\n",
    "    rate = int(1000./dt)\n",
    "    if resample_rate:\n",
    "        y = resample(y, int(len(y)*resample_rate/rate))\n",
    "        rate = resample_rate\n",
    "    return Audio(y, rate=rate, autoplay=autoplay, normalize=True)"
   ]
  },
  {
   "cell_type": "code",
   "execution_count": 2,
   "metadata": {},
   "outputs": [
    {
     "name": "stderr",
     "output_type": "stream",
     "text": [
      "WARNING:absl:No GPU/TPU found, falling back to CPU. (Set TF_CPP_MIN_LOG_LEVEL=0 and rerun for more info.)\n"
     ]
    },
    {
     "name": "stdout",
     "output_type": "stream",
     "text": [
      "(910, 320)\n"
     ]
    },
    {
     "data": {
      "text/html": [
       "\n",
       "                <audio  controls=\"controls\" autoplay=\"autoplay\">\n",
       "                    <source src=\"data:audio/wav;base64,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\" type=\"audio/wav\" />\n",
       "                    Your browser does not support the audio element.\n",
       "                </audio>\n",
       "              "
      ],
      "text/plain": [
       "<IPython.lib.display.Audio object>"
      ]
     },
     "execution_count": 2,
     "metadata": {},
     "output_type": "execute_result"
    },
    {
     "data": {
      "image/png": "[encoded data removed]",
      "text/plain": [
       "<Figure size 432x288 with 1 Axes>"
      ]
     },
     "metadata": {
      "needs_background": "light"
     },
     "output_type": "display_data"
    }
   ],
   "source": [
    "P = 10 # number of pitch periods\n",
    "T = 7. # msec\n",
    "fs = 10. # kHz\n",
    "N = int((P+3)*T*fs)\n",
    "\n",
    "# The smoother the kernel, the harder the ridge regression\n",
    "# For SqExponentialKernel and CenteredSincKernel we need sufficiently short scales\n",
    "# The MaternXXKernels seem to work\n",
    "kernel = isokernels.SqExponentialKernel\n",
    "M = 32 #kernel.M\n",
    "c = 2.\n",
    "L = T*c\n",
    "var = 1.\n",
    "r = 1/np.pi*2\n",
    "scale = r*T\n",
    "noise_power = 1e-3\n",
    "t, dt = jnp.linspace(T, (P+3)*T, N, retstep=True)\n",
    "\n",
    "bandwidth = jnp.array([110, 150, 200, 300], dtype=float64)\n",
    "frequency = jnp.array([700, 2500, 2750, 4500], dtype=float64)\n",
    "\n",
    "def jitter(): return jnp.exp(randn(P)/10)\n",
    "\n",
    "theta = {\n",
    "    'T': jnp.ones(P)*T*jitter(), # (P,)\n",
    "    'var': jnp.array([1.]), # Broadcast\n",
    "    'scale': jnp.ones(P)*scale*jitter(),\n",
    "    'bandwidth': bandwidth, # Broadcast\n",
    "    'frequency': jnp.repeat(frequency[None,:], P, axis=0) * jitter()[:,None], # (P,:)\n",
    "    'noise_power': jnp.array([noise_power]) # Broadcast\n",
    "}\n",
    "\n",
    "R = kernelmatrix_root(theta, P)\n",
    "print(R.shape)\n",
    "\n",
    "w = randn(R.shape[1])\n",
    "f = R @ w + sqrt(noise_power)*randn(N)\n",
    "plot(t, f, label=\"data\")\n",
    "legend()\n",
    "\n",
    "# Matern12Kernel is like whispering\n",
    "play(f)"
   ]
  },
  {
   "cell_type": "code",
   "execution_count": 4,
   "metadata": {},
   "outputs": [
    {
     "data": {
      "text/plain": [
       "(DeviceArray(5.50564118, dtype=float64),\n",
       " {'T': DeviceArray([         nan, -10.77923849, -29.80940688, -28.31635639,\n",
       "               -39.38477871, -18.43275622, -61.41261621,  -9.32979389,\n",
       "                 0.45075594,          nan], dtype=float64),\n",
       "  'bandwidth': DeviceArray([-0.00081662,  0.00440256,  0.00154835, -0.00014508], dtype=float64),\n",
       "  'frequency': DeviceArray([[ 3.32155940e-03,  3.13624575e-05,  5.39848810e-05,\n",
       "                 3.32252081e-06],\n",
       "               [-1.76734292e-02, -1.73557669e-04, -1.26268547e-03,\n",
       "                -9.38787996e-05],\n",
       "               [-2.97734936e-05, -7.30319230e-06, -2.00515379e-05,\n",
       "                -1.65387061e-06],\n",
       "               [-1.01518375e-03, -3.78525567e-04,  2.61037439e-04,\n",
       "                 2.59415162e-05],\n",
       "               [ 8.74625282e-03, -3.28683344e-04,  1.49489258e-03,\n",
       "                 1.05277345e-04],\n",
       "               [ 1.18275553e-02,  1.05448657e-03, -1.86535672e-03,\n",
       "                -1.37415948e-04],\n",
       "               [ 1.57635971e-02,  1.52913698e-04,  5.41049919e-03,\n",
       "                 3.88219661e-04],\n",
       "               [ 7.09528477e-03, -7.80975525e-05,  8.45906652e-04,\n",
       "                 6.17951796e-05],\n",
       "               [-2.81542561e-03, -8.43955082e-05, -3.88289536e-05,\n",
       "                 3.88782647e-06],\n",
       "               [-6.43566499e-05,  2.60612929e-05,  1.12750694e-05,\n",
       "                -2.27248558e-06]], dtype=float64),\n",
       "  'noise_power': DeviceArray([-439.02586042], dtype=float64),\n",
       "  'scale': DeviceArray([        nan,  0.06344485, -0.0391256 ,  0.08105302,\n",
       "                0.15643611,  1.45611213,  0.32740477,  0.00344863,\n",
       "                0.13853119,         nan], dtype=float64),\n",
       "  'var': DeviceArray([nan], dtype=float64)})"
      ]
     },
     "execution_count": 4,
     "metadata": {},
     "output_type": "execute_result"
    },
    {
     "data": {
      "image/png": "[encoded data removed]",
      "text/plain": [
       "<Figure size 432x288 with 1 Axes>"
      ]
     },
     "metadata": {
      "needs_background": "light"
     },
     "output_type": "display_data"
    }
   ],
   "source": [
    "# Use ridge regression, own implementation. DO NOT USE: gradients are a bit\n",
    "# more unstable compared to cg() implementation below\n",
    "\n",
    "def fit(theta, data):\n",
    "    noise_power = jnp.squeeze(theta['noise_power'])\n",
    "    R = kernelmatrix_root(theta, P)\n",
    "    pinv = jnp.linalg.inv(R.T @ R + noise_power*jnp.eye(R.shape[1])) @ R.T\n",
    "    x = pinv @ data\n",
    "    return x\n",
    "\n",
    "x = fit(theta, f)\n",
    "plot(t, f, label=\"data\")\n",
    "plot(t, R @ x, label=\"fit\")\n",
    "\n",
    "def fit_norm(theta, data): # Dummy function to differentiate\n",
    "    return jnp.linalg.norm(fit(theta, data))\n",
    "\n",
    "jax.value_and_grad(fit_norm)(theta, f) # Unstable gradient"
   ]
  },
  {
   "cell_type": "code",
   "execution_count": 5,
   "metadata": {},
   "outputs": [
    {
     "name": "stderr",
     "output_type": "stream",
     "text": [
      "/home/marnix/WRK/thesis/py/venv/lib/python3.8/site-packages/jax/_src/tree_util.py:185: FutureWarning: jax.tree_util.tree_multimap() is deprecated. Please use jax.tree_util.tree_map() instead as a drop-in replacement.\n",
      "  warnings.warn('jax.tree_util.tree_multimap() is deprecated. Please use jax.tree_util.tree_map() '\n",
      "/home/marnix/WRK/thesis/py/venv/lib/python3.8/site-packages/jax/_src/tree_util.py:185: FutureWarning: jax.tree_util.tree_multimap() is deprecated. Please use jax.tree_util.tree_map() instead as a drop-in replacement.\n",
      "  warnings.warn('jax.tree_util.tree_multimap() is deprecated. Please use jax.tree_util.tree_map() '\n"
     ]
    },
    {
     "data": {
      "text/plain": [
       "(DeviceArray(5.49245837, dtype=float64),\n",
       " {'T': DeviceArray([        nan, -0.76365794, -0.43076774, -0.49526186,\n",
       "               -0.38975454, -0.66354836, -1.07491791, -0.09598257,\n",
       "               -0.156571  ,         nan], dtype=float64),\n",
       "  'bandwidth': DeviceArray([7.11668230e-03, 1.13582352e-03, 5.57286180e-04,\n",
       "               1.35010482e-06], dtype=float64),\n",
       "  'frequency': DeviceArray([[-2.07089950e-04, -1.22620618e-05,  1.08009588e-05,\n",
       "                 8.77435012e-07],\n",
       "               [-1.69107194e-05, -9.00493029e-05,  1.13575766e-04,\n",
       "                 1.15487592e-05],\n",
       "               [-9.15926316e-06,  1.26747342e-06,  1.00418114e-06,\n",
       "                 7.50631718e-08],\n",
       "               [ 5.30544410e-04, -3.71147592e-05,  3.92877812e-05,\n",
       "                 4.03199061e-06],\n",
       "               [ 4.06347400e-04,  1.36913785e-05,  5.54761449e-05,\n",
       "                 6.71453563e-06],\n",
       "               [ 2.63188716e-04, -1.05281407e-04,  2.25595164e-04,\n",
       "                 2.41768862e-05],\n",
       "               [-1.91535137e-04, -1.91555580e-04,  3.86825725e-04,\n",
       "                 3.45211169e-05],\n",
       "               [ 3.33393940e-04, -1.18977876e-05,  2.61168666e-05,\n",
       "                 2.28731718e-06],\n",
       "               [-2.10931845e-04, -7.54361344e-05,  1.01089439e-04,\n",
       "                 1.00830365e-05],\n",
       "               [ 1.25037961e-05,  9.12997099e-07,  4.71650151e-07,\n",
       "                 3.34507433e-08]], dtype=float64),\n",
       "  'noise_power': DeviceArray([-2281.85191566], dtype=float64),\n",
       "  'scale': DeviceArray([           nan, 1.22923758e-01, 3.76976542e-04,\n",
       "               2.22338967e-02, 1.24825531e-01, 5.89437049e-01,\n",
       "               2.04947767e-01, 3.49452157e-02, 1.28131837e-01,\n",
       "                          nan], dtype=float64),\n",
       "  'var': DeviceArray([nan], dtype=float64)})"
      ]
     },
     "execution_count": 5,
     "metadata": {},
     "output_type": "execute_result"
    },
    {
     "data": {
      "image/png": "[encoded data removed]",
      "text/plain": [
       "<Figure size 432x288 with 1 Axes>"
      ]
     },
     "metadata": {
      "needs_background": "light"
     },
     "output_type": "display_data"
    }
   ],
   "source": [
    "# Now using cg() with implicit differentiation. USE THIS\n",
    "\n",
    "# From https://jaxopt.github.io/stable/auto_examples/implicit_diff/ridge_reg_implicit_diff.html\n",
    "from jaxopt import implicit_diff\n",
    "from jaxopt import linear_solve\n",
    "\n",
    "MAX_CG_ITER = 25 # Reduce if too slow\n",
    "\n",
    "@jax.jit\n",
    "def ridge_objective(params, l2reg, data):\n",
    "    \"\"\"Ridge objective function for implicit differentiation\"\"\"\n",
    "    X_tr, y_tr = data\n",
    "    residuals = X_tr @ params - y_tr\n",
    "    return 0.5 * jnp.mean(residuals ** 2) + 0.5 * l2reg * jnp.sum(params ** 2)\n",
    "\n",
    "@jax.jit\n",
    "@implicit_diff.custom_root(jax.grad(ridge_objective)) # Improves gradient by 1 or 2 orders of magnitude\n",
    "def ridge_solver(init_params, l2reg, data):\n",
    "    \"\"\"Solve ridge regression by conjugate gradient.\"\"\"\n",
    "    X_tr, y_tr = data\n",
    "\n",
    "    # We could use a sparse matrix here...\n",
    "    # See below\n",
    "    def matvec(u):\n",
    "        return X_tr.T @ (X_tr @ u)\n",
    "\n",
    "    # Just a wrapper around jax.scipy.sparse.cg()\n",
    "    return linear_solve.solve_cg(\n",
    "        matvec=matvec,\n",
    "        b=X_tr.T @ y_tr,\n",
    "        ridge=l2reg,\n",
    "        init=init_params,\n",
    "        maxiter=MAX_CG_ITER\n",
    "    )\n",
    "\n",
    "data = (R, f)\n",
    "x = ridge_solver(jnp.zeros(R.shape[1]), noise_power, data)\n",
    "plot(t, f, label=\"data\")\n",
    "plot(t, R @ x, label=\"fit\")\n",
    "\n",
    "@jax.jit\n",
    "def fit_norm_cg(theta, f):\n",
    "    noise_power = jnp.squeeze(theta['noise_power'])\n",
    "    R = kernelmatrix_root(theta, P)\n",
    "    data = (R, f)\n",
    "    x = ridge_solver(jnp.zeros(R.shape[1]), noise_power, data)\n",
    "    return jnp.linalg.norm(x)\n",
    "    \n",
    "jax.value_and_grad(fit_norm_cg)(theta, f) # Stable gradient"
   ]
  },
  {
   "cell_type": "code",
   "execution_count": 7,
   "metadata": {},
   "outputs": [
    {
     "data": {
      "text/plain": [
       "(DeviceArray(5.49283046, dtype=float64),\n",
       " {'T': DeviceArray([        nan, -0.7644362 , -0.43155317, -0.49600263,\n",
       "               -0.39058855, -0.66433144, -1.07567662, -0.0962098 ,\n",
       "               -0.1570051 ,         nan], dtype=float64),\n",
       "  'bandwidth': DeviceArray([7.11607546e-03, 1.13575131e-03, 5.57226762e-04,\n",
       "               1.34182613e-06], dtype=float64),\n",
       "  'frequency': DeviceArray([[-2.07254672e-04, -1.23047067e-05,  1.08547760e-05,\n",
       "                 8.82237709e-07],\n",
       "               [-1.63969834e-05, -8.99270500e-05,  1.13427490e-04,\n",
       "                 1.15328065e-05],\n",
       "               [-9.14589955e-06,  1.26737691e-06,  1.00421717e-06,\n",
       "                 7.50312665e-08],\n",
       "               [ 5.30235832e-04, -3.70688126e-05,  3.92353263e-05,\n",
       "                 4.02650067e-06],\n",
       "               [ 4.06566559e-04,  1.37010022e-05,  5.54565180e-05,\n",
       "                 6.71241021e-06],\n",
       "               [ 2.63541979e-04, -1.05275348e-04,  2.25611453e-04,\n",
       "                 2.41782794e-05],\n",
       "               [-1.91108487e-04, -1.91558884e-04,  3.86853605e-04,\n",
       "                 3.45227537e-05],\n",
       "               [ 3.33625777e-04, -1.18873825e-05,  2.61114491e-05,\n",
       "                 2.28682518e-06],\n",
       "               [-2.10748108e-04, -7.55090396e-05,  1.01213825e-04,\n",
       "                 1.00947088e-05],\n",
       "               [ 1.25062913e-05,  9.13082264e-07,  4.72377789e-07,\n",
       "                 3.33922051e-08]], dtype=float64),\n",
       "  'noise_power': DeviceArray([-2282.68414721], dtype=float64),\n",
       "  'scale': DeviceArray([           nan, 1.22806497e-01, 3.90110601e-04,\n",
       "               2.22299995e-02, 1.24783368e-01, 5.89218730e-01,\n",
       "               2.04867794e-01, 3.49423546e-02, 1.28137434e-01,\n",
       "                          nan], dtype=float64),\n",
       "  'var': DeviceArray([nan], dtype=float64)})"
      ]
     },
     "execution_count": 7,
     "metadata": {},
     "output_type": "execute_result"
    }
   ],
   "source": [
    "# Test sparse version\n",
    "# Does not seem to be faster for P = 50 pitch periods\n",
    "\n",
    "from jax.experimental import sparse\n",
    "\n",
    "NSE = sparse.BCOO.fromdense(R).nse # Slow\n",
    "\n",
    "@jax.jit\n",
    "def fit_norm_cg_sparse(theta, f):\n",
    "    noise_power = jnp.squeeze(theta['noise_power'])\n",
    "    R = kernelmatrix_root(theta, P)\n",
    "    # nse = number of specified elements\n",
    "    # nse must be statically known so we have to estimate from hyperparameters\n",
    "    R = sparse.BCOO.fromdense(R, nse=NSE)\n",
    "    data = (R, f)\n",
    "    x = ridge_solver(jnp.zeros(R.shape[1]), noise_power, data)\n",
    "    return jnp.linalg.norm(x)\n",
    "\n",
    "jax.value_and_grad(fit_norm_cg_sparse)(theta, f) # Stable gradient"
   ]
  },
  {
   "cell_type": "code",
   "execution_count": null,
   "metadata": {},
   "outputs": [],
   "source": [
    "# From the paper\n",
    "@jax.jit\n",
    "def negative_loglike(theta, y):\n",
    "    \"\"\"Implements Section 3.2 in Solin & Särkkä (2020)\"\"\"\n",
    "    noise_power = jnp.squeeze(theta['noise_power'])\n",
    "    R = kernelmatrix_root(theta, P)\n",
    "    \n",
    "    D = jnp.eye(R.shape[1])\n",
    "    Z = noise_power * D + R.T @ R\n",
    "\n",
    "    L, lower = jax.scipy.linalg.cho_factor(Z, lower=True, check_finite=False)\n",
    "\n",
    "    logabsdet_Z = 2*jnp.sum(jnp.log(jnp.diag(L)))\n",
    "\n",
    "    N, M = R.shape\n",
    "    log_Q_term = (N - M)*jnp.log(noise_power) + logabsdet_Z\n",
    "\n",
    "    # Find the least-squares solution to R @ x = y\n",
    "    # This is the same x that solves the normal equations Z @ x = R.T @ y\n",
    "    b = R.T @ y\n",
    "    x = jax.scipy.linalg.cho_solve((L, lower), b, check_finite=False)\n",
    "\n",
    "    bilinear_term = 1/noise_power*(jnp.dot(y, y) - jnp.dot(b, x))\n",
    "\n",
    "    negative_logl = log_Q_term/2 + bilinear_term/2 + N*jnp.log(2*jnp.pi)/2\n",
    "    return negative_logl\n",
    "\n",
    "jax.value_and_grad(negative_loglike)(theta, f)"
   ]
  },
  {
   "cell_type": "code",
   "execution_count": 9,
   "metadata": {},
   "outputs": [
    {
     "name": "stdout",
     "output_type": "stream",
     "text": [
      "False 5 1 11\n"
     ]
    }
   ],
   "source": [
    "import jax.scipy.optimize\n",
    "import jax.flatten_util\n",
    "\n",
    "x_theta, unravel = jax.flatten_util.ravel_pytree(theta)\n",
    "\n",
    "def objective(x):\n",
    "    return negative_loglike(unravel(x), f)\n",
    "\n",
    "# FIXME: all parameters are positive, so we have to use bijectors\n",
    "# FIXME: still need open quotient\n",
    "x0 = x_theta*exp(randn(len(x_theta))/100)\n",
    "res = jax.scipy.optimize.minimize(objective, x0, method=\"bfgs\")\n",
    "\n",
    "# status – integer solver specific return code.\n",
    "# 0 means converged (nominal),\n",
    "# 1=max BFGS iters reached, 3=zoom failed, 4=saddle point reached,\n",
    "# 5=max line search iters reached, -1=undefined\n",
    "print(res.success, res.status, res.nit, res.nfev)"
   ]
  },
  {
   "cell_type": "code",
   "execution_count": 10,
   "metadata": {},
   "outputs": [
    {
     "data": {
      "text/plain": [
       "{'T': DeviceArray([nan, nan, nan, nan, nan, nan, nan, nan, nan, nan], dtype=float64),\n",
       " 'bandwidth': DeviceArray([nan, nan, nan, nan], dtype=float64),\n",
       " 'frequency': DeviceArray([[nan, nan, nan, nan],\n",
       "              [nan, nan, nan, nan],\n",
       "              [nan, nan, nan, nan],\n",
       "              [nan, nan, nan, nan],\n",
       "              [nan, nan, nan, nan],\n",
       "              [nan, nan, nan, nan],\n",
       "              [nan, nan, nan, nan],\n",
       "              [nan, nan, nan, nan],\n",
       "              [nan, nan, nan, nan],\n",
       "              [nan, nan, nan, nan]], dtype=float64),\n",
       " 'noise_power': DeviceArray([nan], dtype=float64),\n",
       " 'scale': DeviceArray([nan, nan, nan, nan, nan, nan, nan, nan, nan, nan], dtype=float64),\n",
       " 'var': DeviceArray([nan], dtype=float64)}"
      ]
     },
     "execution_count": 10,
     "metadata": {},
     "output_type": "execute_result"
    }
   ],
   "source": [
    "unravel(res.x)"
   ]
  },
  {
   "cell_type": "code",
   "execution_count": 11,
   "metadata": {},
   "outputs": [
    {
     "data": {
      "text/plain": [
       "{'T': DeviceArray([6.16205625, 6.13323559, 6.77104945, 7.42003266, 6.44973335,\n",
       "              6.86158428, 6.92839978, 6.88925281, 7.20196628, 6.2107864 ],            dtype=float64),\n",
       " 'var': DeviceArray([1.], dtype=float64),\n",
       " 'scale': DeviceArray([4.7674549 , 4.09735162, 4.8595721 , 5.11972149, 4.16407911,\n",
       "              4.97958588, 3.24960974, 4.36925697, 5.3194636 , 4.93114786],            dtype=float64),\n",
       " 'bandwidth': DeviceArray([110., 150., 200., 300.], dtype=float64),\n",
       " 'frequency': DeviceArray([[ 674.04686597, 2407.3102356 , 2648.04125916, 4333.15842408],\n",
       "              [ 620.01983138, 2214.35654064, 2435.7921947 , 3985.84177315],\n",
       "              [ 691.06555814, 2468.09127906, 2714.90040697, 4442.56430231],\n",
       "              [ 617.37535278, 2204.91197421, 2425.40317163, 3968.84155357],\n",
       "              [ 648.91561275, 2317.55575982, 2549.3113358 , 4171.60036767],\n",
       "              [ 672.87210115, 2403.11464698, 2643.42611168, 4325.60636456],\n",
       "              [ 720.92830441, 2574.74394432, 2832.21833875, 4634.53909977],\n",
       "              [ 684.21093849, 2443.61049459, 2687.97154405, 4398.49889026],\n",
       "              [ 677.00988215, 2417.89243624, 2659.68167986, 4352.20638522],\n",
       "              [ 737.74294977, 2634.79624919, 2898.27587411, 4742.63324854]],            dtype=float64),\n",
       " 'noise_power': DeviceArray([0.001], dtype=float64)}"
      ]
     },
     "execution_count": 11,
     "metadata": {},
     "output_type": "execute_result"
    }
   ],
   "source": [
    "theta"
   ]
  },
  {
   "cell_type": "code",
   "execution_count": 13,
   "metadata": {},
   "outputs": [
    {
     "data": {
      "text/plain": [
       "      fun: 23825.89896671203\n",
       " hess_inv: array([[1, 0, 0, ..., 0, 0, 0],\n",
       "       [0, 1, 0, ..., 0, 0, 0],\n",
       "       [0, 0, 1, ..., 0, 0, 0],\n",
       "       ...,\n",
       "       [0, 0, 0, ..., 1, 0, 0],\n",
       "       [0, 0, 0, ..., 0, 1, 0],\n",
       "       [0, 0, 0, ..., 0, 0, 1]])\n",
       "      jac: array([            nan, -2.03461249e+05, -1.78339148e+05, -1.80501087e+05,\n",
       "       -1.91751288e+05, -2.05614623e+05, -2.28601819e+05,  7.69498067e+02,\n",
       "                   nan,             nan,  1.44085523e+01, -3.93395979e+01,\n",
       "       -3.14852651e+01, -2.05411253e+00, -2.92600331e+00,  2.79754384e-01,\n",
       "       -1.45513843e-01, -3.09510385e-03,  2.20365244e+01,  5.81351951e+00,\n",
       "       -1.74002856e+00, -2.31404975e-01, -5.78802642e-02,  1.11439916e-02,\n",
       "       -3.61452310e-03, -7.25235464e-04,  2.91520324e+00,  1.27748146e+00,\n",
       "       -4.34585201e-01, -5.43789966e-02,  2.37246390e+01,  7.84622594e+00,\n",
       "       -2.90623296e-02, -2.21467802e-01,  6.13645110e+01,  1.74119302e+01,\n",
       "       -5.99364667e-02, -3.78035756e-01,  1.31648844e+02,  4.53964737e+01,\n",
       "       -1.12960676e+01, -1.37130669e+00,  7.94190733e+00, -1.57857131e-01,\n",
       "       -5.21339351e-01, -8.96011686e-03,  2.20863249e+01, -2.46883843e+00,\n",
       "       -1.34231198e+00, -5.65326679e-02,  3.51473350e-01, -1.54917849e-02,\n",
       "       -4.91536575e-03, -3.41019863e-04, -2.58828701e+07,             nan,\n",
       "        1.08392053e+01, -1.44658899e+00, -6.52913134e-01, -3.88204620e-01,\n",
       "        7.51857982e+00,  7.93110259e+02,  5.53018739e+01,             nan,\n",
       "                   nan,             nan])\n",
       "  message: 'NaN result encountered.'\n",
       "     nfev: 1\n",
       "      nit: 0\n",
       "     njev: 1\n",
       "   status: 3\n",
       "  success: False\n",
       "        x: array([6.16061110e+00, 6.04972389e+00, 6.73254494e+00, 7.38527599e+00,\n",
       "       6.46436167e+00, 6.88687066e+00, 6.90534010e+00, 6.97539534e+00,\n",
       "       7.08552331e+00, 6.15229842e+00, 1.10507408e+02, 1.49645323e+02,\n",
       "       2.01139455e+02, 2.96842725e+02, 6.64800941e+02, 2.39042991e+03,\n",
       "       2.63558352e+03, 4.27629560e+03, 6.19101046e+02, 2.21689184e+03,\n",
       "       2.46496463e+03, 3.99093783e+03, 6.88217222e+02, 2.45945612e+03,\n",
       "       2.72907449e+03, 4.44458831e+03, 6.23510287e+02, 2.20464367e+03,\n",
       "       2.41907703e+03, 4.01888150e+03, 6.47772553e+02, 2.37170996e+03,\n",
       "       2.54582449e+03, 4.22620851e+03, 6.68538065e+02, 2.41806314e+03,\n",
       "       2.62156239e+03, 4.25969748e+03, 7.09410312e+02, 2.53339291e+03,\n",
       "       2.84104258e+03, 4.68184782e+03, 6.87365379e+02, 2.46439970e+03,\n",
       "       2.68911861e+03, 4.37695953e+03, 6.76254309e+02, 2.41839072e+03,\n",
       "       2.72723855e+03, 4.46579512e+03, 7.25741096e+02, 2.61509790e+03,\n",
       "       2.84618770e+03, 4.71622732e+03, 9.80858108e-04, 4.85058815e+00,\n",
       "       4.11745078e+00, 4.82156152e+00, 5.22535710e+00, 4.20861953e+00,\n",
       "       5.02314817e+00, 3.26408837e+00, 4.39014890e+00, 5.31716959e+00,\n",
       "       4.99297057e+00, 1.00330793e+00])"
      ]
     },
     "execution_count": 13,
     "metadata": {},
     "output_type": "execute_result"
    }
   ],
   "source": [
    "import scipy.optimize\n",
    "\n",
    "res_scipy = scipy.optimize.minimize(jax.value_and_grad(objective), x0, method='BFGS', jac=True)\n",
    "\n",
    "res_scipy"
   ]
  },
  {
   "cell_type": "code",
   "execution_count": null,
   "metadata": {},
   "outputs": [],
   "source": [
    "unravel(res_scipy.x)"
   ]
  },
  {
   "cell_type": "code",
   "execution_count": null,
   "metadata": {},
   "outputs": [],
   "source": []
  }
 ],
 "metadata": {
  "kernelspec": {
   "display_name": "venv",
   "language": "python",
   "name": "venv"
  },
  "language_info": {
   "codemirror_mode": {
    "name": "ipython",
    "version": 3
   },
   "file_extension": ".py",
   "mimetype": "text/x-python",
   "name": "python",
   "nbconvert_exporter": "python",
   "pygments_lexer": "ipython3",
   "version": "3.8.10"
  }
 },
 "nbformat": 4,
 "nbformat_minor": 4
}
