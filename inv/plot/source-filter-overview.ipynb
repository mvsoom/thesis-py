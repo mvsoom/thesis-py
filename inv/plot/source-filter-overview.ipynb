{
 "cells": [
  {
   "cell_type": "code",
   "execution_count": 1,
   "id": "60aa0e66-22bc-4083-aa72-0c2e4fe40dac",
   "metadata": {},
   "outputs": [],
   "source": [
    "%run init.ipy\n",
    "%run plot.ipy\n",
    "%matplotlib inline"
   ]
  },
  {
   "cell_type": "code",
   "execution_count": 2,
   "id": "6aa9845d-b09c-44b1-b118-6eb5bc4ac44a",
   "metadata": {},
   "outputs": [],
   "source": [
    "import pickle\n",
    "\n",
    "results = pickle.load(open('inv/test/golden-example.pickle', 'rb'))"
   ]
  },
  {
   "cell_type": "code",
   "execution_count": 3,
   "id": "71d5c1d6-0179-442e-8c39-10826b09f562",
   "metadata": {},
   "outputs": [
    {
     "data": {
      "text/plain": [
       "       nlive: 82\n",
       "       niter: 7982\n",
       "       ncall: array([1, 1, 1, ..., 1, 1, 1])\n",
       "         eff: 0.22189434593174437\n",
       "     samples: array([[-2.63047284e+00, -6.66171428e-02, -1.28311341e-01, ...,\n",
       "         1.31111467e-01, -3.12687586e-01, -1.17873402e-03],\n",
       "       [-1.91551248e+00,  3.31760022e-01,  1.86428102e-01, ...,\n",
       "        -2.37550162e-01,  2.14301846e-01, -4.53603731e-01],\n",
       "       [-1.84562011e+00, -6.46720784e-01,  1.16492942e-01, ...,\n",
       "        -5.63085689e-02, -1.24797916e+00, -9.22200990e-02],\n",
       "       ...,\n",
       "       [ 7.49961132e-02, -1.53182725e-01, -7.72853461e-03, ...,\n",
       "        -1.37135606e+00,  1.25230247e+00, -8.88486092e-01],\n",
       "       [ 1.14887159e-01, -2.37649695e-01,  1.53472039e-01, ...,\n",
       "        -1.16218101e+00,  1.17158666e+00, -7.14503246e-01],\n",
       "       [ 1.09157600e-01, -1.67267077e-01, -2.14577367e-01, ...,\n",
       "        -1.47208390e+00,  1.28451841e+00, -1.12557950e+00]])\n",
       "        blob: array([None, None, None, ..., None, None, None], dtype=object)\n",
       "  samples_id: array([42, 42, 66, ..., 65, 81, 75])\n",
       "  samples_it: array([   0,    1,    0, ..., 7971, 7803, 7871])\n",
       "   samples_u: array([[0.00426331, 0.47344325, 0.4489513 , ..., 0.55215643, 0.37725901,\n",
       "        0.49952975],\n",
       "       [0.02771359, 0.62996476, 0.57394547, ..., 0.406115  , 0.58484416,\n",
       "        0.32505703],\n",
       "       [0.03247369, 0.25890633, 0.54636906, ..., 0.477548  , 0.10601935,\n",
       "        0.46326158],\n",
       "       ...,\n",
       "       [0.5298911 , 0.43912709, 0.49691679, ..., 0.08513199, 0.89477017,\n",
       "        0.18713967],\n",
       "       [0.54573272, 0.4060764 , 0.56098698, ..., 0.12258097, 0.87931848,\n",
       "        0.23745802],\n",
       "       [0.54346126, 0.43357995, 0.41504842, ..., 0.07049911, 0.90051969,\n",
       "        0.13017177]])\n",
       "       logwt: array([-2.33259799e+06, -5.45361482e+05, -3.80967855e+05, ...,\n",
       "        8.16036427e+01,  8.17281294e+01,  8.20463534e+01])\n",
       "        logl: array([-2.33259287e+06, -5.45356358e+05, -3.80962718e+05, ...,\n",
       "        1.82856580e+02,  1.82940980e+02,  1.83434520e+02])\n",
       "      logvol: array([-1.21213605e-02, -2.42427211e-02, -3.63640816e-02, ...,\n",
       "       -1.00072928e+02, -1.00478393e+02, -1.01171540e+02])\n",
       "        logz: array([-2.33259799e+06, -5.45361482e+05, -3.80967855e+05, ...,\n",
       "        8.90488876e+01,  8.90495491e+01,  8.90504576e+01])\n",
       "     logzerr: array([0.        , 0.        , 0.        , ..., 1.00255286, 1.01501274,\n",
       "       1.04381317])\n",
       " information: array([-0.        , -0.        , -0.        , ..., 77.12449323,\n",
       "       77.1864927 , 77.27203741])"
      ]
     },
     "execution_count": 3,
     "metadata": {},
     "output_type": "execute_result"
    }
   ],
   "source": [
    "results"
   ]
  },
  {
   "cell_type": "code",
   "execution_count": 2,
   "id": "18c2c0ea-87c9-41b2-be79-3dc016fe3e8f",
   "metadata": {},
   "outputs": [
    {
     "data": {
      "image/png": "[encoded data removed]",
      "text/plain": [
       "<Figure size 448.131x129.6 with 1 Axes>"
      ]
     },
     "metadata": {
      "needs_background": "light"
     },
     "output_type": "display_data"
    }
   ],
   "source": [
    "fig = plt.figure(\n",
    "    figsize=(TEXTWIDTH, 1.8),\n",
    "    constrained_layout=True\n",
    ")\n",
    "\n",
    "x = linspace(0, 1, 1000)\n",
    "plot(x, x**2)\n",
    "\n",
    "save_plot(fig, 'inv/plot', 'source-filter-overview')"
   ]
  },
  {
   "cell_type": "code",
   "execution_count": null,
   "id": "1c0c9406-5520-410b-8398-fc29729167ca",
   "metadata": {},
   "outputs": [],
   "source": []
  }
 ],
 "metadata": {
  "kernelspec": {
   "display_name": "venv",
   "language": "python",
   "name": "venv"
  },
  "language_info": {
   "codemirror_mode": {
    "name": "ipython",
    "version": 3
   },
   "file_extension": ".py",
   "mimetype": "text/x-python",
   "name": "python",
   "nbconvert_exporter": "python",
   "pygments_lexer": "ipython3",
   "version": "3.10.7"
  }
 },
 "nbformat": 4,
 "nbformat_minor": 5
}
