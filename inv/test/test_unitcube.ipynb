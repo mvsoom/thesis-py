{
 "cells": [
  {
   "cell_type": "code",
   "execution_count": 1,
   "id": "15e5af32-35fb-41f0-a789-96337efda9ee",
   "metadata": {},
   "outputs": [],
   "source": [
    "%run init.ipy\n",
    "\n",
    "from lib import constants\n",
    "from lib import klatt"
   ]
  },
  {
   "cell_type": "markdown",
   "id": "38a0ce06-e44b-4558-b590-ebc9bf7e7717",
   "metadata": {},
   "source": [
    "## Get some test data from VTRFormants ***TEST*** set"
   ]
  },
  {
   "cell_type": "code",
   "execution_count": 2,
   "id": "1d1d4153-8587-4785-be52-e68cbcb615f3",
   "metadata": {},
   "outputs": [
    {
     "data": {
      "text/html": [
       "<style type='text/css'>\n",
       ".datatable table.frame { margin-bottom: 0; }\n",
       ".datatable table.frame thead { border-bottom: none; }\n",
       ".datatable table.frame tr.coltypes td {  color: #FFFFFF;  line-height: 6px;  padding: 0 0.5em;}\n",
       ".datatable .bool    { background: #DDDD99; }\n",
       ".datatable .object  { background: #565656; }\n",
       ".datatable .int     { background: #5D9E5D; }\n",
       ".datatable .float   { background: #4040CC; }\n",
       ".datatable .str     { background: #CC4040; }\n",
       ".datatable .time    { background: #40CC40; }\n",
       ".datatable .row_index {  background: var(--jp-border-color3);  border-right: 1px solid var(--jp-border-color0);  color: var(--jp-ui-font-color3);  font-size: 9px;}\n",
       ".datatable .frame tbody td { text-align: left; }\n",
       ".datatable .frame tr.coltypes .row_index {  background: var(--jp-border-color0);}\n",
       ".datatable th:nth-child(2) { padding-left: 12px; }\n",
       ".datatable .hellipsis {  color: var(--jp-cell-editor-border-color);}\n",
       ".datatable .vellipsis {  background: var(--jp-layout-color0);  color: var(--jp-cell-editor-border-color);}\n",
       ".datatable .na {  color: var(--jp-cell-editor-border-color);  font-size: 80%;}\n",
       ".datatable .sp {  opacity: 0.25;}\n",
       ".datatable .footer { font-size: 9px; }\n",
       ".datatable .frame_dimensions {  background: var(--jp-border-color3);  border-top: 1px solid var(--jp-border-color0);  color: var(--jp-ui-font-color3);  display: inline-block;  opacity: 0.6;  padding: 1px 10px 1px 5px;}\n",
       "</style>\n"
      ],
      "text/plain": [
       "<IPython.core.display.HTML object>"
      ]
     },
     "metadata": {},
     "output_type": "display_data"
    },
    {
     "name": "stderr",
     "output_type": "stream",
     "text": [
      "2023-01-03 15:51:23.735914: W tensorflow/compiler/xla/stream_executor/platform/default/dso_loader.cc:64] Could not load dynamic library 'libnvinfer.so.7'; dlerror: libnvinfer.so.7: cannot open shared object file: No such file or directory\n",
      "2023-01-03 15:51:23.735965: W tensorflow/compiler/xla/stream_executor/platform/default/dso_loader.cc:64] Could not load dynamic library 'libnvinfer_plugin.so.7'; dlerror: libnvinfer_plugin.so.7: cannot open shared object file: No such file or directory\n",
      "2023-01-03 15:51:23.735969: W tensorflow/compiler/tf2tensorrt/utils/py_utils.cc:38] TF-TRT Warning: Cannot dlopen some TensorRT libraries. If you would like to use Nvidia GPU with TensorRT, please make sure the missing libraries mentioned above are installed properly.\n"
     ]
    }
   ],
   "source": [
    "import random\n",
    "from vtr.prior import formant\n",
    "from lib import timit\n",
    "\n",
    "def rand_triple():\n",
    "    vtr_root = timit.test_set(timit.VTRFORMANTS)\n",
    "    timit_root = timit.test_set(timit.TIMIT)\n",
    "    l = list(timit.yield_file_triples(vtr_root, timit_root))\n",
    "    return random.choice(l)\n",
    "\n",
    "fb_file, phn_file, wav_file = rand_triple()"
   ]
  },
  {
   "cell_type": "markdown",
   "id": "8e821ed5-ec31-45b8-aea8-03c2edcb8af2",
   "metadata": {},
   "source": [
    "## Test noise sigma prior"
   ]
  },
  {
   "cell_type": "markdown",
   "id": "e9a24ad6-ede3-4019-802a-a27822b0310e",
   "metadata": {},
   "source": [
    "Test the noise sigma prior (bijector). We put a mean at -20 dB and floor it at the noise floor. Relative uncertainty is 100% leading to a nois power dB of roughly -20 +/- 7.5 dB."
   ]
  },
  {
   "cell_type": "code",
   "execution_count": 3,
   "id": "32d9fc4f-a0ea-4d74-8e2b-ec7dd7178e2a",
   "metadata": {},
   "outputs": [
    {
     "data": {
      "text/plain": [
       "(-21.09222288857734, 7.485871368776038)"
      ]
     },
     "execution_count": 3,
     "metadata": {},
     "output_type": "execute_result"
    },
    {
     "data": {
      "image/png": "[encoded data removed]",
      "text/plain": [
       "<Figure size 432x288 with 1 Axes>"
      ]
     },
     "metadata": {
      "needs_background": "light"
     },
     "output_type": "display_data"
    }
   ],
   "source": [
    "from inv import model\n",
    "\n",
    "b = model.noise_sigma_bijector()\n",
    "\n",
    "noise_sigmas = b.forward(randn(100000))\n",
    "\n",
    "noise_power_dbs = 20*np.log10(noise_sigmas)\n",
    "\n",
    "hist(noise_power_dbs, bins=50);\n",
    "\n",
    "np.mean(noise_power_dbs), np.std(noise_power_dbs)"
   ]
  },
  {
   "cell_type": "markdown",
   "id": "a873fc10-07fb-4319-9261-a0d7a1de8efd",
   "metadata": {},
   "source": [
    "## Test model with random hyper priors"
   ]
  },
  {
   "cell_type": "code",
   "execution_count": 23,
   "id": "73877b31-9043-487e-895f-8f7bdf148524",
   "metadata": {},
   "outputs": [
    {
     "name": "stdout",
     "output_type": "stream",
     "text": [
      "NP = 2\n",
      "Number of data points: 57\n",
      "Number of model dimensions: 34\n"
     ]
    },
    {
     "data": {
      "text/html": [
       "\n",
       "                <audio  controls=\"controls\" >\n",
       "                    <source src=\"data:audio/wav;base64,UklGRpYAAABXQVZFZm10IBAAAAABAAEADycAAB5OAAACABAAZGF0YXIAAAD/f/liIRquzxS/ntSg6Kr1xOjF50fl0wa8JXAxfitxF5Pz4e/L/VAS6hLBCBX0oeNY4071Z/X++L3xrgA/HnEj+DvuMGIfyQll4tfU2s1Yzmvy7vZHD5oJWgZ5Arn2v+0j5IjYV9JaxgvIFdXT7Dclm28=\" type=\"audio/wav\" />\n",
       "                    Your browser does not support the audio element.\n",
       "                </audio>\n",
       "              "
      ],
      "text/plain": [
       "<IPython.lib.display.Audio object>"
      ]
     },
     "metadata": {},
     "output_type": "display_data"
    },
    {
     "data": {
      "text/plain": [
       "({'kernel_name': 'Matern32Kernel',\n",
       "  'kernel_M': 128,\n",
       "  'use_oq': True,\n",
       "  'impose_null_integral': False},\n",
       " PoleZeroFilter(3))"
      ]
     },
     "execution_count": 23,
     "metadata": {},
     "output_type": "execute_result"
    },
    {
     "data": {
      "image/png": "[encoded data removed]",
      "text/plain": [
       "<Figure size 432x288 with 1 Axes>"
      ]
     },
     "metadata": {
      "needs_background": "light"
     },
     "output_type": "display_data"
    }
   ],
   "source": [
    "from inv import process\n",
    "from vtr.prior import filter\n",
    "\n",
    "source_config = dict(\n",
    "    kernel_name = \"Matern32Kernel\",\n",
    "    kernel_M = 128,\n",
    "    use_oq = True,\n",
    "    impose_null_integral = False\n",
    ")\n",
    "\n",
    "vtfilter = filter.PZ(3, numpy_backend=jax.numpy, scipy_backend=jax.scipy)\n",
    "\n",
    "hyper = process.make_rand_hyper(\n",
    "    (fb_file, phn_file, wav_file),\n",
    "    source_config = source_config,\n",
    "    vtfilter = vtfilter,\n",
    "    process_data_kwargs=dict(max_NP = 2, prepend=1)\n",
    ")\n",
    "\n",
    "plot(hyper['data']['t'], hyper['data']['d'])\n",
    "print(\"NP =\", hyper['data']['NP'])\n",
    "print(\"Number of data points:\", len(hyper['data']['d']))\n",
    "print(\"Number of model dimensions:\", model.ndim(hyper))\n",
    "\n",
    "display(klatt.play(hyper['data']['t'], hyper['data']['d']))\n",
    "\n",
    "hyper['source'], hyper['filter']"
   ]
  },
  {
   "cell_type": "code",
   "execution_count": 24,
   "id": "714316f8-aab4-472b-a6ba-917d47aaf938",
   "metadata": {
    "scrolled": true,
    "tags": []
   },
   "outputs": [
    {
     "name": "stdout",
     "output_type": "stream",
     "text": [
      "[Memory]498.3s, 8.3min  : Loading posterior_of_fitted_lf_values...\n",
      "[Memory]498.3s, 8.3min  : Loading run_nested...\n",
      "[Memory]498.4s, 8.3min  : Loading posterior_of_fitted_TFB_values...\n",
      "[Memory]498.4s, 8.3min  : Loading run_nested...\n"
     ]
    },
    {
     "data": {
      "text/plain": [
       "({'noise_sigma': DeviceArray(0.13937839, dtype=float64),\n",
       "  'delta': DeviceArray(0.38715163, dtype=float64),\n",
       "  'source': DeviceArray([[0.89611955, 0.05790923, 6.10418957, 0.97348607],\n",
       "               [0.86492637, 0.06477065, 5.88178286, 0.98285298]],            dtype=float64),\n",
       "  'filter': DeviceArray([[ 464.31321661, 1620.63702854, 2650.6220783 ,   54.86365177,\n",
       "                 271.92594093, 1174.02239798],\n",
       "               [ 445.55736034, 1576.67002031, 2593.24312629,   53.12121472,\n",
       "                 301.88527979, 1239.70551048]], dtype=float64),\n",
       "  'g': DeviceArray([[ 0.67917968, -1.70518367,  1.10406035, -1.31824202,\n",
       "                -0.26246744, -0.67365483],\n",
       "               [-0.62689719,  1.63303151,  0.39884653, -1.42329523,\n",
       "                 0.15499797,  0.84975392]], dtype=float64)},\n",
       " DeviceArray(-80.08148982, dtype=float64))"
      ]
     },
     "execution_count": 24,
     "metadata": {},
     "output_type": "execute_result"
    }
   ],
   "source": [
    "prior = model.theta_trajectory_prior(hyper)\n",
    "theta = prior.sample(seed=jaxkey())\n",
    "theta, prior.log_prob(theta)"
   ]
  },
  {
   "cell_type": "code",
   "execution_count": 25,
   "id": "6e6446ae-a8ce-4612-93da-25cf7ea9f1fe",
   "metadata": {},
   "outputs": [
    {
     "data": {
      "text/plain": [
       "(DeviceArray(-98.60452457, dtype=float64),\n",
       " (DeviceArray(130.002448, dtype=float64),\n",
       "  DeviceArray(194.11879805, dtype=float64),\n",
       "  {'Oq': DeviceArray([  -9.98194014, -124.26935292], dtype=float64),\n",
       "   'T': DeviceArray([  -1.59190332, -140.18264714], dtype=float64),\n",
       "   'r': DeviceArray([ -118.98125396, -1201.59261132], dtype=float64),\n",
       "   'var_sigma': DeviceArray([ 34.22237444, 176.36665184], dtype=float64)},\n",
       "  {'g': DeviceArray([[ -3.10720189, -15.12990412,   5.63286121,  -5.17391917,\n",
       "                   6.99880825,   6.27044483],\n",
       "                [-22.22032584,  40.18259628,  14.09829413, -33.5224253 ,\n",
       "                  42.27715917,  15.42402389]], dtype=float64),\n",
       "   'x': DeviceArray([[ 0.08271898, -0.03504599, -0.00678125],\n",
       "                [ 0.07393292, -0.09657824,  0.00179114]], dtype=float64),\n",
       "   'y': DeviceArray([[-0.00197492, -0.02528679,  0.0010703 ],\n",
       "                [ 0.64199329,  0.02094693,  0.00384784]], dtype=float64)}))"
      ]
     },
     "execution_count": 25,
     "metadata": {},
     "output_type": "execute_result"
    }
   ],
   "source": [
    "def curry(theta):\n",
    "    return model.full_likelihood(theta, hyper)\n",
    "\n",
    "curry(theta), model.unpack_theta(jax.jit(jax.grad(curry))(theta), hyper)"
   ]
  },
  {
   "cell_type": "markdown",
   "id": "3c198f45-0774-4bc0-afb9-1e2b2c1bd61b",
   "metadata": {},
   "source": [
    "Show the possible model functions $f(t;\\theta)$ for a sampled $\\theta$. We need to find a $\\theta$ for which **most** -- not just a few -- of these samples are close to the data. **This is Bayesian regularization in action.**\n",
    "\n",
    "We can see that the general amplitude magnitude is reasonable, although for larger $K$ for PZ and $N_P$ it may take more samples to hit O(1) range. This is because of interpitch-period correlations and the heavier tails of the energy distribution of the PZ model."
   ]
  },
  {
   "cell_type": "code",
   "execution_count": 26,
   "id": "7724967a-843e-491b-8678-92e088b80c60",
   "metadata": {},
   "outputs": [
    {
     "data": {
      "text/html": [
       "\n",
       "                <audio  controls=\"controls\" >\n",
       "                    <source src=\"data:audio/wav;base64,UklGRtoOAABXQVZFZm10IBAAAAABAAEADycAAB5OAAACABAAZGF0YbYOAAAAAAAAAAAAAAAAAAAAAAAAAAAAAAAAAAAAAAAAAAAAAAAAAAAAAAAAAAAAAAAAAAAAAAAAAAAAAAAAAAAAAAAAAAAAAAAAAAAAAAAAAAAAAAAAAAAAAAAAAAAAAAAAAAAAAAAAAAAAAAAAAAAAAAAAAAAAAAAAAAAAAAAAAAAAAAAAAAAAAAAAAAAAAAAAAAAAAAAAAAAAAAAAAAAAAAAAAAAAAAAAAAAAAAAAAAAAAAAAAAAAAAAAAAAAAAAAAAAAAAAAAAAAAAAAAAAAAAAAAAAAAAAAAAAAAAAAAAAAAAAAAAAAAAAAAAAAAAAAAAAAAAAAAAAAAAAAAAAAAAAAAAAAAAAAAAAAAAAAAAAAAAAAAAAAAAAAAAAAAAAAAAAAAAAAAAAAAAAAAAAAAAAAAAAAAAAAAAAAAAAAAAAAAAAAAAAAAAAAAAAAAAAAAAAAAAAAAAAAAAAAAAAAAAAAAAAAAAAAAAAAAAAAAAAAAAAAAAAAAAAAAAAAAAAAAAAAAAAAAAAAAAAAAAAAAAAAAAAAAAAAAAAAAAAAAAAAAAAAAAAAAAAAAAAAAAAAAAAAAAAAAAAAAAAAAAAAAAAAAAAAAAAAAAAAAAAAAAAAAAAAAAAAAAAAAAAAAAAAAAAAAAAAAAAAAAAAAAAAAAAAAAAAAAAAAAAAAAAAAAAAAAAAAAAAAAAAAAAAAAAAAAAAAAAAAAAAAAAAAAAAAAAAAAAAAAAAAAAAAAAAAAAAAAAAAAAAAAAAAAAAAAAAAAAAAAAAAAAAAAAAAAAAAAAAAAAAAAAAAAAAAAAAAAAAAAAAAAAAAAAAAAAAAAAAAAAAAAAAAAAAAAAAAAAAAAAAAAAAAAAAAAAAAAAAAAAAAAAAAAAAAAAAAAAAAAAAAAAAAAAAAAAAAAAAAAAAAAAAAAAAAAAAAAAAAAAAAAAAAAAAAAAAAAAAAAAAAAAAAAAAAAAAAAAAAAAAAAAAAAAAAAAAAAAAAAAAAAAAAAAAAAAAAAAAAAAAAAAAAAAAAAAAAAAAAAAAAAAAAAAAAAAAAAAAAAAAAAAAAAAAAAAAAAAAAAAAAAAAAAAAAAAAAAAAAAAAAAAAAAAAAAAAAAAAAAAAAAAAAAAAAAAAAAAAAAAAAAAAAAAAAAAAAAAAAAAAAAAAAAAAAAAAAAAAAAAAAAAAAAAAAAAAAAAAAAAAAAAAAAAAAAAAAAAAAAAAAAAAAAAAAAAAAAAAAAAAAAAAAAAAAAAAAAAAAAAAAAAAAAAAAAAAAAAAAAAAAAAAAAAAAAAAAAAAAAAAAAAAAAAAAAAAAAAAAAAAAAAAAAAAAAAAAAAAAAAAAAAAAAAAAAAAAAAAAAAAAAAAAAAAAAAAAAAAAAAAAAAAAAAAAAAAAAAAAAAAAAAAAAAAAAAAAAAAAAAAAAAAAAAAAAAAAAAAAAAAAAAAAAAAAAAAAAAAAAAAAAAAAAAAAAAAAAAAAAAAAAAAAAAAAAAAAAAAAAAAAAAAAAAAAAAAAAAAAAAAAAAAAAAAAAAAAAAAAAAAAAAAAAAAAAAAAAAAAAAAAAAAAAAAAAAAAAAAAAAAAAAAAAAAAAAAAAAAAAAAAAAAAAAAAAAAAAAAAAAAAAAAAAAAAAAAAAAAAAAAAAAAAAAAAAAAAAAAAAAAAAAAAAAAAAAAAAAAAAAAAAAAAAAAAAAAAAAAAAAAAAAAAAAAAAAAAAAAAAAAAAAAAAAAAAAAAAAAAAAAAAAAAAAAAAAAAAAAAAAAAAAAAAAAAAAAAAAAAAAAAAAAAAAAAAAAAAAAAAAAAAAAAAAAAAAAAAAAAAAAAAAAAAAAAAAAAAAAAAAAAAAAAAAAAAAAAAAAAAAAAAAAAAAAAAAAAAAAAAAAAAAAAAAAAAAAAAAAAAAAAAAAAAAAAAAAAAAAAAAAAAAAAAAAAAAAAAAAAAAAAAAAAAAAAAAAAAAAAAAAAAAAAAAAAAAAAAAAAAAAAAAAAAAAAAAAAAAAAAAAAAAAAAAAAAAAAAAAAAAAAAAAAAAAAAAAAAAAAAAAAAAAAAAAAAAAAAAAAAAAAAAAAAAAAAAAAAAAAAAAAAAAAAAAAAAAAAAAAAAAAAAAAAAAAAAAAAAAAAAAAAAAAAAAAAAAAAAAAAAAAAAAAAAAAAAAAAAAAAAAAAAAAAAAAAAAAAAAAAAAAAAAAAAAAAAAAAAAAAAAAAAAAAAAAAAAAAAAAAAApv7Y+yf7jP4FBRECMe9b22bZ6tYavzmk47B/3nb/0AbzE5Q541euScMiwg6oD/4F/uee0zLiovv1/ir1+Py3DxsL6+ZKya3HlMhRt0irO8QM8nkLBQk2DpIrtzIGEDPp2ua+9UHsvNOC2pUFWSQaG3QKABVOJR4T0+jx1ITal9iYuyWfOq936jEcrhr0+vbkHNKQq5GEAYBonnW5fLeCsK2/3dC40FPHW7zWs4u1oM7U7cD6fAZ6JTRKX2mKelRnnzeNCbzs1NQqwfjB+OTBF8ctxyr9HjQPNv7u69TZJdD513buKAWvEsIbKCZ5KiAdBQIl64PiueDE3Srg0/HHDF0fHSLmHW0aMhKk/nPnrNv63u7nM/Af/MwOyx/kIzkbDQ8GBAP3s+ca3jzh2u2A+xoHwhL3HB8fMBZ7BzD6+++V50PjledL9BUDXg6hFawZUBgyD/gA8fP064voFekc7/D6hQhYEk8WphUVEfYHkftk8KXq1Ooc75L2+AAMDJ0TCRUrETkKUwFm9xHvpesv7s70Jv34Bf0NwxIkEoEMVwTy+4X0W+9V7lby5/lOAosJoQ6KEDIO2gem/zD4BfPA8PLx1vZO/u4FhgsgDpUN3wmAAyH8Dvbf8ujy1vUu++UBJggIDKoMUgq6BcL/t/lQ9d3zifWT+fP+lgQsCV0LgwoRByAC2vxS+Kb1q/Vi+OL85wFVBj4J4gn5BwoERP/i+tX3vfbu9zD7nv/1AykHlQjzB1wFaQEx/dT5GvhL+FH6vP20ASgFMgdpB9sF7QJM/9/7kPny+BL6k/zb/yUDngWeBu4F0gPcAMD9OPvq+Sv64PuI/nUB+gN+BZ8FVQQAAkL/xvwf+6/6k/uP/RcAhgJGBPMEaQTIAn0AJP5S/HL7sfv9/AL/PAEYAyMEJQQmA2YBV/97/Uz8EPzK/Ej+KAD3AUADsQM2A/YBRQCM/jb9mfzY/Nz9Xv/9AFYCFQMNA0MC8QBu/xj+Qf0b/a39z/4zAIEBaAK0AlQCYwEgAN/+7v2E/bj9ev6Y/8gAvwFBAjMCnAGjAIn/k/79/er9Wf4t/y8AIAHEAfMBqAH2AA4AKP98/jT+YP7w/r7/lgBFAaABkgEhAW0ApP/3/o7+g/7X/nD/KADRAEMBYgEqAaoABABj/+z+u/7c/kP/1v9uAOcAJQEZAckASgC9/0T//P73/jL/nv8eAJQA4gD2AM4AdQACAJL/QP8f/zb/fv/j/0wAnwDKAMEAigAyANP/gP9P/0v/c/+8/xMAYwCZAKcAjABQAAIAt/+A/2n/eP+n/+v/MQBpAIYAggBeACQA5P+t/4v/h/+h/9H/CQA/AGMAbgBeADcABQDU/67/nv+m/8P/7/8cAEEAVgBVAD8AGwDz/87/t/+y/8H/3v8BACQAPABFAD0AJwAIAOn/0P/D/8b/1v/w/wwAJAAzADUAKgAWAP7/5v/W/9D/1v/m//z/EAAhACkAJwAcAAsA+P/o/93/3P/j//H/AAAQABwAIAAdABMABQD3/+v/5f/l/+z/9/8DAA4AFgAZABUADQACAPj/7//q/+v/8f/6/wMADAASABQAEQAKAAEA+f/y/+7/7//z//v/AgAKAA8AEQAOAAkAAQD6//T/8f/x//X/+/8CAAkADgAPAA0ACAABAPv/9P/x//H/9f/8/wIACQAOAA8ADQAHAAAA+v/0//H/8v/2//3/AwAKAA4ADwAMAAYAAAD4//P/8f/y//f//v8FAAwADwAPAAsABAD9//b/8v/w//P/+f8AAAgADQAQAA4ACQABAPv/9P/x//H/9f/8/wMACgAPABAADAAGAP//+P/y//D/8v/4////BgAMAA8ADwAKAAMA/P/1//H/8f/1//v/AgAJAA4ADwANAAcAAAD5//P/8f/z//j///8FAAsADwAOAAoAAwD9//b/8v/y//X/+/8BAAgADQAOAAwABwAAAPr/9P/y//P/+P///wUACgANAA0ACQADAP3/9//z//P/9v/7/wEABwAMAA0ACwAGAAAA+v/2//T/9f/5////BAAJAAwACwAIAAMA/v/4//X/9f/3//z/AQAGAAoACwAJAAUAAAD7//f/9f/2//r///8EAAgACgAKAAcAAgD+//n/9v/2//j//f8BAAYACQAKAAgABAAAAPz/+P/3//j/+////wMABwAJAAgABgACAP7/+v/4//j/+v/9/wEABQAIAAgABwADAAAA/P/5//j/+f/8/wAAAwAGAAcABwAFAAEA/v/7//n/+f/7//7/AQAEAAYABwAFAAMAAAD9//r/+f/6//3/AAACAAUABgAGAAQAAQD+//z/+v/6//z///8BAAQABQAGAAQAAgAAAP3/+//7//z//v8AAAIABAAFAAUAAwAAAP///P/7//z//f///wEAAwAEAAQAAwABAAAA/v/8//z//f/+/wAAAgADAAQABAACAAAA///9//z//P/+/wAAAQACAAMAAwADAAEAAAD+//3//f/9////AAABAAMAAwADAAEAAAD///7//f/9//7/AAABAAIAAwADAAIAAAAAAP7//v/9//7///8AAAEAAgACAAIAAQAAAP///v/+//7///8AAAAAAQACAAIAAQAAAAAA///+//7///8AAAAAAQACAAIAAQABAAAA//////7//////wAAAAABAAIAAQABAAAAAAD//////////wAAAAABAAEAAQABAAAAAAAAAP///////wAAAAAAAAEAAQABAAEAAAAAAP//////////AAAAAAAAAQABAAEAAAAAAAAA////////\" type=\"audio/wav\" />\n",
       "                    Your browser does not support the audio element.\n",
       "                </audio>\n",
       "              "
      ],
      "text/plain": [
       "<IPython.lib.display.Audio object>"
      ]
     },
     "execution_count": 26,
     "metadata": {},
     "output_type": "execute_result"
    },
    {
     "data": {
      "image/png": "[encoded data removed]",
      "text/plain": [
       "<Figure size 432x288 with 1 Axes>"
      ]
     },
     "metadata": {
      "needs_background": "light"
     },
     "output_type": "display_data"
    }
   ],
   "source": [
    "theta = prior.sample(seed=jaxkey())\n",
    "noise_sigma, delta, theta_source, theta_filter = model.unpack_theta(theta, hyper)\n",
    "\n",
    "hyper2 = process.hyper_fullt(hyper)\n",
    "\n",
    "R = model.full_kernelmatrix_root(\n",
    "    delta, theta_source, theta_filter, hyper2, convolve=True\n",
    ")\n",
    "\n",
    "plot(hyper['data']['t'], hyper['data']['d'])\n",
    "\n",
    "nsamp = 100\n",
    "for _ in range(nsamp):\n",
    "    w = model.randf(hyper)\n",
    "    f = R @ w\n",
    "    plot(hyper['data']['fullt'], f, color='grey', alpha=1/sqrt(nsamp))\n",
    "\n",
    "def setxlim(f, margin=0.05):\n",
    "    ts = hyper['data']['fullt'][f != 0.]\n",
    "    xlim(ts[0]*(1-margin), ts[-1]*(1+margin))\n",
    "\n",
    "setxlim(f)\n",
    "\n",
    "klatt.play(hyper['data']['t'], f)"
   ]
  },
  {
   "cell_type": "markdown",
   "id": "143d6c60-6ba6-48f7-a5eb-6dcff46966c8",
   "metadata": {},
   "source": [
    "We can see the correlations in the $f$ amplitudes well."
   ]
  },
  {
   "cell_type": "code",
   "execution_count": 27,
   "id": "a6249bd0-d1d8-4d19-abcf-5a571767d89d",
   "metadata": {},
   "outputs": [
    {
     "data": {
      "image/png": "[encoded data removed]",
      "text/plain": [
       "<Figure size 432x288 with 1 Axes>"
      ]
     },
     "metadata": {
      "needs_background": "light"
     },
     "output_type": "display_data"
    }
   ],
   "source": [
    "theta = prior.sample(seed=jaxkey())\n",
    "delta, noise_sigma, theta_source, theta_filter = model.unpack_theta(theta, hyper)\n",
    "offset = model.get_offset(delta, theta_source, hyper)\n",
    "\n",
    "hyper2 = process.hyper_fullt(hyper)\n",
    "\n",
    "R = model.full_kernelmatrix_root(\n",
    "    delta, theta_source, theta_filter, hyper2, convolve=True\n",
    ")\n",
    "\n",
    "R_gfd = model.full_kernelmatrix_root(\n",
    "    delta, theta_source, theta_filter, hyper2, convolve=False, integrate=True\n",
    ")\n",
    "\n",
    "w = model.randf(hyper)\n",
    "\n",
    "plot(hyper['data']['t'], hyper['data']['d'], color=\"grey\", label=\"data\", lw=3)\n",
    "\n",
    "plot(hyper['data']['fullt'], R_gfd @ w - 5, label=\"GF\")\n",
    "plot(hyper['data']['fullt'], R @ w, label=\"f(t)\")\n",
    "for tp in offset: axvline(tp, ls=\"--\", color=\"black\", alpha=.1)\n",
    "xlabel(\"time [msec]\")\n",
    "setxlim(R_gfd @ w)\n",
    "legend();"
   ]
  },
  {
   "cell_type": "code",
   "execution_count": null,
   "id": "d669c823-97d7-4670-b56b-f305ee571cb2",
   "metadata": {},
   "outputs": [],
   "source": []
  },
  {
   "cell_type": "code",
   "execution_count": null,
   "id": "1af707ac-ea38-4bb9-b792-1af9bdeb5c3c",
   "metadata": {},
   "outputs": [],
   "source": []
  },
  {
   "cell_type": "code",
   "execution_count": null,
   "id": "4cb2f8aa-d2b1-4b5d-b701-99ce10b6091b",
   "metadata": {},
   "outputs": [],
   "source": []
  },
  {
   "cell_type": "code",
   "execution_count": null,
   "id": "5e9fc1a1-ee62-4215-b0f3-cdd61e9228ac",
   "metadata": {},
   "outputs": [],
   "source": []
  },
  {
   "cell_type": "code",
   "execution_count": null,
   "id": "1b46ee0f-2fa7-4a57-92b7-18bcd1edc6a2",
   "metadata": {},
   "outputs": [],
   "source": []
  },
  {
   "cell_type": "markdown",
   "id": "021016f7-2e24-4ec2-b240-77b8c8ea62db",
   "metadata": {},
   "source": [
    "## Try NS with gradient"
   ]
  },
  {
   "cell_type": "code",
   "execution_count": 28,
   "id": "5e98fabf-4ef8-460b-a0bd-442504024f67",
   "metadata": {},
   "outputs": [],
   "source": [
    "import tensorflow_probability.substrates.jax.bijectors as tfb\n",
    "def theta_trajectory_bijector_unit_cube(hyper):\n",
    "    return tfb.Chain([\n",
    "        model.theta_trajectory_bijector(hyper), tfb.Invert(tfb.NormalCDF())\n",
    "    ])"
   ]
  },
  {
   "cell_type": "code",
   "execution_count": 29,
   "id": "2c30dc46-64e5-4db5-acd3-7cb610e9d3b6",
   "metadata": {},
   "outputs": [
    {
     "name": "stdout",
     "output_type": "stream",
     "text": [
      "[Memory]505.4s, 8.4min  : Loading posterior_of_fitted_lf_values...\n",
      "[Memory]505.4s, 8.4min  : Loading run_nested...\n",
      "[Memory]505.4s, 8.4min  : Loading posterior_of_fitted_TFB_values...\n",
      "[Memory]505.4s, 8.4min  : Loading run_nested...\n"
     ]
    }
   ],
   "source": [
    "import dynesty\n",
    "import scipy\n",
    "\n",
    "theta_bijector_unit = theta_trajectory_bijector_unit_cube(hyper)\n",
    "\n",
    "@jax.jit\n",
    "def loglike(u):\n",
    "    theta = theta_bijector_unit.forward(u)\n",
    "    logl = model.full_likelihood(theta, hyper)\n",
    "    return logl\n",
    "\n",
    "ptform = lambda x: x\n",
    "\n",
    "grad_u = jax.jit(jax.grad(loglike))\n",
    "\n",
    "ndim = model.ndim(hyper)"
   ]
  },
  {
   "cell_type": "code",
   "execution_count": 30,
   "id": "e484f190-7734-4993-b8ef-82a8d0ec2b72",
   "metadata": {},
   "outputs": [
    {
     "data": {
      "text/plain": [
       "DeviceArray(-1377.14856931, dtype=float64)"
      ]
     },
     "execution_count": 30,
     "metadata": {},
     "output_type": "execute_result"
    }
   ],
   "source": [
    "loglike(rand(model.ndim(hyper)))"
   ]
  },
  {
   "cell_type": "code",
   "execution_count": 31,
   "id": "32a122a1-249d-4344-9296-92bf576c9b00",
   "metadata": {},
   "outputs": [
    {
     "data": {
      "text/plain": [
       "DeviceArray([ 3.44958885e+03, -4.66927366e+03, -4.63799734e+02,\n",
       "             -6.89103778e+01, -5.32079894e+03, -1.70282769e+02,\n",
       "              9.74102790e+02,  1.00886883e+03,  7.18546114e+00,\n",
       "              2.72033210e+00, -4.10706117e+02, -1.17154397e+00,\n",
       "             -5.54390953e+02, -5.73552962e+01, -7.69590520e+02,\n",
       "             -4.59208965e+02,  3.38916120e+02,  2.18941311e+01,\n",
       "             -1.01478478e+02, -3.34887027e+00,  1.12186112e+02,\n",
       "              1.14872357e+01, -1.20188294e+02,  4.94810066e+01,\n",
       "             -1.77452472e+02, -4.08433205e+02, -1.80508101e+01,\n",
       "             -4.17980110e+01,  8.12550745e+03,  4.81525336e+02,\n",
       "             -1.54030840e+02, -6.23993774e+02,  3.82009534e+02,\n",
       "              4.44116669e+02], dtype=float64)"
      ]
     },
     "execution_count": 31,
     "metadata": {},
     "output_type": "execute_result"
    }
   ],
   "source": [
    "grad_u(rand(model.ndim(hyper)))"
   ]
  },
  {
   "cell_type": "code",
   "execution_count": 42,
   "id": "c4946514-1b54-420c-b07a-813d89359df8",
   "metadata": {
    "scrolled": true,
    "tags": []
   },
   "outputs": [
    {
     "name": "stderr",
     "output_type": "stream",
     "text": [
      "590it [01:06,  8.83it/s, bound: 1 | nc: 1393 | ncall: 55843 | eff(%):  1.057 | loglstar:   -inf < -63.975 <    inf | logz: -72.174 +/-  0.262 | dlogz: 29.357 >  0.111]\n"
     ]
    },
    {
     "ename": "KeyboardInterrupt",
     "evalue": "",
     "output_type": "error",
     "traceback": [
      "\u001b[0;31m---------------------------------------------------------------------------\u001b[0m",
      "\u001b[0;31mKeyboardInterrupt\u001b[0m                         Traceback (most recent call last)",
      "Input \u001b[0;32mIn [42]\u001b[0m, in \u001b[0;36m<cell line: 8>\u001b[0;34m()\u001b[0m\n\u001b[1;32m      2\u001b[0m RUNARGS \u001b[38;5;241m=\u001b[39m {\u001b[38;5;124m'\u001b[39m\u001b[38;5;124msave_bounds\u001b[39m\u001b[38;5;124m'\u001b[39m: \u001b[38;5;28;01mFalse\u001b[39;00m, \u001b[38;5;124m'\u001b[39m\u001b[38;5;124mmaxcall\u001b[39m\u001b[38;5;124m'\u001b[39m: \u001b[38;5;28mint\u001b[39m(\u001b[38;5;241m1e5\u001b[39m)}\n\u001b[1;32m      4\u001b[0m sampler \u001b[38;5;241m=\u001b[39m dynesty\u001b[38;5;241m.\u001b[39mNestedSampler(\n\u001b[1;32m      5\u001b[0m     loglike, ptform, ndim, nlive\u001b[38;5;241m=\u001b[39mndim\u001b[38;5;241m*\u001b[39m\u001b[38;5;241m3\u001b[39m, \u001b[38;5;241m*\u001b[39m\u001b[38;5;241m*\u001b[39mSAMPLERARGS\n\u001b[1;32m      6\u001b[0m )\n\u001b[0;32m----> 8\u001b[0m \u001b[43msampler\u001b[49m\u001b[38;5;241;43m.\u001b[39;49m\u001b[43mrun_nested\u001b[49m\u001b[43m(\u001b[49m\u001b[38;5;241;43m*\u001b[39;49m\u001b[38;5;241;43m*\u001b[39;49m\u001b[43mRUNARGS\u001b[49m\u001b[43m)\u001b[49m\n\u001b[1;32m      9\u001b[0m results \u001b[38;5;241m=\u001b[39m sampler\u001b[38;5;241m.\u001b[39mresults\n",
      "File \u001b[0;32m~/thesis/py/venv/lib/python3.10/site-packages/dynesty/sampler.py:952\u001b[0m, in \u001b[0;36mSampler.run_nested\u001b[0;34m(self, maxiter, maxcall, dlogz, logl_max, n_effective, add_live, print_progress, print_func, save_bounds, checkpoint_file, checkpoint_every, resume)\u001b[0m\n\u001b[1;32m    950\u001b[0m \u001b[38;5;28;01mtry\u001b[39;00m:\n\u001b[1;32m    951\u001b[0m     ncall \u001b[38;5;241m=\u001b[39m \u001b[38;5;28mself\u001b[39m\u001b[38;5;241m.\u001b[39mncall\n\u001b[0;32m--> 952\u001b[0m     \u001b[38;5;28;01mfor\u001b[39;00m it, results \u001b[38;5;129;01min\u001b[39;00m \u001b[38;5;28menumerate\u001b[39m(\n\u001b[1;32m    953\u001b[0m             \u001b[38;5;28mself\u001b[39m\u001b[38;5;241m.\u001b[39msample(maxiter\u001b[38;5;241m=\u001b[39mmaxiter,\n\u001b[1;32m    954\u001b[0m                         maxcall\u001b[38;5;241m=\u001b[39mmaxcall,\n\u001b[1;32m    955\u001b[0m                         dlogz\u001b[38;5;241m=\u001b[39mdlogz,\n\u001b[1;32m    956\u001b[0m                         logl_max\u001b[38;5;241m=\u001b[39mlogl_max,\n\u001b[1;32m    957\u001b[0m                         save_bounds\u001b[38;5;241m=\u001b[39msave_bounds,\n\u001b[1;32m    958\u001b[0m                         save_samples\u001b[38;5;241m=\u001b[39m\u001b[38;5;28;01mTrue\u001b[39;00m,\n\u001b[1;32m    959\u001b[0m                         n_effective\u001b[38;5;241m=\u001b[39mn_effective,\n\u001b[1;32m    960\u001b[0m                         resume\u001b[38;5;241m=\u001b[39mresume,\n\u001b[1;32m    961\u001b[0m                         add_live\u001b[38;5;241m=\u001b[39madd_live)):\n\u001b[1;32m    962\u001b[0m         ncall \u001b[38;5;241m+\u001b[39m\u001b[38;5;241m=\u001b[39m results\u001b[38;5;241m.\u001b[39mnc\n\u001b[1;32m    964\u001b[0m         \u001b[38;5;66;03m# Print progress.\u001b[39;00m\n",
      "File \u001b[0;32m~/thesis/py/venv/lib/python3.10/site-packages/dynesty/sampler.py:778\u001b[0m, in \u001b[0;36mSampler.sample\u001b[0;34m(self, maxiter, maxcall, dlogz, logl_max, n_effective, add_live, save_bounds, save_samples, resume)\u001b[0m\n\u001b[1;32m    773\u001b[0m     old_blob \u001b[38;5;241m=\u001b[39m \u001b[38;5;28;01mNone\u001b[39;00m\n\u001b[1;32m    775\u001b[0m \u001b[38;5;66;03m# Sample a new live point from within the likelihood constraint\u001b[39;00m\n\u001b[1;32m    776\u001b[0m \u001b[38;5;66;03m# `logl > loglstar` using the bounding distribution and sampling\u001b[39;00m\n\u001b[1;32m    777\u001b[0m \u001b[38;5;66;03m# method from our sampler.\u001b[39;00m\n\u001b[0;32m--> 778\u001b[0m u, v, logl, nc \u001b[38;5;241m=\u001b[39m \u001b[38;5;28;43mself\u001b[39;49m\u001b[38;5;241;43m.\u001b[39;49m\u001b[43m_new_point\u001b[49m\u001b[43m(\u001b[49m\u001b[43mloglstar_new\u001b[49m\u001b[43m)\u001b[49m\n\u001b[1;32m    779\u001b[0m ncall \u001b[38;5;241m+\u001b[39m\u001b[38;5;241m=\u001b[39m nc\n\u001b[1;32m    780\u001b[0m \u001b[38;5;28mself\u001b[39m\u001b[38;5;241m.\u001b[39mncall \u001b[38;5;241m+\u001b[39m\u001b[38;5;241m=\u001b[39m nc\n",
      "File \u001b[0;32m~/thesis/py/venv/lib/python3.10/site-packages/dynesty/sampler.py:385\u001b[0m, in \u001b[0;36mSampler._new_point\u001b[0;34m(self, loglstar)\u001b[0m\n\u001b[1;32m    382\u001b[0m ncall, nupdate \u001b[38;5;241m=\u001b[39m \u001b[38;5;241m0\u001b[39m, \u001b[38;5;241m0\u001b[39m\n\u001b[1;32m    383\u001b[0m \u001b[38;5;28;01mwhile\u001b[39;00m \u001b[38;5;28;01mTrue\u001b[39;00m:\n\u001b[1;32m    384\u001b[0m     \u001b[38;5;66;03m# Get the next point from the queue\u001b[39;00m\n\u001b[0;32m--> 385\u001b[0m     u, v, logl, nc, blob \u001b[38;5;241m=\u001b[39m \u001b[38;5;28;43mself\u001b[39;49m\u001b[38;5;241;43m.\u001b[39;49m\u001b[43m_get_point_value\u001b[49m\u001b[43m(\u001b[49m\u001b[43mloglstar\u001b[49m\u001b[43m)\u001b[49m\n\u001b[1;32m    386\u001b[0m     ncall \u001b[38;5;241m+\u001b[39m\u001b[38;5;241m=\u001b[39m nc\n\u001b[1;32m    388\u001b[0m     \u001b[38;5;66;03m# Bounding checks.\u001b[39;00m\n",
      "File \u001b[0;32m~/thesis/py/venv/lib/python3.10/site-packages/dynesty/sampler.py:368\u001b[0m, in \u001b[0;36mSampler._get_point_value\u001b[0;34m(self, loglstar)\u001b[0m\n\u001b[1;32m    366\u001b[0m \u001b[38;5;66;03m# If the queue is empty, refill it.\u001b[39;00m\n\u001b[1;32m    367\u001b[0m \u001b[38;5;28;01mif\u001b[39;00m \u001b[38;5;28mself\u001b[39m\u001b[38;5;241m.\u001b[39mnqueue \u001b[38;5;241m<\u001b[39m\u001b[38;5;241m=\u001b[39m \u001b[38;5;241m0\u001b[39m:\n\u001b[0;32m--> 368\u001b[0m     \u001b[38;5;28;43mself\u001b[39;49m\u001b[38;5;241;43m.\u001b[39;49m\u001b[43m_fill_queue\u001b[49m\u001b[43m(\u001b[49m\u001b[43mloglstar\u001b[49m\u001b[43m)\u001b[49m\n\u001b[1;32m    370\u001b[0m \u001b[38;5;66;03m# Grab the earliest entry.\u001b[39;00m\n\u001b[1;32m    371\u001b[0m u, v, logl, nc, blob \u001b[38;5;241m=\u001b[39m \u001b[38;5;28mself\u001b[39m\u001b[38;5;241m.\u001b[39mqueue\u001b[38;5;241m.\u001b[39mpop(\u001b[38;5;241m0\u001b[39m)\n",
      "File \u001b[0;32m~/thesis/py/venv/lib/python3.10/site-packages/dynesty/sampler.py:361\u001b[0m, in \u001b[0;36mSampler._fill_queue\u001b[0;34m(self, loglstar)\u001b[0m\n\u001b[1;32m    351\u001b[0m \u001b[38;5;28;01mfor\u001b[39;00m i \u001b[38;5;129;01min\u001b[39;00m \u001b[38;5;28mrange\u001b[39m(\u001b[38;5;28mself\u001b[39m\u001b[38;5;241m.\u001b[39mqueue_size):\n\u001b[1;32m    352\u001b[0m     args\u001b[38;5;241m.\u001b[39mappend(\n\u001b[1;32m    353\u001b[0m         SamplerArgument(u\u001b[38;5;241m=\u001b[39mpoint_queue[i],\n\u001b[1;32m    354\u001b[0m                         loglstar\u001b[38;5;241m=\u001b[39mloglstar,\n\u001b[0;32m   (...)\u001b[0m\n\u001b[1;32m    359\u001b[0m                         rseed\u001b[38;5;241m=\u001b[39mseeds[i],\n\u001b[1;32m    360\u001b[0m                         kwargs\u001b[38;5;241m=\u001b[39m\u001b[38;5;28mself\u001b[39m\u001b[38;5;241m.\u001b[39mkwargs))\n\u001b[0;32m--> 361\u001b[0m \u001b[38;5;28mself\u001b[39m\u001b[38;5;241m.\u001b[39mqueue \u001b[38;5;241m=\u001b[39m \u001b[38;5;28;43mlist\u001b[39;49m\u001b[43m(\u001b[49m\u001b[43mmapper\u001b[49m\u001b[43m(\u001b[49m\u001b[43mevolve_point\u001b[49m\u001b[43m,\u001b[49m\u001b[43m \u001b[49m\u001b[43margs\u001b[49m\u001b[43m)\u001b[49m\u001b[43m)\u001b[49m\n",
      "File \u001b[0;32m~/thesis/py/venv/lib/python3.10/site-packages/dynesty/sampling.py:958\u001b[0m, in \u001b[0;36msample_hslice\u001b[0;34m(args)\u001b[0m\n\u001b[1;32m    955\u001b[0m     logl_l \u001b[38;5;241m=\u001b[39m \u001b[38;5;241m-\u001b[39mnp\u001b[38;5;241m.\u001b[39minf\n\u001b[1;32m    956\u001b[0m \u001b[38;5;66;03m# Check if we satisfy the log-likelihood constraint\u001b[39;00m\n\u001b[1;32m    957\u001b[0m \u001b[38;5;66;03m# (i.e. are \"in\" or \"out\" of bounds).\u001b[39;00m\n\u001b[0;32m--> 958\u001b[0m \u001b[38;5;28;01mif\u001b[39;00m \u001b[43mlogl_l\u001b[49m\u001b[43m \u001b[49m\u001b[38;5;241;43m<\u001b[39;49m\u001b[43m \u001b[49m\u001b[43mloglstar\u001b[49m:\n\u001b[1;32m    959\u001b[0m     \u001b[38;5;28;01mif\u001b[39;00m reflect:\n\u001b[1;32m    960\u001b[0m         \u001b[38;5;66;03m# If we are out of bounds and just reflected, we\u001b[39;00m\n\u001b[1;32m    961\u001b[0m         \u001b[38;5;66;03m# reverse direction and terminate immediately.\u001b[39;00m\n\u001b[1;32m    962\u001b[0m         reverse \u001b[38;5;241m=\u001b[39m \u001b[38;5;28;01mTrue\u001b[39;00m\n",
      "File \u001b[0;32m~/thesis/py/venv/lib/python3.10/site-packages/dynesty/utils.py:83\u001b[0m, in \u001b[0;36mLoglOutput.__lt__\u001b[0;34m(self, v1)\u001b[0m\n\u001b[1;32m     79\u001b[0m \u001b[38;5;28;01mdef\u001b[39;00m \u001b[38;5;21m__lt__\u001b[39m(\u001b[38;5;28mself\u001b[39m, v1):\n\u001b[1;32m     80\u001b[0m     \u001b[38;5;124;03m\"\"\"\u001b[39;00m\n\u001b[1;32m     81\u001b[0m \u001b[38;5;124;03m    Comparison override, we just use .val attribute in the comparison\u001b[39;00m\n\u001b[1;32m     82\u001b[0m \u001b[38;5;124;03m    \"\"\"\u001b[39;00m\n\u001b[0;32m---> 83\u001b[0m     \u001b[38;5;28;01mreturn\u001b[39;00m \u001b[38;5;28;43mfloat\u001b[39;49m\u001b[43m(\u001b[49m\u001b[38;5;28;43mself\u001b[39;49m\u001b[43m)\u001b[49m \u001b[38;5;241m<\u001b[39m \u001b[38;5;28mfloat\u001b[39m(v1)\n",
      "File \u001b[0;32m~/thesis/py/venv/lib/python3.10/site-packages/dynesty/utils.py:113\u001b[0m, in \u001b[0;36mLoglOutput.__float__\u001b[0;34m(self)\u001b[0m\n\u001b[1;32m    109\u001b[0m \u001b[38;5;28;01mdef\u001b[39;00m \u001b[38;5;21m__float__\u001b[39m(\u001b[38;5;28mself\u001b[39m):\n\u001b[1;32m    110\u001b[0m     \u001b[38;5;124;03m\"\"\"\u001b[39;00m\n\u001b[1;32m    111\u001b[0m \u001b[38;5;124;03m    Comparison override, we just use .val attribute in the comparison\u001b[39;00m\n\u001b[1;32m    112\u001b[0m \u001b[38;5;124;03m    \"\"\"\u001b[39;00m\n\u001b[0;32m--> 113\u001b[0m     \u001b[38;5;28;01mreturn\u001b[39;00m \u001b[38;5;28;43mfloat\u001b[39;49m\u001b[43m(\u001b[49m\u001b[38;5;28;43mself\u001b[39;49m\u001b[38;5;241;43m.\u001b[39;49m\u001b[43mval\u001b[49m\u001b[43m)\u001b[49m\n",
      "File \u001b[0;32m~/thesis/py/venv/lib/python3.10/site-packages/jax/_src/device_array.py:313\u001b[0m, in \u001b[0;36m<lambda>\u001b[0;34m(self)\u001b[0m\n\u001b[1;32m    311\u001b[0m \u001b[38;5;28msetattr\u001b[39m(device_array, \u001b[38;5;124m\"\u001b[39m\u001b[38;5;124m__bool__\u001b[39m\u001b[38;5;124m\"\u001b[39m, partialmethod(_forward_to_value, \u001b[38;5;28mbool\u001b[39m))\n\u001b[1;32m    312\u001b[0m \u001b[38;5;28msetattr\u001b[39m(device_array, \u001b[38;5;124m\"\u001b[39m\u001b[38;5;124m__nonzero__\u001b[39m\u001b[38;5;124m\"\u001b[39m, partialmethod(_forward_to_value, \u001b[38;5;28mbool\u001b[39m))\n\u001b[0;32m--> 313\u001b[0m \u001b[38;5;28msetattr\u001b[39m(device_array, \u001b[38;5;124m\"\u001b[39m\u001b[38;5;124m__float__\u001b[39m\u001b[38;5;124m\"\u001b[39m, \u001b[38;5;28;01mlambda\u001b[39;00m \u001b[38;5;28mself\u001b[39m: \u001b[38;5;28;43mself\u001b[39;49m\u001b[38;5;241;43m.\u001b[39;49m\u001b[43m_value\u001b[49m\u001b[38;5;241;43m.\u001b[39;49m\u001b[38;5;21;43m__float__\u001b[39;49m\u001b[43m(\u001b[49m\u001b[43m)\u001b[49m)\n\u001b[1;32m    314\u001b[0m \u001b[38;5;28msetattr\u001b[39m(device_array, \u001b[38;5;124m\"\u001b[39m\u001b[38;5;124m__int__\u001b[39m\u001b[38;5;124m\"\u001b[39m, \u001b[38;5;28;01mlambda\u001b[39;00m \u001b[38;5;28mself\u001b[39m: \u001b[38;5;28mself\u001b[39m\u001b[38;5;241m.\u001b[39m_value\u001b[38;5;241m.\u001b[39m\u001b[38;5;21m__int__\u001b[39m())\n\u001b[1;32m    315\u001b[0m \u001b[38;5;28msetattr\u001b[39m(device_array, \u001b[38;5;124m\"\u001b[39m\u001b[38;5;124m__complex__\u001b[39m\u001b[38;5;124m\"\u001b[39m, \u001b[38;5;28;01mlambda\u001b[39;00m \u001b[38;5;28mself\u001b[39m: \u001b[38;5;28mself\u001b[39m\u001b[38;5;241m.\u001b[39m_value\u001b[38;5;241m.\u001b[39m\u001b[38;5;21m__complex__\u001b[39m())\n",
      "\u001b[0;31mKeyboardInterrupt\u001b[0m: "
     ]
    }
   ],
   "source": [
    "SAMPLERARGS = {'sample': 'hslice', 'gradient': grad_u, 'first_update': {'min_eff': 2.}}\n",
    "RUNARGS = {'save_bounds': False, 'maxcall': int(1e5)}\n",
    "\n",
    "sampler = dynesty.NestedSampler(\n",
    "    loglike, ptform, ndim, nlive=ndim*3, **SAMPLERARGS\n",
    ")\n",
    "\n",
    "sampler.run_nested(**RUNARGS)\n",
    "results = sampler.results"
   ]
  },
  {
   "cell_type": "code",
   "execution_count": null,
   "id": "ef8aa324-0ab3-4021-bd67-042fa52231d6",
   "metadata": {},
   "outputs": [],
   "source": [
    "model.unpack_theta(theta_bijector_unit.forward(results.samples[-1,:]), hyper)"
   ]
  },
  {
   "cell_type": "markdown",
   "id": "e3d094a5-c03d-4171-8afa-af2a985153d2",
   "metadata": {},
   "source": [
    "## Try MAP from unit cube"
   ]
  },
  {
   "cell_type": "code",
   "execution_count": 43,
   "id": "bdc83364-2583-4488-be0d-3cafd9b4037a",
   "metadata": {},
   "outputs": [
    {
     "name": "stdout",
     "output_type": "stream",
     "text": [
      "[Memory]943.6s, 15.7min : Loading posterior_of_fitted_lf_values...\n",
      "[Memory]943.6s, 15.7min : Loading run_nested...\n",
      "[Memory]943.7s, 15.7min : Loading posterior_of_fitted_TFB_values...\n",
      "[Memory]943.7s, 15.7min : Loading run_nested...\n",
      "34\n"
     ]
    }
   ],
   "source": [
    "import jaxopt\n",
    "\n",
    "theta_bijector_unit = theta_trajectory_bijector_unit_cube(hyper)\n",
    "\n",
    "ndim = model.ndim(hyper)\n",
    "print(ndim)\n",
    "\n",
    "def logabsdet_delw_deltheta(w):\n",
    "    return -theta_bijector_unit.forward_log_det_jacobian(w)\n",
    "\n",
    "def loglike(w):\n",
    "    \"\"\"Return L(theta(w)) where a priori w ~ N(0, I)\"\"\"\n",
    "    theta = theta_bijector_unit.forward(w)\n",
    "    logcorrection = logabsdet_delw_deltheta(w)\n",
    "    loglikelihood = model.full_likelihood(theta, hyper)\n",
    "    return loglikelihood + logcorrection\n",
    "\n",
    "def logprior(w):\n",
    "    return 0.\n",
    "\n",
    "def minus_inf_if_nan(x):\n",
    "    return jax.lax.cond(jnp.isnan(x), lambda: -jnp.inf, lambda: x)\n",
    "\n",
    "def logjoint(w):\n",
    "    lj = loglike(w) + logprior(w)\n",
    "    return minus_inf_if_nan(lj)"
   ]
  },
  {
   "cell_type": "code",
   "execution_count": 44,
   "id": "851680c4-a27b-4d81-b749-9294e9492cf7",
   "metadata": {},
   "outputs": [
    {
     "data": {
      "text/plain": [
       "DeviceArray(-1868.47157848, dtype=float64)"
      ]
     },
     "execution_count": 44,
     "metadata": {},
     "output_type": "execute_result"
    }
   ],
   "source": [
    "logjoint(rand(model.ndim(hyper)))"
   ]
  },
  {
   "cell_type": "code",
   "execution_count": 45,
   "id": "71bf9369-2e21-4958-a3b1-2bdb9571512f",
   "metadata": {},
   "outputs": [
    {
     "data": {
      "text/plain": [
       "DeviceArray([ 7.33010463e+03,  1.47055634e+04, -4.84948203e+02,\n",
       "             -1.43653026e+02, -8.54384667e+03, -2.46607243e+02,\n",
       "             -8.31176425e+03, -9.01560483e+02, -3.48859927e+02,\n",
       "             -8.53688346e+01, -4.55277108e+01,  5.08874103e+01,\n",
       "             -1.93204623e+04, -4.19623636e+02, -3.87091852e+03,\n",
       "             -2.81299900e+01,  1.87322049e+03,  6.85933061e+02,\n",
       "              8.60349974e+02,  1.06476192e+02, -1.60428061e+02,\n",
       "             -1.09534117e+01, -1.63565019e+03, -2.04291154e+03,\n",
       "              8.23713390e+02,  6.60411990e+02, -1.12028206e+03,\n",
       "             -1.28953758e+02, -2.48503135e+03, -6.28888575e+03,\n",
       "             -2.42818775e+03,  4.02379566e+02,  1.89879276e+02,\n",
       "             -3.07327996e+02], dtype=float64)"
      ]
     },
     "execution_count": 45,
     "metadata": {},
     "output_type": "execute_result"
    }
   ],
   "source": [
    "jax.grad(logjoint)(rand(model.ndim(hyper)))"
   ]
  },
  {
   "cell_type": "code",
   "execution_count": 55,
   "id": "09013ed3-d666-41a5-8bea-39d80d7755b2",
   "metadata": {},
   "outputs": [
    {
     "data": {
      "text/plain": [
       "OptStep(params=DeviceArray([0.58858462, 0.9465155 , 0.87662548, 0.39177454, 0.81445816,\n",
       "             0.65044607, 0.14733151, 0.64987562, 0.83403149, 0.62989701,\n",
       "             0.79573533, 0.06280092, 0.91935783, 0.05208885, 0.44969054,\n",
       "             0.26217369, 0.00971448, 0.90887496, 0.50039146, 0.49479239,\n",
       "             0.58924923, 0.01923443, 0.91938315, 0.60063305, 0.56655786,\n",
       "             0.17457035, 0.23032573, 0.82170012, 0.6391084 , 0.46660409,\n",
       "             0.61875406, 0.4879013 , 0.85375927, 0.79179021],            dtype=float64), state=ScipyMinimizeInfo(fun_val=DeviceArray(1611.3119114, dtype=float64, weak_type=True), success=True, status=0, iter_num=1))"
      ]
     },
     "metadata": {},
     "output_type": "display_data"
    }
   ],
   "source": [
    "u0 = rand(model.ndim(hyper))\n",
    "\n",
    "def objective(u):\n",
    "    return -logjoint(u)\n",
    "\n",
    "lbfgsb = jaxopt.ScipyBoundedMinimize(\n",
    "    fun=objective,\n",
    "    method=\"l-bfgs-b\", maxiter=int(1e5)\n",
    ")\n",
    "\n",
    "lower_bounds = jnp.zeros(ndim)\n",
    "upper_bounds = jnp.ones(ndim)\n",
    "bounds = (lower_bounds, upper_bounds)\n",
    "\n",
    "info = lbfgsb.run(u0, bounds=bounds)\n",
    "display(info)\n",
    "u_opt = info.params"
   ]
  },
  {
   "cell_type": "code",
   "execution_count": null,
   "id": "b15bcedb-5367-45a5-8988-4118d3b28fca",
   "metadata": {},
   "outputs": [],
   "source": [
    "u0 = rand(model.ndim(hyper))\n",
    "\n",
    "def objective(u):\n",
    "    return -logjoint(u)\n",
    "\n",
    "lbfgsb = jaxopt.ScipyBoundedMinimize(\n",
    "    fun=objective,\n",
    "    method=\"l-bfgs-b\", maxiter=int(1e5)\n",
    ")\n",
    "\n",
    "lower_bounds = jnp.zeros(ndim)\n",
    "upper_bounds = jnp.ones(ndim)\n",
    "bounds = (lower_bounds, upper_bounds)\n",
    "\n",
    "info = lbfgsb.run(u0, bounds=bounds)\n",
    "display(info)\n",
    "u_opt = info.params"
   ]
  },
  {
   "cell_type": "code",
   "execution_count": 54,
   "id": "55a418bd-8a1e-4afc-968c-8c9cfc7fe437",
   "metadata": {},
   "outputs": [
    {
     "data": {
      "text/plain": [
       "(DeviceArray(0.02962392, dtype=float64),\n",
       " DeviceArray(-0.72494598, dtype=float64),\n",
       " {'Oq': DeviceArray([0.46426043, 0.49373506], dtype=float64),\n",
       "  'T': DeviceArray([5.77229369, 5.85741576], dtype=float64),\n",
       "  'r': DeviceArray([0.05144742, 0.05042596], dtype=float64),\n",
       "  'var_sigma': DeviceArray([0.73098629, 0.68317686], dtype=float64)},\n",
       " {'g': DeviceArray([[-0.19970393,  0.96246039,  3.19891007, -0.25592435,\n",
       "                -1.01940501, -1.97686304],\n",
       "               [ 0.24709216,  2.37680972, -0.40306422, -2.2725812 ,\n",
       "                 0.396923  , -1.33751078]], dtype=float64),\n",
       "  'x': DeviceArray([[ 543.80077541, 1211.87048349, 2652.15832986],\n",
       "               [ 555.93781866, 1193.38169563, 2639.71875712]],            dtype=float64),\n",
       "  'y': DeviceArray([[119.39986901, 478.32862013,  37.20853475],\n",
       "               [113.08167713, 481.87053588,  37.99666404]], dtype=float64)})"
      ]
     },
     "execution_count": 54,
     "metadata": {},
     "output_type": "execute_result"
    }
   ],
   "source": [
    "model.unpack_theta(theta_bijector_unit.forward(u_opt), hyper)"
   ]
  },
  {
   "cell_type": "code",
   "execution_count": 61,
   "id": "f58098c6-a30c-4649-85f9-a6f5f203e85f",
   "metadata": {},
   "outputs": [
    {
     "data": {
      "text/plain": [
       "OptStep(params=DeviceArray([1.        , 1.        , 1.        , 0.55275894, 0.        ,\n",
       "             0.51498272, 0.13380901, 0.51726599, 1.        , 0.37815693,\n",
       "             1.        , 0.38361836, 0.43402631, 0.49909326, 0.        ,\n",
       "             0.22727607, 0.76487827, 0.94190997, 0.85076401, 0.68435892,\n",
       "             1.        , 0.04688039, 0.62830785, 0.7610516 , 0.53933303,\n",
       "             0.82903469, 0.67433916, 0.14085808, 1.        , 1.        ,\n",
       "             0.        , 0.        , 0.1004866 , 1.        ],            dtype=float64), state=ProxGradState(iter_num=DeviceArray(1, dtype=int64, weak_type=True), stepsize=DeviceArray(0.001, dtype=float64, weak_type=True), error=DeviceArray(nan, dtype=float64), aux=None, velocity=DeviceArray([1.        , 1.        , 1.        , 0.55275894, 0.        ,\n",
       "             0.51498272, 0.13380901, 0.51726599, 1.        , 0.37815693,\n",
       "             1.        , 0.38361836, 0.43402631, 0.49909326, 0.        ,\n",
       "             0.22727607, 0.76487827, 0.94190997, 0.85076401, 0.68435892,\n",
       "             1.        , 0.04688039, 0.62830785, 0.7610516 , 0.53933303,\n",
       "             0.82903469, 0.67433916, 0.14085808, 1.        , 1.        ,\n",
       "             0.        , 0.        , 0.1004866 , 1.        ],            dtype=float64), t=DeviceArray(1.61803399, dtype=float64, weak_type=True)))"
      ]
     },
     "metadata": {},
     "output_type": "display_data"
    }
   ],
   "source": [
    "u0 = rand(model.ndim(hyper))\n",
    "\n",
    "def objective(u):\n",
    "    return -logjoint(u)\n",
    "\n",
    "lower_bounds = jnp.zeros(ndim)\n",
    "upper_bounds = jnp.ones(ndim)\n",
    "bounds = (lower_bounds, upper_bounds)\n",
    "\n",
    "pg = jaxopt.ProjectedGradient(\n",
    "    fun=objective, projection=jaxopt.projection.projection_box,\n",
    "    stepsize = 0.001, \n",
    ")\n",
    "\n",
    "info = pg.run(u0, hyperparams_proj=bounds)\n",
    "display(info)\n",
    "u_opt = info.params"
   ]
  },
  {
   "cell_type": "code",
   "execution_count": 60,
   "id": "e8aeda7f-7e50-4e5c-861f-57b2d37b7094",
   "metadata": {},
   "outputs": [
    {
     "data": {
      "text/plain": [
       "(DeviceArray(1., dtype=float64),\n",
       " DeviceArray(inf, dtype=float64),\n",
       " {'Oq': DeviceArray([0.3, 0.3], dtype=float64),\n",
       "  'T': DeviceArray([20., 20.], dtype=float64),\n",
       "  'r': DeviceArray([0.00159155, 0.00159155], dtype=float64),\n",
       "  'var_sigma': DeviceArray([nan, nan], dtype=float64)},\n",
       " {'g': DeviceArray([[nan, nan, nan, nan, nan, nan],\n",
       "               [nan, nan, nan, nan, nan, nan]], dtype=float64),\n",
       "  'x': DeviceArray([[nan, nan, nan],\n",
       "               [nan, nan, nan]], dtype=float64),\n",
       "  'y': DeviceArray([[  nan,   nan,   nan],\n",
       "               [5000.,   nan,   nan]], dtype=float64)})"
      ]
     },
     "execution_count": 60,
     "metadata": {},
     "output_type": "execute_result"
    }
   ],
   "source": [
    "model.unpack_theta(theta_bijector_unit.forward(u_opt), hyper)"
   ]
  },
  {
   "cell_type": "markdown",
   "id": "d047048a-0f55-4f53-bfe5-d0eb036511cc",
   "metadata": {},
   "source": [
    "## Try MAP from unbounded space\n"
   ]
  },
  {
   "cell_type": "code",
   "execution_count": 6,
   "id": "484a8e78-aac5-4d56-9217-2aa99106bb08",
   "metadata": {},
   "outputs": [
    {
     "name": "stdout",
     "output_type": "stream",
     "text": [
      "[Memory]102.1s, 1.7min  : Loading posterior_of_fitted_lf_values...\n",
      "[Memory]102.1s, 1.7min  : Loading run_nested...\n",
      "[Memory]102.1s, 1.7min  : Loading posterior_of_fitted_TFB_values...\n",
      "[Memory]102.1s, 1.7min  : Loading run_nested...\n"
     ]
    },
    {
     "data": {
      "text/plain": [
       "DeviceArray(-3084.91275255, dtype=float64)"
      ]
     },
     "execution_count": 6,
     "metadata": {},
     "output_type": "execute_result"
    }
   ],
   "source": [
    "import jaxopt\n",
    "\n",
    "theta_bijector = model.theta_trajectory_bijector(hyper)\n",
    "\n",
    "def log_posterior(w):\n",
    "    theta = theta_bijector.forward(w)\n",
    "    logprior = -theta_bijector.forward_log_det_jacobian(w)\n",
    "    logl = model.full_likelihood(theta, hyper)\n",
    "    return logl + logprior\n",
    "\n",
    "log_posterior(randn(model.ndim(hyper)))"
   ]
  },
  {
   "cell_type": "code",
   "execution_count": 71,
   "id": "4cc8e9bb-bc77-4401-86db-8b760ffdcc48",
   "metadata": {},
   "outputs": [
    {
     "data": {
      "text/plain": [
       "DeviceArray([ 3.74055430e+03,  2.69527383e+01, -1.33740728e+01,\n",
       "             -5.24658044e+01, -4.89535998e+01,  1.25028299e+00,\n",
       "              2.90107902e+01,  2.14526613e+02,  1.73719271e+02,\n",
       "             -4.32443028e+01,  1.23203464e+02,  3.34282969e+01,\n",
       "              1.24329394e+01,  2.60318611e+03,  1.25653550e+02,\n",
       "             -1.41498386e+00, -2.38956796e+02, -2.85023095e+01,\n",
       "             -2.80579095e-01, -2.26455009e+02, -2.47340245e+01,\n",
       "             -1.11517057e+00,  2.33504489e+00, -2.74670907e+00,\n",
       "             -5.34909909e-01,  6.49952689e+01,  5.06465064e+00,\n",
       "             -3.97227138e-01,  2.27218139e+02,  2.60299322e+01,\n",
       "              5.61692045e-02,  4.75161800e+02,  1.55830011e+01,\n",
       "             -1.04834890e-02,  3.86880297e+00,  5.43885819e-01,\n",
       "             -2.70326077e-02, -1.08681872e+02, -1.50834000e+01,\n",
       "             -1.62759978e+00,  4.95354441e+01,  6.84416344e+00,\n",
       "              8.37429465e-01,  7.22170405e-01,  4.73325998e-01,\n",
       "             -1.13580043e-01,  3.63077557e+00,  3.18821034e+00,\n",
       "              2.85132381e-01, -5.62329241e-01, -2.24370109e+00,\n",
       "             -3.50616821e+00, -8.70648785e+00,  8.59966549e+01,\n",
       "              2.41675308e+02, -4.14170901e+01, -4.88516855e+01,\n",
       "             -2.88951244e+01,  1.28151416e+02,  7.08320267e+01,\n",
       "             -4.22734449e+01, -7.87543061e+01, -6.32391851e+01,\n",
       "             -2.24803376e+01, -1.48590294e+01, -8.59556968e+00,\n",
       "             -6.45657784e+00, -1.37469470e+01, -2.19492290e+01,\n",
       "              3.61156783e+00, -1.01252821e+01, -1.86820347e+01,\n",
       "             -2.17484412e+01], dtype=float64)"
      ]
     },
     "execution_count": 71,
     "metadata": {},
     "output_type": "execute_result"
    }
   ],
   "source": [
    "jax.grad(log_posterior)(randn(model.ndim(hyper)))"
   ]
  },
  {
   "cell_type": "code",
   "execution_count": null,
   "id": "d451ceb0-2cd7-429a-9319-c81d9b95557a",
   "metadata": {},
   "outputs": [],
   "source": [
    "w0 = randn(model.ndim(hyper))\n",
    "\n",
    "solver = jaxopt.LBFGS(\n",
    "    fun=lambda w: -log_posterior(w), maxiter=int(1e4), verbose=True\n",
    ")\n",
    "info = solver.run(w0)\n",
    "\n",
    "display(info)\n",
    "w_opt = info.params"
   ]
  },
  {
   "cell_type": "code",
   "execution_count": null,
   "id": "3ce7d6b5-d534-4ae4-a596-c45bf813d259",
   "metadata": {},
   "outputs": [],
   "source": []
  }
 ],
 "metadata": {
  "kernelspec": {
   "display_name": "venv",
   "language": "python",
   "name": "venv"
  },
  "language_info": {
   "codemirror_mode": {
    "name": "ipython",
    "version": 3
   },
   "file_extension": ".py",
   "mimetype": "text/x-python",
   "name": "python",
   "nbconvert_exporter": "python",
   "pygments_lexer": "ipython3",
   "version": "3.10.7"
  }
 },
 "nbformat": 4,
 "nbformat_minor": 5
}
