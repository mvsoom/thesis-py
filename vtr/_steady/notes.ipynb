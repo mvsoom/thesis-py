{
 "cells": [
  {
   "cell_type": "markdown",
   "metadata": {},
   "source": [
    "# Notes for the steady-state case (which we won't do)"
   ]
  },
  {
   "cell_type": "markdown",
   "metadata": {
    "tags": []
   },
   "source": [
    "## The $\\sigma_{XXX}^2$ priors\n",
    "\n",
    "### Power levels and marginal variances\n",
    "\n",
    "Define the power of a vector $v$ as $$\\mathcal{P}(v) = \\frac{1}{N} \\sum_{n=1}^N v_n^2.$$\n",
    "(Alternative notation in line with Bretthorst (1988) is $\\bar{v^2}$).\n",
    "This corresponds to the marginal variance of a GP.\n",
    "For example, $f_t \\sim GP(0,k)$ where $k(t,t) = \\sigma_t^2$ (marginal variance).\n",
    "Then $$E[\\int_0^T dt |f_t(t)|^2] = \\sigma_t^2 T.$$\n",
    "But also $$\\int_0^T dt |f_t(t)|^2 \\approx \\sum_n |f_{t,n}|^2 \\Delta = \\mathcal{P}(f_t) T,$$ so $\\mathcal{P}(f_t) \\approx \\sigma_t^2.$\n",
    "\n",
    "### The $\\sigma_{XXX}^2$ priors\n",
    "\n",
    "The data is comprised of three signals: 'polar' (p) [used to be called 'periodics'], trend (t) and noise (n):\n",
    "\n",
    "$$ d(t) = f(t) + n(t) = f_p(t) + f_t(t) + n(t) $$\n",
    "\n",
    "Each of these 3 signals $(f_p,f_t,n)$ has a characteristic power level $(\\sigma_p^2, \\sigma_t^2, \\sigma_n^2)$ and associated signal-to-XXX ratio (SPR, STR, SNR).\n",
    "We need to set a prior for $\\sigma_p^2$, $\\sigma_t^2$ and $\\sigma_n^2$.\n",
    "These priors are based on earlier experience with the polynomial model.\n",
    "\n",
    "Assume the unit power convention $\\mathcal{P}(d) := 1$ by rescaling $d(t)$. This allows us to set scales for the other power levels:\n",
    "- In the experiments, $\\sigma_p^2 \\sim O(1)$, $\\sigma_t^2 \\sim O(1)$, so we just set them to $1/2$ each.\n",
    "This follows from the following: We have $$|d|^2 \\simeq |f_p + f_t|^2 = |f_p|^2 + |f_t|^2 + 2 f_p \\cdot f_t \\approx |f_p|^2 + |f_t|^2$$ where we assumed the trend and polar components to be orthogonal to each other.\n",
    "Dividing by $N$, this implies $$\\mathcal{P}(d) = 1 \\approx \\mathcal{P}(f_p) + \\mathcal{P}(f_t),$$ so it is reasonably to assign $1/2$ to them each.\n",
    "This means SPR = STR = 3 dB.\n",
    "- From LPC gain and experiments we know that SNR $\\sim$ 20 dB, so $\\sigma_n^2 \\sim O(0.01)$.\n",
    "\n",
    "Note: there is yet another power level: the noise floor $\\delta_n^2$ at -60 dB (or -80 dB, can't remember).\n",
    "\n",
    "#### More about $\\sigma_p^2$ and $\\sigma_t^2$\n",
    "\n",
    "- If the trend is wobbly, the inproduct with the polar comonponent can be non-neglible and our assumption of orthogonal trend and polar components breaks (cosine angles of $\\sim \\pm O(0.5) \\neq 0$). But things never go too crazy so just assigning $1/2$ will probably be OK.\n",
    "- We tried to do clever things with the Schwarz inequality but it is not particularly helpful here.\n",
    "[Given that $\\mathcal{P}(d) = 1$, you can show that approximately $1 \\leq \\sqrt{\\mathcal{P}(f_p)} + \\sqrt{\\mathcal{P}(f_t)}$, but this is not too helpful.]\n",
    "- We can also parametrize these power levels but we just set them here, since our naieve approach with the polynomials worked fine.\n",
    "\n",
    "### 'Polar'?\n",
    "\n",
    "We contemplated several words for the signal component associated with the poles but finally decided on 'polar', because it is short and to the point, despite other associations it might bring.\n",
    "'Polar' means that this component represents the poles of the system.\n",
    "Here are some alternatives which we considered:\n",
    "- 'resonant': No, because *both* the waveforms of the polar and trend components can, strictly, be said to be due to the resonant filter of the VT. It does not uniquely qualify the polar component.\n",
    "- 'oscillatory': Nice word, but too long, and O subscript looks like a zero.\n",
    "- 'periodical': The trend is also quasi-periodic at the pitch period level. It does not uniquely qualify the polar component.\n",
    "- 'sinusoidal': Nice word, but too long, and in the GP approximations both the trend and polar components are represented by sinusoids. It does not uniquely qualify the polar component."
   ]
  },
  {
   "cell_type": "markdown",
   "metadata": {},
   "source": [
    "## Current questions"
   ]
  },
  {
   "cell_type": "markdown",
   "metadata": {},
   "source": [
    "### Solved\n",
    "\n",
    "- What is the complexity of the old algorithm (i.e., the one we use in `paretochain`)?\n",
    "  * Answer: $O(N_P \\times (NM + NM^2))$, where $N_P = \\text{number of pitch periods}$, $N \\sim O(80)$ is number of data points in a pitch periods, and $M \\sim O(40)$ is the total number of basis functions ($K = 16$). $NM$ comes from calculating $G$ and $NM^2$ from the SVD to find the least-squares amplitudes.\n",
    "- What is the complexity of the new algorithm? (Bretthorst 1991)\n",
    "  * Answer: $O(N_P \\times (NM + M^2 + M^3))$ where $NM$ comes from the projection $G^T d$, $M^2$ comes from calculating $g = G^T G$ analytically and $M^3$ from Cholesky of $g$. Since for us $M = 0(40) ~ N = O(80)$, the dominant cost is $O(M^3)$, so in principle (and in practice) faster than the old algorithm.\n",
    "  * Because the projection $G^T$ can be done with $K + 1$ FFTs, in principle $G$ never even needs to be formed! However, overhead in Python is so large anyway (not to mention the overhead in dynesty's nested sampling loop alone) that we cannot really exploit the benefits of this.\n",
    "- $M$ can be set statically from $f_s$ and $\\ell$, since we choose $\\ell$ fixed based on the pitch period $T$ (namely set to one expected zero crossing).\n",
    "Value of $M$ can be derived from the constraint that we don't want frequencies higher than the glottal formant (right?), i.e., decide in advance on the bandwidth of the trend component. Probably something like $[0,150]$ Hz.\n",
    "  * For $x_\\max = 200$ Hz, $M \\sim O(5)$. For $x_\\max = 10$ kHz, $M \\sim O(128)$. So in both cases this accords with what we thought intuitively before!\n",
    "  * If this doesn't work: value of $M$ can be derived from $f_s$ because after a certain value of $M$ the $\\sin()$ basis has power outside the Nyquist bandwidth. This depends on the lengthscale $\\ell$, so $M$ could be made adaptive. Makes sense because $M$ controls wigglyness, and maximum wigglyness observable is controlled by $f_s$\n",
    "- Might have to disable JAX for speed: yes"
   ]
  },
  {
   "cell_type": "markdown",
   "metadata": {},
   "source": [
    "### Todo\n",
    "\n",
    "- \"Relaxation\" of the Pareto chain prior? Model it by nonlinear whitening (MVN => softclip => exp) so the nested samplers are not stuck at the boundaries. And this prior breaks the invariance of the posterior. Sell it as a pragmatic position that can result in a strong speedup because no *strict* ordering is imposed -- just jinted at (and note that we also don't have to reject samples that are larger than $f_s$ anymore, also resulting in speedup).\n",
    "- Talk about the fact that the FT can be misleading if low frequencies are present, and this is exactly the case we are working with. We also said this in the conference paper (Van Soom 2019a).\n",
    "- Does our new prior eventually turn out like the old ones: $\\sim N(0, \\delta^2 I)$? Because that worked well.\n",
    "- Steady state model: expand RBF with Hilbert and simplify $G^T G$ analytically\n",
    "  * Trend component sinusoids will not be orthogonal because we don't evaluate on $[0,L]$ (i.e., $c \\neq 1$). But we can still represent them as a phased sinusoid $\\sin(\\lambda t + \\phi)$, so Bretthorst's (IV) formula's will still apply because we expand the phased sinusoid in $\\sin$ and $\\cos$ components.\n",
    "- Steady state model: fixed expansion order $K$ is OK because of amplitude $\\sim N(0,\\sigma^2)$ representation. So excessive poles will be suppressed automatically by having zero amplitude. But this argument cannot be made when using an all-pole transfer function representation as in the semiparametric joint inverse filtering."
   ]
  }
 ],
 "metadata": {
  "kernelspec": {
   "display_name": "venv",
   "language": "python",
   "name": "venv"
  },
  "language_info": {
   "codemirror_mode": {
    "name": "ipython",
    "version": 3
   },
   "file_extension": ".py",
   "mimetype": "text/x-python",
   "name": "python",
   "nbconvert_exporter": "python",
   "pygments_lexer": "ipython3",
   "version": "3.8.10"
  }
 },
 "nbformat": 4,
 "nbformat_minor": 4
}
