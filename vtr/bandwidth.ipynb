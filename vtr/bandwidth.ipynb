{
 "cells": [
  {
   "cell_type": "code",
   "execution_count": 1,
   "id": "c8e5f475-f548-42b6-9131-144e3170fc36",
   "metadata": {},
   "outputs": [
    {
     "name": "stderr",
     "output_type": "stream",
     "text": [
      "2022-11-03 16:55:24.064179: W tensorflow/compiler/xla/stream_executor/platform/default/dso_loader.cc:64] Could not load dynamic library 'libcudart.so.11.0'; dlerror: libcudart.so.11.0: cannot open shared object file: No such file or directory\n"
     ]
    },
    {
     "name": "stdout",
     "output_type": "stream",
     "text": [
      "[Memory]3.0s, 0.1min    : Loading get_aplawd_training_pairs...\n"
     ]
    },
    {
     "name": "stderr",
     "output_type": "stream",
     "text": [
      "WARNING:absl:No GPU/TPU found, falling back to CPU. (Set TF_CPP_MIN_LOG_LEVEL=0 and rerun for more info.)\n"
     ]
    },
    {
     "name": "stdout",
     "output_type": "stream",
     "text": [
      "[Memory]17.6s, 0.3min   : Loading run_nested...\n",
      "[Memory]19.0s, 0.3min   : Loading run_nested...\n",
      "[Memory]20.5s, 0.3min   : Loading run_nested...\n",
      "[Memory]21.9s, 0.4min   : Loading run_nested...\n",
      "[Memory]21.9s, 0.4min   : Loading get_aplawd_training_pairs...\n"
     ]
    },
    {
     "data": {
      "text/html": [
       "<style type='text/css'>\n",
       ".datatable table.frame { margin-bottom: 0; }\n",
       ".datatable table.frame thead { border-bottom: none; }\n",
       ".datatable table.frame tr.coltypes td {  color: #FFFFFF;  line-height: 6px;  padding: 0 0.5em;}\n",
       ".datatable .bool    { background: #DDDD99; }\n",
       ".datatable .object  { background: #565656; }\n",
       ".datatable .int     { background: #5D9E5D; }\n",
       ".datatable .float   { background: #4040CC; }\n",
       ".datatable .str     { background: #CC4040; }\n",
       ".datatable .time    { background: #40CC40; }\n",
       ".datatable .row_index {  background: var(--jp-border-color3);  border-right: 1px solid var(--jp-border-color0);  color: var(--jp-ui-font-color3);  font-size: 9px;}\n",
       ".datatable .frame tbody td { text-align: left; }\n",
       ".datatable .frame tr.coltypes .row_index {  background: var(--jp-border-color0);}\n",
       ".datatable th:nth-child(2) { padding-left: 12px; }\n",
       ".datatable .hellipsis {  color: var(--jp-cell-editor-border-color);}\n",
       ".datatable .vellipsis {  background: var(--jp-layout-color0);  color: var(--jp-cell-editor-border-color);}\n",
       ".datatable .na {  color: var(--jp-cell-editor-border-color);  font-size: 80%;}\n",
       ".datatable .sp {  opacity: 0.25;}\n",
       ".datatable .footer { font-size: 9px; }\n",
       ".datatable .frame_dimensions {  background: var(--jp-border-color3);  border-top: 1px solid var(--jp-border-color0);  color: var(--jp-ui-font-color3);  display: inline-block;  opacity: 0.6;  padding: 1px 10px 1px 5px;}\n",
       "</style>\n"
      ],
      "text/plain": [
       "<IPython.core.display.HTML object>"
      ]
     },
     "metadata": {},
     "output_type": "display_data"
    },
    {
     "name": "stdout",
     "output_type": "stream",
     "text": [
      "[Memory]25.6s, 0.4min   : Loading get_vtrformants_training_pairs...\n",
      "[Memory]32.8s, 0.5min   : Loading run_nested...\n",
      "[Memory]33.7s, 0.6min   : Loading run_nested...\n",
      "[Memory]34.6s, 0.6min   : Loading run_nested...\n",
      "[Memory]35.5s, 0.6min   : Loading run_nested...\n",
      "[Memory]35.5s, 0.6min   : Loading get_vtrformants_training_pairs...\n"
     ]
    }
   ],
   "source": [
    "%run init.ipy\n",
    "\n",
    "from vtr import formant"
   ]
  },
  {
   "cell_type": "markdown",
   "id": "f4ae6fbc-8846-4ef1-9d37-6f34055b5d70",
   "metadata": {},
   "source": [
    "## Implement Hawks (1995) $B(F)$ formula\n",
    "\n"
   ]
  },
  {
   "cell_type": "code",
   "execution_count": 41,
   "id": "e7f170b7-cf23-4024-9891-2a46132ac149",
   "metadata": {},
   "outputs": [],
   "source": [
    "prior = formant.formants_marginal_prior()"
   ]
  },
  {
   "cell_type": "code",
   "execution_count": 42,
   "id": "debb6f99-3278-4a9d-8349-9ad4157d2a8d",
   "metadata": {},
   "outputs": [
    {
     "data": {
      "text/plain": [
       "DeviceArray([[ 430.17161519, 1633.07751248, 2997.25735402],\n",
       "             [ 583.80669575, 1910.53491495, 3166.5761966 ],\n",
       "             [ 642.07653092, 1455.26052868, 2755.0272496 ]],            dtype=float64)"
      ]
     },
     "execution_count": 42,
     "metadata": {},
     "output_type": "execute_result"
    }
   ],
   "source": [
    "prior.sample(3,seed=jaxkey())"
   ]
  },
  {
   "cell_type": "code",
   "execution_count": null,
   "id": "67096daf-8d27-4433-a6fb-a4425a4bd769",
   "metadata": {},
   "outputs": [],
   "source": []
  }
 ],
 "metadata": {
  "kernelspec": {
   "display_name": "venv",
   "language": "python",
   "name": "venv"
  },
  "language_info": {
   "codemirror_mode": {
    "name": "ipython",
    "version": 3
   },
   "file_extension": ".py",
   "mimetype": "text/x-python",
   "name": "python",
   "nbconvert_exporter": "python",
   "pygments_lexer": "ipython3",
   "version": "3.8.10"
  }
 },
 "nbformat": 4,
 "nbformat_minor": 5
}
