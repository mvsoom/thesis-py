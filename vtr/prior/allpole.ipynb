{
 "cells": [
  {
   "cell_type": "markdown",
   "id": "4e1a9e66-6dcd-4723-bfa1-4322c91f9397",
   "metadata": {},
   "source": [
    "# All-pole model prior $p(x,y)$\n",
    "\n",
    "## Do poles measure VTRs?\n",
    "\n",
    "\"Formants are easy to measure, VTRs aren't\" @Whalen2022\n",
    "\n",
    "In our view, poles are simply an expansion of the \"true\" transfer function. And we focus on formants, which are highly nonlinear functions of the poles.\n",
    "\n",
    "Therefore, it is dangerous to identify them directly with VTRs, especially in such a simple linear approximation to the system (i.e., source-filter theory). For example, pole (resonance) amplitudes are not free parameters; they are determined by all the poles together -- this seems like a strong simplification: surely the resonance amplitude should be a free parameter? (For example by expanding the transfer function in a Gaussian mixture.)\n",
    "\n",
    "**Nevertheless**, if one wants to measure VTRs, the way one would do this is full Bayesian model selection for the number of poles $K(D)$, ($D$ is the given data speech waveform) rather than assuming a fixed model $K = 16$. Then we can assume $K(D) \\geq 3$, since the minimum amount of formants is 3, and those can be described in the simplest case by just 3 poles (and this would require that the formant amplitudes are indeed just functions of the 3 poles).\n",
    "\n",
    "### PZ-model\n",
    "\n",
    "The above paragraph assumed an AP (all-pole) model. But we could also contemplate a PZ (pole-zero) model where the amplitudes *are* free parameters (equivalent to introducing zeros, but easier because we can get a better prior and we don't have to calculate the partial fraction expansion and we have nested models for $A_k=0$)."
   ]
  },
  {
   "cell_type": "code",
   "execution_count": 1,
   "id": "ea0d9243-5043-4bd7-92a7-320370be74ec",
   "metadata": {},
   "outputs": [
    {
     "ename": "ImportError",
     "evalue": "cannot import name 'formant' from 'vtr' (unknown location)",
     "output_type": "error",
     "traceback": [
      "\u001b[0;31m---------------------------------------------------------------------------\u001b[0m",
      "\u001b[0;31mImportError\u001b[0m                               Traceback (most recent call last)",
      "Input \u001b[0;32mIn [1]\u001b[0m, in \u001b[0;36m<cell line: 3>\u001b[0;34m()\u001b[0m\n\u001b[1;32m      1\u001b[0m get_ipython()\u001b[38;5;241m.\u001b[39mrun_line_magic(\u001b[38;5;124m'\u001b[39m\u001b[38;5;124mrun\u001b[39m\u001b[38;5;124m'\u001b[39m, \u001b[38;5;124m'\u001b[39m\u001b[38;5;124minit.ipy\u001b[39m\u001b[38;5;124m'\u001b[39m)\n\u001b[0;32m----> 3\u001b[0m \u001b[38;5;28;01mfrom\u001b[39;00m \u001b[38;5;21;01mvtr\u001b[39;00m \u001b[38;5;28;01mimport\u001b[39;00m formant\n",
      "\u001b[0;31mImportError\u001b[0m: cannot import name 'formant' from 'vtr' (unknown location)"
     ]
    }
   ],
   "source": [
    "%run init.ipy\n",
    "\n",
    "from vtr import formant"
   ]
  },
  {
   "cell_type": "code",
   "execution_count": null,
   "id": "583b4956-e0e8-4932-9a42-d18429b33a2b",
   "metadata": {},
   "outputs": [],
   "source": []
  }
 ],
 "metadata": {
  "kernelspec": {
   "display_name": "venv",
   "language": "python",
   "name": "venv"
  },
  "language_info": {
   "codemirror_mode": {
    "name": "ipython",
    "version": 3
   },
   "file_extension": ".py",
   "mimetype": "text/x-python",
   "name": "python",
   "nbconvert_exporter": "python",
   "pygments_lexer": "ipython3",
   "version": "3.8.10"
  }
 },
 "nbformat": 4,
 "nbformat_minor": 5
}
