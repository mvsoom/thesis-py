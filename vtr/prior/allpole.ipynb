{
 "cells": [
  {
   "cell_type": "markdown",
   "id": "4e1a9e66-6dcd-4723-bfa1-4322c91f9397",
   "metadata": {},
   "source": [
    "# All-pole model prior $p(x,y)$\n",
    "\n",
    "## Model\n",
    "\n",
    "Fourier transform convention: (same as Eq. 1 in FT wiki page):\n",
    "\n",
    "$$ \\tilde{f}(x) = \\int f(t) e^{-2\\pi i xt} dt $$\n",
    "\n",
    "This is equivalent to choosing units Hz (or kHz) for $x$ rather than rad/s or rad/msec. See `test_core.ipynb` for more on this.\n",
    "\n",
    "Impulse response for $K$ poles $p_k = -\\pi y_k + 2\\pi i x_k$:\n",
    "\n",
    "$$ h(t; p) = (t \\geq 0) \\times \\sum_{k=1}^K c_k e^{p_k t} + c_k^* e^{p_k^* t}$$\n",
    "\n",
    "The coefficients are given by \"the excluded pole product\":\n",
    "\n",
    "$$ c_k = \\lim_{x \\rightarrow p_k} (x - p_k) \\tilde{h}(x; p) = {G \\over \\prod (p_k - p_1) (p_k - p_1^*) \\ldots (p_k - p_k^*) \\ldots (p_k - p_K) (p_k - p_K^*)} $$\n",
    "\n",
    "where the gain $G = \\prod_{k=1}^K |p_k|^2$ and $\\tilde{h}(x; p)$ is defined below.\n",
    "\n",
    "See @Arfken2005 for a reference on partial fraction expansions (PFEs). We\n",
    "simply use the limit formula.\n",
    "\n",
    "The formula for\n",
    "\n",
    "$$p_k = -\\pi y_k + 2\\pi i x_k$$\n",
    "\n",
    "comes from -3 dB bandwidth point and Fourier convention (since $x$ and $y$ are in kHz rather than rad/msec -- that's why we have to multiply by multiples of $\\pi$). We use kHz for $p$ because $t$ is given in msec.\n",
    "\n",
    "Transfer function: (Fourier transform of $h(t; p)$ with our convention)\n",
    "\n",
    "$$ \\tilde{h}(x; p) = {G \\over \\prod_{k=1}^K (2\\pi i x - p_k)(2\\pi i x - p_k^*)}$$\n",
    "\n",
    "Note that the overall scale is determined by the DGF, so we normalize such that $h(0, p) = 1$.\n",
    "\n",
    "\n",
    "\n",
    "## Do poles measure VTRs?\n",
    "\n",
    "\"Formants are easy to measure, VTRs aren't\" @Whalen2022\n",
    "\n",
    "In our view, poles are simply an expansion of the \"true\" transfer function. And we focus on formants, which are highly nonlinear functions of the poles.\n",
    "\n",
    "Therefore, it is dangerous to identify them directly with VTRs, especially in such a simple linear approximation to the system (i.e., source-filter theory). For example, pole (resonance) amplitudes are not free parameters; they are determined by all the poles together -- this seems like a strong simplification: surely the resonance amplitude should be a free parameter? (For example by expanding the transfer function in a Gaussian mixture.)\n",
    "\n",
    "Contra AP model:\n",
    "- Less expressibility; a higher number of poles is necessary to emulate zeros\n",
    "  in the transfer function...\n",
    "- ... and the amplitudes and phases of the sinusoids are not independent; you need extra poles to control those. *This makes it even more clear that poles are just expansion terms*.\n",
    "  > Indeed, learning that spectrum analysis problems can be formulated in AR terms amounts to little more than discovering the Mittag-Leffler theorem of complex variable theory (under rather general conditions an analytic function is determined by its poles and residues). [@Jaynes1987, p. 3]\n",
    "\n",
    "**Nevertheless**, if one wants to measure VTRs, the way one would do this is full Bayesian model selection for the number of poles $K(D)$, ($D$ is the given data speech waveform) rather than assuming a fixed model $K = 16$. Then we can assume $K(D) \\geq 3$, since the minimum amount of formants is 3, and those can be described in the simplest case by just 3 poles (and this would require that the formant amplitudes are indeed just functions of the 3 poles).\n",
    "\n",
    "### PZ-model\n",
    "\n",
    "The above paragraph assumed an AP (all-pole) model. But we could also contemplate a PZ (pole-zero) model where the amplitudes *are* free parameters (equivalent to introducing zeros, but easier because we can get a better prior and we don't have to calculate the partial fraction expansion and we have nested models for $A_k=0$)."
   ]
  },
  {
   "cell_type": "code",
   "execution_count": 1,
   "id": "ea0d9243-5043-4bd7-92a7-320370be74ec",
   "metadata": {},
   "outputs": [
    {
     "name": "stderr",
     "output_type": "stream",
     "text": [
      "2022-11-09 11:03:43.779548: W tensorflow/compiler/xla/stream_executor/platform/default/dso_loader.cc:64] Could not load dynamic library 'libcudart.so.11.0'; dlerror: libcudart.so.11.0: cannot open shared object file: No such file or directory\n"
     ]
    },
    {
     "name": "stdout",
     "output_type": "stream",
     "text": [
      "[Memory]4.3s, 0.1min    : Loading get_aplawd_training_pairs...\n"
     ]
    },
    {
     "name": "stderr",
     "output_type": "stream",
     "text": [
      "WARNING:absl:No GPU/TPU found, falling back to CPU. (Set TF_CPP_MIN_LOG_LEVEL=0 and rerun for more info.)\n"
     ]
    },
    {
     "name": "stdout",
     "output_type": "stream",
     "text": [
      "[Memory]19.5s, 0.3min   : Loading run_nested...\n",
      "[Memory]21.0s, 0.4min   : Loading run_nested...\n",
      "[Memory]22.5s, 0.4min   : Loading run_nested...\n",
      "[Memory]24.0s, 0.4min   : Loading run_nested...\n",
      "[Memory]24.0s, 0.4min   : Loading get_aplawd_training_pairs...\n"
     ]
    },
    {
     "data": {
      "text/html": [
       "<style type='text/css'>\n",
       ".datatable table.frame { margin-bottom: 0; }\n",
       ".datatable table.frame thead { border-bottom: none; }\n",
       ".datatable table.frame tr.coltypes td {  color: #FFFFFF;  line-height: 6px;  padding: 0 0.5em;}\n",
       ".datatable .bool    { background: #DDDD99; }\n",
       ".datatable .object  { background: #565656; }\n",
       ".datatable .int     { background: #5D9E5D; }\n",
       ".datatable .float   { background: #4040CC; }\n",
       ".datatable .str     { background: #CC4040; }\n",
       ".datatable .time    { background: #40CC40; }\n",
       ".datatable .row_index {  background: var(--jp-border-color3);  border-right: 1px solid var(--jp-border-color0);  color: var(--jp-ui-font-color3);  font-size: 9px;}\n",
       ".datatable .frame tbody td { text-align: left; }\n",
       ".datatable .frame tr.coltypes .row_index {  background: var(--jp-border-color0);}\n",
       ".datatable th:nth-child(2) { padding-left: 12px; }\n",
       ".datatable .hellipsis {  color: var(--jp-cell-editor-border-color);}\n",
       ".datatable .vellipsis {  background: var(--jp-layout-color0);  color: var(--jp-cell-editor-border-color);}\n",
       ".datatable .na {  color: var(--jp-cell-editor-border-color);  font-size: 80%;}\n",
       ".datatable .sp {  opacity: 0.25;}\n",
       ".datatable .footer { font-size: 9px; }\n",
       ".datatable .frame_dimensions {  background: var(--jp-border-color3);  border-top: 1px solid var(--jp-border-color0);  color: var(--jp-ui-font-color3);  display: inline-block;  opacity: 0.6;  padding: 1px 10px 1px 5px;}\n",
       "</style>\n"
      ],
      "text/plain": [
       "<IPython.core.display.HTML object>"
      ]
     },
     "metadata": {},
     "output_type": "display_data"
    },
    {
     "name": "stdout",
     "output_type": "stream",
     "text": [
      "[Memory]27.7s, 0.5min   : Loading get_vtrformants_training_data...\n",
      "[Memory]35.9s, 0.6min   : Loading run_nested...\n",
      "[Memory]36.7s, 0.6min   : Loading run_nested...\n",
      "[Memory]37.6s, 0.6min   : Loading run_nested...\n",
      "[Memory]38.5s, 0.6min   : Loading run_nested...\n",
      "[Memory]38.5s, 0.6min   : Loading get_vtrformants_training_data...\n"
     ]
    }
   ],
   "source": [
    "%run init.ipy\n",
    "\n",
    "from vtr.prior import bandwidth"
   ]
  },
  {
   "cell_type": "code",
   "execution_count": 4,
   "id": "583b4956-e0e8-4932-9a42-d18429b33a2b",
   "metadata": {},
   "outputs": [
    {
     "name": "stdout",
     "output_type": "stream",
     "text": [
      "[Memory]57.7s, 1.0min   : Loading get_vtrformants_training_data...\n",
      "[Memory]58.1s, 1.0min   : Loading run_nested...\n",
      "[Memory]58.6s, 1.0min   : Loading run_nested...\n"
     ]
    }
   ],
   "source": [
    "prior = bandwidth.TFB_prior()"
   ]
  },
  {
   "cell_type": "code",
   "execution_count": 22,
   "id": "e0284f6b-2016-4269-b2c9-7a1374c3cc4d",
   "metadata": {},
   "outputs": [
    {
     "data": {
      "text/plain": [
       "(array([ 626.24056569, 1508.24008306, 2229.93562579,   39.60147886,\n",
       "          98.6690927 ,  184.46523261]),\n",
       " array([ 626.24056569, 1508.24008306, 2229.93562579]),\n",
       " array([ 39.60147886,  98.6690927 , 184.46523261]))"
      ]
     },
     "execution_count": 22,
     "metadata": {},
     "output_type": "execute_result"
    }
   ],
   "source": [
    "T, *xy = prior.sample(seed=jaxkey())\n",
    "xy = np.array(xy)\n",
    "x, y = np.split(xy, 2)\n",
    "xy, x, y"
   ]
  },
  {
   "cell_type": "code",
   "execution_count": 11,
   "id": "1ab07560-680c-4346-9646-947594d08431",
   "metadata": {},
   "outputs": [
    {
     "data": {
      "text/plain": [
       "[array([ 575.54819204, 1490.40183115, 2508.85172279]),\n",
       " array([52.38096893, 49.07238698, 76.88592201])]"
      ]
     },
     "execution_count": 11,
     "metadata": {},
     "output_type": "execute_result"
    }
   ],
   "source": []
  },
  {
   "cell_type": "code",
   "execution_count": 30,
   "id": "54de5c19-6f1e-4630-82e5-538ec003ac37",
   "metadata": {},
   "outputs": [
    {
     "data": {
      "text/plain": [
       "DeviceArray([-0.12441172 +3.93478552j, -0.3099781  +9.47655193j,\n",
       "             -0.57951462+14.01109876j], dtype=complex128)"
      ]
     },
     "execution_count": 30,
     "metadata": {},
     "output_type": "execute_result"
    }
   ],
   "source": [
    "from dgf import core\n",
    "\n",
    "poles = core.make_poles(y, x)\n",
    "poles"
   ]
  },
  {
   "cell_type": "code",
   "execution_count": 143,
   "id": "30f77b0e-e3b9-498b-9a34-faae0b5392b2",
   "metadata": {},
   "outputs": [
    {
     "name": "stdout",
     "output_type": "stream",
     "text": [
      "[ 457.80449299 1446.00442058 2756.53750204]\n",
      "[42.86515346 57.92587634 82.14270853]\n"
     ]
    },
    {
     "data": {
      "image/png": "[encoded data removed]",
      "text/plain": [
       "<Figure size 432x288 with 1 Axes>"
      ]
     },
     "metadata": {
      "needs_background": "light"
     },
     "output_type": "display_data"
    }
   ],
   "source": [
    "from lib import constants\n",
    "\n",
    "T, *xy = prior.sample(seed=jaxkey())\n",
    "xy = np.array(xy)\n",
    "x, y = np.split(xy, 2)\n",
    "\n",
    "print(x)\n",
    "print(y)\n",
    "\n",
    "poles = core.make_poles(y, x) # rad kHz\n",
    "\n",
    "@jax.jit\n",
    "def htilde_power_dB(x, poles):\n",
    "    def labs(x):\n",
    "        return jnp.log10(jnp.abs(x))\n",
    "\n",
    "    s = (1j)*x*2*jnp.pi\n",
    "    G = jnp.sum(2*labs(poles))\n",
    "    denom = jnp.sum(labs(s - poles) + labs(s - jnp.conjugate(poles)))\n",
    "    correction = labs(2.) # Include power in negative frequencies\n",
    "    return 2*(G - denom) + correction\n",
    "\n",
    "f = np.linspace(0, constants.FS_KHZ/2, 500)\n",
    "\n",
    "h = jax.vmap(htilde_power_dB, (0, None))(f, poles)\n",
    "\n",
    "plot(f, h)\n",
    "for xi in x: axvline(xi/1000, color=\"grey\")"
   ]
  },
  {
   "cell_type": "markdown",
   "id": "c1c1fdac-26e4-45da-a3ca-9f8ca2a936de",
   "metadata": {},
   "source": [
    "OK the peak picking will not always be able to distuingish 3 peaks, because sometimes the peaks merge!!"
   ]
  },
  {
   "cell_type": "code",
   "execution_count": 141,
   "id": "1ad5c4f3-7ce7-4a6d-b55f-f14c2b9cbdd4",
   "metadata": {},
   "outputs": [
    {
     "data": {
      "text/plain": [
       "[<matplotlib.lines.Line2D at 0x7f157108c160>]"
      ]
     },
     "execution_count": 141,
     "metadata": {},
     "output_type": "execute_result"
    },
    {
     "data": {
      "image/png": "[encoded data removed]",
      "text/plain": [
       "<Figure size 432x288 with 1 Axes>"
      ]
     },
     "metadata": {
      "needs_background": "light"
     },
     "output_type": "display_data"
    }
   ],
   "source": [
    "import scipy.signal\n",
    "\n",
    "p = hstack([poles, conj(poles)])*1000\n",
    "k = prod(abs(p))\n",
    "\n",
    "w, H = scipy.signal.freqresp(([], p, k), 2*pi*f*1000)\n",
    "plot(f, 2*log10(abs(H)))"
   ]
  },
  {
   "cell_type": "code",
   "execution_count": null,
   "id": "ba35b45f-a072-4177-bb28-54d6b2b94b4d",
   "metadata": {},
   "outputs": [],
   "source": []
  }
 ],
 "metadata": {
  "kernelspec": {
   "display_name": "venv",
   "language": "python",
   "name": "venv"
  },
  "language_info": {
   "codemirror_mode": {
    "name": "ipython",
    "version": 3
   },
   "file_extension": ".py",
   "mimetype": "text/x-python",
   "name": "python",
   "nbconvert_exporter": "python",
   "pygments_lexer": "ipython3",
   "version": "3.8.10"
  }
 },
 "nbformat": 4,
 "nbformat_minor": 5
}
