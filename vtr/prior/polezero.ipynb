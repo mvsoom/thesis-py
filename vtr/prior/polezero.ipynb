{
 "cells": [
  {
   "cell_type": "markdown",
   "id": "df2b7a01-ed37-48b0-8d48-00fab4f9ad50",
   "metadata": {},
   "source": [
    "# PZ-model\n",
    "\n",
    "The above paragraph assumed an AP (all-pole) model. But we could also contemplate a PZ (pole-zero) model where the amplitudes *are* free parameters (equivalent to introducing zeros, but easier because we can get a better prior and we don't have to calculate the partial fraction expansion and we have nested models for $A_k=0$)."
   ]
  },
  {
   "cell_type": "code",
   "execution_count": null,
   "id": "c62ddecd-edeb-40f7-8644-5a881f86d86a",
   "metadata": {},
   "outputs": [],
   "source": []
  }
 ],
 "metadata": {
  "kernelspec": {
   "display_name": "venv",
   "language": "python",
   "name": "venv"
  },
  "language_info": {
   "codemirror_mode": {
    "name": "ipython",
    "version": 3
   },
   "file_extension": ".py",
   "mimetype": "text/x-python",
   "name": "python",
   "nbconvert_exporter": "python",
   "pygments_lexer": "ipython3",
   "version": "3.8.10"
  }
 },
 "nbformat": 4,
 "nbformat_minor": 5
}
