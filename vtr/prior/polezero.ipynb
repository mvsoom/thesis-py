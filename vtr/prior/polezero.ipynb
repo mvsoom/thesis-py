{
 "cells": [
  {
   "cell_type": "markdown",
   "id": "df2b7a01-ed37-48b0-8d48-00fab4f9ad50",
   "metadata": {},
   "source": [
    "# PZ-model\n",
    "\n",
    "The above paragraph assumed an AP (all-pole) model. But we could also contemplate a PZ (pole-zero) model where the amplitudes *are* free parameters (equivalent to introducing zeros, but easier because we can get a better prior and we don't have to calculate the partial fraction expansion and we have nested models for $A_k=0$)."
   ]
  },
  {
   "cell_type": "code",
   "execution_count": 1,
   "id": "c62ddecd-edeb-40f7-8644-5a881f86d86a",
   "metadata": {},
   "outputs": [
    {
     "name": "stderr",
     "output_type": "stream",
     "text": [
      "2022-11-22 23:17:46.967922: W tensorflow/compiler/xla/stream_executor/platform/default/dso_loader.cc:64] Could not load dynamic library 'libcudart.so.11.0'; dlerror: libcudart.so.11.0: cannot open shared object file: No such file or directory\n"
     ]
    },
    {
     "name": "stdout",
     "output_type": "stream",
     "text": [
      "[Memory]4.6s, 0.1min    : Loading get_aplawd_training_pairs...\n"
     ]
    },
    {
     "name": "stderr",
     "output_type": "stream",
     "text": [
      "WARNING:absl:No GPU/TPU found, falling back to CPU. (Set TF_CPP_MIN_LOG_LEVEL=0 and rerun for more info.)\n"
     ]
    },
    {
     "name": "stdout",
     "output_type": "stream",
     "text": [
      "[Memory]19.0s, 0.3min   : Loading run_nested...\n",
      "[Memory]20.5s, 0.3min   : Loading run_nested...\n",
      "[Memory]22.0s, 0.4min   : Loading run_nested...\n",
      "[Memory]23.5s, 0.4min   : Loading run_nested...\n",
      "[Memory]23.5s, 0.4min   : Loading get_aplawd_training_pairs...\n"
     ]
    },
    {
     "data": {
      "text/html": [
       "<style type='text/css'>\n",
       ".datatable table.frame { margin-bottom: 0; }\n",
       ".datatable table.frame thead { border-bottom: none; }\n",
       ".datatable table.frame tr.coltypes td {  color: #FFFFFF;  line-height: 6px;  padding: 0 0.5em;}\n",
       ".datatable .bool    { background: #DDDD99; }\n",
       ".datatable .object  { background: #565656; }\n",
       ".datatable .int     { background: #5D9E5D; }\n",
       ".datatable .float   { background: #4040CC; }\n",
       ".datatable .str     { background: #CC4040; }\n",
       ".datatable .time    { background: #40CC40; }\n",
       ".datatable .row_index {  background: var(--jp-border-color3);  border-right: 1px solid var(--jp-border-color0);  color: var(--jp-ui-font-color3);  font-size: 9px;}\n",
       ".datatable .frame tbody td { text-align: left; }\n",
       ".datatable .frame tr.coltypes .row_index {  background: var(--jp-border-color0);}\n",
       ".datatable th:nth-child(2) { padding-left: 12px; }\n",
       ".datatable .hellipsis {  color: var(--jp-cell-editor-border-color);}\n",
       ".datatable .vellipsis {  background: var(--jp-layout-color0);  color: var(--jp-cell-editor-border-color);}\n",
       ".datatable .na {  color: var(--jp-cell-editor-border-color);  font-size: 80%;}\n",
       ".datatable .sp {  opacity: 0.25;}\n",
       ".datatable .footer { font-size: 9px; }\n",
       ".datatable .frame_dimensions {  background: var(--jp-border-color3);  border-top: 1px solid var(--jp-border-color0);  color: var(--jp-ui-font-color3);  display: inline-block;  opacity: 0.6;  padding: 1px 10px 1px 5px;}\n",
       "</style>\n"
      ],
      "text/plain": [
       "<IPython.core.display.HTML object>"
      ]
     },
     "metadata": {},
     "output_type": "display_data"
    },
    {
     "name": "stdout",
     "output_type": "stream",
     "text": [
      "[Memory]27.4s, 0.5min   : Loading get_vtrformants_training_data...\n",
      "[Memory]34.6s, 0.6min   : Loading run_nested...\n",
      "[Memory]35.5s, 0.6min   : Loading run_nested...\n",
      "[Memory]36.4s, 0.6min   : Loading run_nested...\n",
      "[Memory]37.3s, 0.6min   : Loading run_nested...\n",
      "[Memory]37.3s, 0.6min   : Loading get_vtrformants_training_data...\n"
     ]
    }
   ],
   "source": [
    "%run init.ipy\n",
    "\n",
    "from vtr.prior import bandwidth\n",
    "from dgf import core\n",
    "from lib import constants\n",
    "from vtr.prior import allpole\n",
    "from vtr import spectrum"
   ]
  },
  {
   "cell_type": "markdown",
   "id": "19cc030a-daf8-4188-8bc4-a4286fb6644e",
   "metadata": {},
   "source": [
    "## Check amplitude prior\n",
    "\n",
    "von der Linden (2014) Eq. (21.67) p. 349"
   ]
  },
  {
   "cell_type": "code",
   "execution_count": 7,
   "id": "f462c0c2-6190-4ee0-a4a9-c2807f66166f",
   "metadata": {},
   "outputs": [
    {
     "name": "stdout",
     "output_type": "stream",
     "text": [
      "[Memory]1173.0s, 19.6min: Loading get_vtrformants_training_data...\n",
      "[Memory]1173.4s, 19.6min: Loading run_nested...\n",
      "[Memory]1173.8s, 19.6min: Loading run_nested...\n"
     ]
    }
   ],
   "source": [
    "from vtr.prior import bandwidth\n",
    "prior = bandwidth.TFB_prior()"
   ]
  },
  {
   "cell_type": "code",
   "execution_count": 127,
   "id": "c4f8d3cd-2a23-4115-a564-f5efe7d3b68f",
   "metadata": {},
   "outputs": [
    {
     "data": {
      "text/plain": [
       "(array([ 588.86684437, 1363.62701719, 2879.21954606]),\n",
       " array([ 42.66067359,  79.44726354, 300.92629481]))"
      ]
     },
     "execution_count": 127,
     "metadata": {},
     "output_type": "execute_result"
    }
   ],
   "source": [
    "T, *xy = prior.sample(seed=jaxkey())\n",
    "x, y = np.split(np.array(xy), 2)\n",
    "x, y"
   ]
  },
  {
   "cell_type": "code",
   "execution_count": 128,
   "id": "50d4d5f4-9b51-4b18-9967-8d6ed513772b",
   "metadata": {},
   "outputs": [],
   "source": [
    "def cos_overlap_matrix(x, y):\n",
    "    x1, x2 = x[:,None], x[None,:]\n",
    "    y1, y2 = y[:,None], y[None,:]\n",
    "    \n",
    "    num = (y1 + y2)*(x1**2 + x2**2 + (y1 + y2)**2)\n",
    "    den = ((x1 - x2)**2 + (y1 + y2)**2)*((x1 + x2)**2 + (y1 + y2)**2)\n",
    "    return num/den\n",
    "\n",
    "def sin_overlap_matrix(x, y):\n",
    "    x1, x2 = x[:,None], x[None,:]\n",
    "    y1, y2 = y[:,None], y[None,:]\n",
    "    \n",
    "    num = 2*x1*x2*(y1 + y2)\n",
    "    den = ((x1 - x2)**2 + (y1 + y2)**2)*((x1 + x2)**2 + (y1 + y2)**2)\n",
    "    return num/den\n",
    "\n",
    "def cos_sin_overlap_matrix(x, y):\n",
    "    x1, x2 = x[:,None], x[None,:]\n",
    "    y1, y2 = y[:,None], y[None,:]\n",
    "    \n",
    "    num = x2 *(-x1**2 + x2**2 + (y1 + y2)**2)\n",
    "    den = (x1**2 - x2**2)**2 + 2*(x1**2 + x2**2)*(y1 + y2)**2 + (y1 + y2)**4\n",
    "    return num/den\n",
    "    \n",
    "def overlap_matrix(x, y):\n",
    "    X = 2*np.pi*x\n",
    "    Y = np.pi*y\n",
    "    \n",
    "    c = cos_overlap_matrix(X, Y)\n",
    "    s = sin_overlap_matrix(X, Y)\n",
    "    cs = cos_sin_overlap_matrix(X, Y)\n",
    "    \n",
    "    S = np.block([\n",
    "        [c,    cs],\n",
    "        [cs.T, s ]\n",
    "    ])\n",
    "    return S\n",
    "\n",
    "K = len(x)\n",
    "E = 2*K\n",
    "S = overlap_matrix(x, y)\n",
    "Sigma = (1/E)*inv(S)"
   ]
  },
  {
   "cell_type": "code",
   "execution_count": 129,
   "id": "e76c5154-bfd3-4df4-a98c-3e86f529fdeb",
   "metadata": {},
   "outputs": [
    {
     "data": {
      "text/plain": [
       "array([ 5.64319497e+00,  5.11967105e+00,  1.19394679e-02,  1.50352009e+01,\n",
       "       -1.74658078e+01,  6.70740867e+00])"
      ]
     },
     "execution_count": 129,
     "metadata": {},
     "output_type": "execute_result"
    }
   ],
   "source": [
    "a = np.random.multivariate_normal(zeros(E), Sigma)\n",
    "a"
   ]
  },
  {
   "cell_type": "code",
   "execution_count": 130,
   "id": "f5571bfd-ff94-4e16-a524-d03b99ec2c46",
   "metadata": {},
   "outputs": [
    {
     "data": {
      "text/plain": [
       "0.7978633029621053"
      ]
     },
     "execution_count": 130,
     "metadata": {},
     "output_type": "execute_result"
    },
    {
     "data": {
      "image/png": "[encoded data removed]",
      "text/plain": [
       "<Figure size 432x288 with 1 Axes>"
      ]
     },
     "metadata": {
      "needs_background": "light"
     },
     "output_type": "display_data"
    }
   ],
   "source": [
    "def eval_G(t, x, y):\n",
    "    K = len(x)\n",
    "    G = np.empty((len(t), 2*K))\n",
    "    X, Y, T = x[None,:], y[None,:], t[:,None]\n",
    "    \n",
    "    G[:, :K] = np.cos(2.*np.pi*X*T)*np.exp(-np.pi*Y*T)\n",
    "    G[:, K:] = np.sin(2.*np.pi*X*T)*np.exp(-np.pi*Y*T)\n",
    "    return G # (N, m)\n",
    "\n",
    "t, dt = np.linspace(0., .05, 100000, retstep=True) # sec\n",
    "G = eval_G(t, x, y)\n",
    "s = G @ a\n",
    "plot(t, s)\n",
    "mu2 = np.dot(s, s)*dt\n",
    "mu2"
   ]
  },
  {
   "cell_type": "code",
   "execution_count": 131,
   "id": "26689ac1-f015-422e-bf1f-e83bafaadeb0",
   "metadata": {},
   "outputs": [
    {
     "data": {
      "image/png": "[encoded data removed]",
      "text/plain": [
       "<Figure size 432x288 with 1 Axes>"
      ]
     },
     "metadata": {
      "needs_background": "light"
     },
     "output_type": "display_data"
    }
   ],
   "source": [
    "mu2s = []\n",
    "for _ in range(10000):\n",
    "    a = np.random.multivariate_normal(zeros(E), Sigma)\n",
    "    s = G @ a\n",
    "    mu2 = np.dot(s, s)*dt\n",
    "    mu2s += [mu2]\n",
    "\n",
    "hist(mu2s, bins=50);"
   ]
  },
  {
   "cell_type": "code",
   "execution_count": 132,
   "id": "1050951a-dd31-41d4-968b-13bc9daff800",
   "metadata": {},
   "outputs": [
    {
     "data": {
      "text/plain": [
       "0.9972163401911471"
      ]
     },
     "execution_count": 132,
     "metadata": {},
     "output_type": "execute_result"
    }
   ],
   "source": [
    "mean(mu2s)"
   ]
  },
  {
   "cell_type": "markdown",
   "id": "89f027aa-cd98-430a-909f-899b775b0ada",
   "metadata": {},
   "source": [
    "## Check power spectrum\n",
    "\n",
    "Still need to test with LTI implementation (need the zeros for that)."
   ]
  },
  {
   "cell_type": "code",
   "execution_count": 197,
   "id": "1bd3f512-afcc-4fc0-8290-7ca288fb9c65",
   "metadata": {},
   "outputs": [
    {
     "data": {
      "text/plain": [
       "-0.38061377173193844"
      ]
     },
     "execution_count": 197,
     "metadata": {},
     "output_type": "execute_result"
    },
    {
     "data": {
      "image/png": "[encoded data removed]",
      "text/plain": [
       "<Figure size 432x288 with 1 Axes>"
      ]
     },
     "metadata": {
      "needs_background": "light"
     },
     "output_type": "display_data"
    }
   ],
   "source": [
    "def power_spectrum_dB(f, a, x, y):\n",
    "    \"\"\"Calculate the power spectrum of the impulse response in dB\n",
    "    \n",
    "    The impulse response is a sum of decaying sinusoids which are\n",
    "    parametrized by the amplitudes `A` and bandwidths `y` and\n",
    "    frequencies `x`. This function computes the analytical\n",
    "    magnitude spectrum of that sum and evaluates it at `freqs`. The\n",
    "    Fourier transform used is the same as (Eq. 1) in the [Wiki page][1].\n",
    "    For an illustration on a simpler example, see ./FFT_scaling.ipynb.\n",
    "    \n",
    "    We calculate this in dB because Gaussian statistics are more meaningful\n",
    "    in this domain (for example, the power will always be positive.)\n",
    "\n",
    "        [1]: https://en.wikipedia.org/wiki/Fourier_transform\n",
    "    \"\"\"\n",
    "    A = a[:,None]\n",
    "    X = x[:,None]\n",
    "    Y = y[:,None]\n",
    "    s = (2*np.pi*1j)*f[None,:]\n",
    "    \n",
    "    Acos, Asin = np.split(A, 2)\n",
    "    \n",
    "    # Calculate analytical Fourier transform\n",
    "    num = (np.pi*Y + s)*Acos + 2*np.pi*X*Asin\n",
    "    den = (np.pi*Y + s)**2 + (2*np.pi*X)**2\n",
    "    transform = np.sum(num/den, axis=0) # Sum over (bandwidth, frequency) pairs\n",
    "    power_dB = 20*np.log10(np.abs(transform))\n",
    "    return power_dB\n",
    "\n",
    "a = np.random.multivariate_normal(zeros(E), Sigma)\n",
    "f = np.linspace(0, 5000., 1000)\n",
    "power = power_spectrum_dB(f, a, x, y)\n",
    "plot(f, power)\n",
    "for xi in x: axvline(xi)\n",
    "spectrum.fit_tilt(f, power)"
   ]
  },
  {
   "cell_type": "code",
   "execution_count": 198,
   "id": "df380e3b-385a-4b72-b8e2-b796c66e0ddb",
   "metadata": {},
   "outputs": [
    {
     "data": {
      "text/plain": [
       "-5.087215147795832"
      ]
     },
     "execution_count": 198,
     "metadata": {},
     "output_type": "execute_result"
    },
    {
     "data": {
      "image/png": "[encoded data removed]",
      "text/plain": [
       "<Figure size 432x288 with 1 Axes>"
      ]
     },
     "metadata": {
      "needs_background": "light"
     },
     "output_type": "display_data"
    }
   ],
   "source": [
    "f = constants.spectrum_frequencies(constants.TIMIT_FS_HZ)\n",
    "power = power_spectrum_dB(f, a, x, y)\n",
    "plot(f, power)\n",
    "for xi in x: axvline(xi)\n",
    "spectrum.fit_tilt(f, power)"
   ]
  },
  {
   "cell_type": "code",
   "execution_count": null,
   "id": "5b12ab4e-4d56-4090-94eb-2a0e2385690f",
   "metadata": {},
   "outputs": [],
   "source": []
  }
 ],
 "metadata": {
  "kernelspec": {
   "display_name": "venv",
   "language": "python",
   "name": "venv"
  },
  "language_info": {
   "codemirror_mode": {
    "name": "ipython",
    "version": 3
   },
   "file_extension": ".py",
   "mimetype": "text/x-python",
   "name": "python",
   "nbconvert_exporter": "python",
   "pygments_lexer": "ipython3",
   "version": "3.8.10"
  }
 },
 "nbformat": 4,
 "nbformat_minor": 5
}
