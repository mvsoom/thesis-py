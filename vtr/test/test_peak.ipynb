{
 "cells": [
  {
   "cell_type": "markdown",
   "metadata": {},
   "source": [
    "# Deriving formant estimates from the VTRs\n",
    "\n",
    "We estimate formant center frequency and bandwidth using the spectral envelope of the VT transfer function containing the VTRs.\n",
    "\n",
    "To get this envelope, we use heuristics: smoothing (essentially low-pass filtering) and peak-picking. Error bars are obtained by repeating this procedure for each sample from the VT transfer function posterior.\n",
    "\n",
    "Our heuristics are similar to Hanna (2016):\n",
    "\n",
    "> [T]he approximate location of the maxima\n",
    "and minima of the impedance spectra were identified with a\n",
    "sixth order Savitzky–Golay smoothing filter (Savitzky and\n",
    "Golay, 1964). Parabolas were fitted to both sides of each of\n",
    "the extrema and their crossover point used to determine the\n",
    "frequency f and the impedance magnitude jZj. The bandwidth B was\n",
    "determined as the frequency range at half maximum power. (p. 2927)\n",
    "\n",
    "We use olny a second order (parabola-fitting) Savitzky–Golay filter to smooth the spectrum, since it is already so smooth. This kind of smoothing is very much like simple low-pass filtering (we also tried a second-order Butterworth filter with similar results but harder-to-interpret parameters) and the connection to cepstral processing is clear.\n",
    "\n",
    "Thus $B$ is determined from the FWHM, or -3 dB from the local maximum of the power spectral envelope. This is standard practice for researchers measuring directly from the spectral envelope (rather than root-solving procedures as e.g. advocated by Fulup 2011 and used e.g. by Praat) and underlies the empirical data used for the Hawks relationship."
   ]
  },
  {
   "cell_type": "code",
   "execution_count": 87,
   "metadata": {},
   "outputs": [],
   "source": [
    "%run init.ipy\n",
    "import scipy.signal\n",
    "from vtr import peak\n",
    "from vtr.prior import allpole\n",
    "from vtr.prior import bandwidth\n",
    "from dgf import core"
   ]
  },
  {
   "cell_type": "code",
   "execution_count": 88,
   "metadata": {},
   "outputs": [],
   "source": [
    "num_freq = 2500\n",
    "f, df = np.linspace(0, 5000., num_freq, retstep=True)"
   ]
  },
  {
   "cell_type": "code",
   "execution_count": 89,
   "metadata": {},
   "outputs": [
    {
     "name": "stdout",
     "output_type": "stream",
     "text": [
      "[Memory]4520.5s, 75.3min: Loading get_vtrformants_training_data...\n",
      "[Memory]4521.2s, 75.4min: Loading run_nested...\n",
      "[Memory]4521.6s, 75.4min: Loading run_nested...\n"
     ]
    }
   ],
   "source": [
    "prior = bandwidth.TFB_prior()\n",
    "\n",
    "def sample_power_spectrum_dB(K=3, key=None):\n",
    "    key = key if key is not None else jaxkey()\n",
    "    T, *xy = prior.sample(seed=key)\n",
    "    xy = np.array(xy)\n",
    "    x, y = np.split(xy, 2)\n",
    "    x = x[:K]\n",
    "    y = y[:K]\n",
    "    poles = core.make_poles(y, x)\n",
    "    power = allpole.transfer_function_power_dB(f/1000, poles)\n",
    "    return key, x, y, power"
   ]
  },
  {
   "cell_type": "code",
   "execution_count": 92,
   "metadata": {},
   "outputs": [
    {
     "name": "stdout",
     "output_type": "stream",
     "text": [
      "[      0 5756143]\n",
      "F = [851.35965546]\n",
      "F^ = [851.00013616]\n",
      "B = [51.14281909]\n",
      "B^ = [51.22280644]\n"
     ]
    },
    {
     "data": {
      "image/png": "[encoded data removed]",
      "text/plain": [
       "<Figure size 432x288 with 1 Axes>"
      ]
     },
     "metadata": {
      "needs_background": "light"
     },
     "output_type": "display_data"
    }
   ],
   "source": [
    "FILTER_WINDOW_LENGTH = 250 # Hz\n",
    "PEAK_PROMINENCE = 3. # dB\n",
    "PEAK_DISTANCE = 200 # Hz\n",
    "FWHM_POWER_DROP = 3. # dB\n",
    "\n",
    "key, x, y, power = sample_power_spectrum_dB(1, jaxkey())\n",
    "\n",
    "print(key)\n",
    "\n",
    "#output = scipy.signal.savgol_filter(power, peak.get_polyorder(FILTER_WINDOW_LENGTH, df), 2)\n",
    "output = power\n",
    "\n",
    "df_new = 1 # Hz\n",
    "\n",
    "output_up, f_up = scipy.signal.resample(output, int(len(output)*df/df_new), f, window='hamming')\n",
    "accept = (100 <= f_up) & (f_up <= 5000)\n",
    "output_up = output_up[accept]\n",
    "f_up = f_up[accept]\n",
    "\n",
    "peaks, _ = scipy.signal.find_peaks(output_up, distance=PEAK_DISTANCE // df, prominence=PEAK_PROMINENCE)\n",
    "\n",
    "_, left_bases, right_bases = scipy.signal.peak_prominences(output_up, peaks)\n",
    "prominences = np.repeat(FWHM_POWER_DROP, len(peaks))\n",
    "prominence_data = (prominences, left_bases, right_bases)\n",
    "\n",
    "bandwidths, width_heights, left_lps, right_lps = scipy.signal.peak_widths(output_up, peaks, rel_height=1, prominence_data=prominence_data)\n",
    "\n",
    "formant_center = f_up[peaks]\n",
    "\n",
    "print(\"F =\", x)\n",
    "print(\"F^ =\", formant_center)\n",
    "print(\"B =\", y)\n",
    "print(\"B^ =\", bandwidths)\n",
    "\n",
    "plot(f, power)\n",
    "plot(f_up, output_up)\n",
    "plot(formant_center, output_up[peaks], \"x\")\n",
    "plt.hlines(width_heights, interp(left_lps, arange(len(f_up)), f_up), interp(right_lps, arange(len(f_up)), f_up), color=\"C3\")\n",
    "\n",
    "plt.grid(\"on\")\n",
    "plt.minorticks_on()\n",
    "\n",
    "xlim(0, x[-1]*1.1);\n",
    "#ylim(-20, None);\n"
   ]
  },
  {
   "cell_type": "code",
   "execution_count": 13,
   "metadata": {},
   "outputs": [
    {
     "data": {
      "text/plain": [
       "array([-67.02299329, -65.65027802, -64.18148638, -62.61887243,\n",
       "       -60.96556029])"
      ]
     },
     "execution_count": 13,
     "metadata": {},
     "output_type": "execute_result"
    }
   ],
   "source": [
    "output_up[-5:]"
   ]
  },
  {
   "cell_type": "code",
   "execution_count": null,
   "metadata": {},
   "outputs": [],
   "source": []
  }
 ],
 "metadata": {
  "kernelspec": {
   "display_name": "Python 3 (ipykernel)",
   "language": "python",
   "name": "python3"
  },
  "language_info": {
   "codemirror_mode": {
    "name": "ipython",
    "version": 3
   },
   "file_extension": ".py",
   "mimetype": "text/x-python",
   "name": "python",
   "nbconvert_exporter": "python",
   "pygments_lexer": "ipython3",
   "version": "3.8.10"
  }
 },
 "nbformat": 4,
 "nbformat_minor": 4
}
